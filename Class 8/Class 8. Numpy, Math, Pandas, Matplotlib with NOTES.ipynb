{
 "cells": [
  {
   "cell_type": "markdown",
   "metadata": {},
   "source": [
    "# Class 8 Content\n",
    "\n",
    "- <code>Numpy</code>, <code>math</code> modules\n",
    "- <code>Pandas</code>: coding a variable, pivoting data, handling missing values\n",
    "- Correlations and corr matrix, using <code>seaborn</code> to visualise corr matrix\n",
    "- <code>Matplotlib</code>: vizualising data distributions - histograms"
   ]
  },
  {
   "cell_type": "code",
   "execution_count": 1,
   "metadata": {},
   "outputs": [],
   "source": [
    "#importing modules that we're going to use at the beginning of the file\n",
    "import numpy as np\n",
    "import math\n",
    "import pandas as pd\n",
    "import matplotlib.pyplot as plt\n",
    "import seaborn as sns"
   ]
  },
  {
   "cell_type": "code",
   "execution_count": 2,
   "metadata": {},
   "outputs": [],
   "source": [
    "#creating a list of numbers\n",
    "x=[1,2,4.6,5.2]"
   ]
  },
  {
   "cell_type": "code",
   "execution_count": 3,
   "metadata": {},
   "outputs": [
    {
     "data": {
      "text/plain": [
       "5.2"
      ]
     },
     "execution_count": 3,
     "metadata": {},
     "output_type": "execute_result"
    }
   ],
   "source": [
    "#selecting first value of the list\n",
    "x[-1]"
   ]
  },
  {
   "cell_type": "code",
   "execution_count": 4,
   "metadata": {},
   "outputs": [
    {
     "data": {
      "text/plain": [
       "6"
      ]
     },
     "execution_count": 4,
     "metadata": {},
     "output_type": "execute_result"
    }
   ],
   "source": [
    "math.ceil(x[-1])"
   ]
  },
  {
   "cell_type": "code",
   "execution_count": 5,
   "metadata": {},
   "outputs": [
    {
     "data": {
      "text/plain": [
       "1.4142135623730951"
      ]
     },
     "execution_count": 5,
     "metadata": {},
     "output_type": "execute_result"
    }
   ],
   "source": [
    "math.sqrt(x[1])"
   ]
  },
  {
   "cell_type": "code",
   "execution_count": 6,
   "metadata": {},
   "outputs": [
    {
     "data": {
      "text/plain": [
       "2.302585092994046"
      ]
     },
     "execution_count": 6,
     "metadata": {},
     "output_type": "execute_result"
    }
   ],
   "source": [
    "math.log(10)"
   ]
  },
  {
   "cell_type": "markdown",
   "metadata": {},
   "source": [
    "# Numpy\n",
    "\n",
    "Numpy (Numerical Python)  it's a fundamental package for scientific computing in Python. NumPy provides Python with an extensive math library capable of performing numerical computations effectively and efficiently. \n",
    "\n",
    "The advantages of numpy are:\n",
    "\n",
    "- **Speed**. When performing operations on large arrays NumPy can often perform several orders of magnitude faster than Python lists. This speed comes from the nature of NumPy arrays being memory-efficient and from optimized algorithms used by NumPy for doing arithmetic, statistical, and linear algebra operations.\n",
    "\n",
    "- Another great feature of NumPy is that it has **multidimensional array data structures** that can represent vectors and matrices. You will learn all about vectors and matrices in the Linear Algebra section of this course later on, and as you will soon see, a lot of machine learning algorithms rely on matrix operations. For example, when training a Neural Network, you often have to carry out many matrix multiplications. NumPy is optimized for matrix operations and it allows us to do Linear Algebra operations effectively and efficiently, making it very suitable for solving machine learning problems.\n",
    "\n",
    "- Another great advantage of NumPy over Python lists is that NumPy has a **large number of optimized built-in mathematical functions**. These functions allow you to do a variety of complex mathematical computations very fast and with very little code (avoiding the use of complicated loops) making your programs more readable and easier to understand."
   ]
  },
  {
   "cell_type": "markdown",
   "metadata": {},
   "source": [
    "> %%time returns how long it takes from python to run the code b"
   ]
  },
  {
   "cell_type": "code",
   "execution_count": 7,
   "metadata": {},
   "outputs": [
    {
     "name": "stdout",
     "output_type": "stream",
     "text": [
      "Wall time: 0 ns\n"
     ]
    },
    {
     "data": {
      "text/plain": [
       "12.8"
      ]
     },
     "execution_count": 7,
     "metadata": {},
     "output_type": "execute_result"
    }
   ],
   "source": [
    "%%time \n",
    "sum(x)"
   ]
  },
  {
   "cell_type": "code",
   "execution_count": 8,
   "metadata": {},
   "outputs": [],
   "source": [
    "#creating numpy array of random 1mln numbers\n",
    "random_list=np.random.random(1000000)"
   ]
  },
  {
   "cell_type": "code",
   "execution_count": 9,
   "metadata": {},
   "outputs": [
    {
     "data": {
      "text/plain": [
       "array([0.45750795, 0.36205464, 0.61883742, 0.88168171, 0.82694766,\n",
       "       0.01540985, 0.04419868, 0.77519558, 0.66334598, 0.65226142,\n",
       "       0.28059046, 0.10632223, 0.46057488, 0.7599129 , 0.41233823,\n",
       "       0.34827726, 0.47562923, 0.15665524, 0.21804635, 0.1154768 ,\n",
       "       0.18101893, 0.29865729, 0.62308661, 0.33924929, 0.17109541,\n",
       "       0.48714777, 0.57582246, 0.88759263, 0.54601393, 0.02967745,\n",
       "       0.18328045, 0.60749907, 0.03522801, 0.59394222, 0.12780782,\n",
       "       0.20853097, 0.19622972, 0.52944305, 0.27804139, 0.29021491,\n",
       "       0.99225084, 0.12872001, 0.71308803, 0.60240856, 0.05870823,\n",
       "       0.13137742, 0.99844783, 0.60835411, 0.90746755, 0.50610374,\n",
       "       0.52140215, 0.17909843, 0.09645654, 0.38898799, 0.92997861,\n",
       "       0.58203231, 0.74474702, 0.73050156, 0.77758363, 0.98258989,\n",
       "       0.23849734, 0.17109669, 0.67929966, 0.78544114, 0.9131588 ,\n",
       "       0.08563813, 0.51166413, 0.03828983, 0.82944757, 0.90315398,\n",
       "       0.889708  , 0.48877303, 0.4465449 , 0.5415703 , 0.8943771 ,\n",
       "       0.71221958, 0.50699627, 0.56786498, 0.31344321, 0.54706987,\n",
       "       0.73641549, 0.39228427, 0.37484291, 0.20221402, 0.34996629,\n",
       "       0.57364888, 0.6823643 , 0.12055187, 0.22018351, 0.36917046,\n",
       "       0.16418622, 0.54207176, 0.25341342, 0.93432789, 0.75954096,\n",
       "       0.9584806 , 0.84935559, 0.92568617, 0.69461397, 0.92675218])"
      ]
     },
     "execution_count": 9,
     "metadata": {},
     "output_type": "execute_result"
    }
   ],
   "source": [
    "random_list[:100]"
   ]
  },
  {
   "cell_type": "code",
   "execution_count": 10,
   "metadata": {},
   "outputs": [
    {
     "name": "stdout",
     "output_type": "stream",
     "text": [
      "Wall time: 86.1 ms\n"
     ]
    },
    {
     "data": {
      "text/plain": [
       "500000.9054116659"
      ]
     },
     "execution_count": 10,
     "metadata": {},
     "output_type": "execute_result"
    }
   ],
   "source": [
    "%%time\n",
    "sum(random_list) #usin standar sum() function to sum up 1mln numbers"
   ]
  },
  {
   "cell_type": "code",
   "execution_count": 11,
   "metadata": {},
   "outputs": [
    {
     "name": "stdout",
     "output_type": "stream",
     "text": [
      "Wall time: 0 ns\n"
     ]
    },
    {
     "data": {
      "text/plain": [
       "500000.90541167546"
      ]
     },
     "execution_count": 11,
     "metadata": {},
     "output_type": "execute_result"
    }
   ],
   "source": [
    "%%time\n",
    "np.sum(random_list) #using numpy sum function to sum up 1mln numbers"
   ]
  },
  {
   "cell_type": "markdown",
   "metadata": {},
   "source": [
    "> **Conclusion**: <code>numpy</code> is much faster than python built in standard functions."
   ]
  },
  {
   "cell_type": "code",
   "execution_count": 12,
   "metadata": {},
   "outputs": [
    {
     "data": {
      "text/plain": [
       "(1000000,)"
      ]
     },
     "execution_count": 12,
     "metadata": {},
     "output_type": "execute_result"
    }
   ],
   "source": [
    "#checking shape of the nupmy array\n",
    "random_list.shape"
   ]
  },
  {
   "cell_type": "code",
   "execution_count": 13,
   "metadata": {},
   "outputs": [
    {
     "data": {
      "text/plain": [
       "array([[1, 2, 3, 4],\n",
       "       [2, 5, 6, 7]])"
      ]
     },
     "execution_count": 13,
     "metadata": {},
     "output_type": "execute_result"
    }
   ],
   "source": [
    "#creating multidimensional array\n",
    "matr_1=np.array([[1,2,3,4],\n",
    "       [2,5,6,7]\n",
    "       ])\n",
    "matr_1"
   ]
  },
  {
   "cell_type": "code",
   "execution_count": 14,
   "metadata": {},
   "outputs": [
    {
     "data": {
      "text/plain": [
       "(2, 4)"
      ]
     },
     "execution_count": 14,
     "metadata": {},
     "output_type": "execute_result"
    }
   ],
   "source": [
    "#checking shape of the nupmy array\n",
    "matr_1.shape"
   ]
  },
  {
   "cell_type": "code",
   "execution_count": 15,
   "metadata": {},
   "outputs": [
    {
     "data": {
      "text/plain": [
       "3.75"
      ]
     },
     "execution_count": 15,
     "metadata": {},
     "output_type": "execute_result"
    }
   ],
   "source": [
    "#calculating average of all values in the nupmy array\n",
    "np.mean(matr_1)"
   ]
  },
  {
   "cell_type": "code",
   "execution_count": 16,
   "metadata": {},
   "outputs": [
    {
     "data": {
      "text/plain": [
       "2.5"
      ]
     },
     "execution_count": 16,
     "metadata": {},
     "output_type": "execute_result"
    }
   ],
   "source": [
    "#calculating average of values in the first row of the array\n",
    "matr_1[0].mean()"
   ]
  },
  {
   "cell_type": "code",
   "execution_count": 17,
   "metadata": {},
   "outputs": [
    {
     "name": "stdout",
     "output_type": "stream",
     "text": [
      "2.5\n",
      "5.0\n"
     ]
    }
   ],
   "source": [
    "#using for loop to print mean value of each row in the numpy array\n",
    "for i in range(len(matr_1)):\n",
    "    print(np.mean(matr_1[i]))"
   ]
  },
  {
   "cell_type": "code",
   "execution_count": 18,
   "metadata": {},
   "outputs": [
    {
     "data": {
      "text/plain": [
       "2"
      ]
     },
     "execution_count": 18,
     "metadata": {},
     "output_type": "execute_result"
    }
   ],
   "source": [
    "#length of numpy array\n",
    "len(matr_1)"
   ]
  },
  {
   "cell_type": "code",
   "execution_count": 19,
   "metadata": {},
   "outputs": [
    {
     "data": {
      "text/plain": [
       "2"
      ]
     },
     "execution_count": 19,
     "metadata": {},
     "output_type": "execute_result"
    }
   ],
   "source": [
    "#shape of the first row in the numpy array\n",
    "matr_1.shape[0]"
   ]
  },
  {
   "cell_type": "code",
   "execution_count": 20,
   "metadata": {},
   "outputs": [
    {
     "data": {
      "text/plain": [
       "dtype('int32')"
      ]
     },
     "execution_count": 20,
     "metadata": {},
     "output_type": "execute_result"
    }
   ],
   "source": [
    "#type of values in the array\n",
    "matr_1.dtype"
   ]
  },
  {
   "cell_type": "code",
   "execution_count": 21,
   "metadata": {},
   "outputs": [
    {
     "data": {
      "text/plain": [
       "2"
      ]
     },
     "execution_count": 21,
     "metadata": {},
     "output_type": "execute_result"
    }
   ],
   "source": [
    "#dimensions\n",
    "matr_1.ndim"
   ]
  },
  {
   "cell_type": "code",
   "execution_count": 22,
   "metadata": {},
   "outputs": [
    {
     "name": "stdout",
     "output_type": "stream",
     "text": [
      "2.5 1.118033988749895 3.34 1 4\n"
     ]
    }
   ],
   "source": [
    "print(\n",
    "np.median(matr_1[0]),\n",
    "np.std(matr_1[0]),\n",
    "np.percentile(matr_1[0],78),\n",
    "np.min(matr_1[0]),\n",
    "np.max(matr_1[0])\n",
    ")"
   ]
  },
  {
   "cell_type": "markdown",
   "metadata": {},
   "source": [
    "# Pandas"
   ]
  },
  {
   "cell_type": "code",
   "execution_count": 23,
   "metadata": {},
   "outputs": [],
   "source": [
    "#reading data\n",
    "data=pd.read_excel('airbnb.xlsx')"
   ]
  },
  {
   "cell_type": "code",
   "execution_count": 24,
   "metadata": {},
   "outputs": [
    {
     "data": {
      "text/html": [
       "<div>\n",
       "<style scoped>\n",
       "    .dataframe tbody tr th:only-of-type {\n",
       "        vertical-align: middle;\n",
       "    }\n",
       "\n",
       "    .dataframe tbody tr th {\n",
       "        vertical-align: top;\n",
       "    }\n",
       "\n",
       "    .dataframe thead th {\n",
       "        text-align: right;\n",
       "    }\n",
       "</style>\n",
       "<table border=\"1\" class=\"dataframe\">\n",
       "  <thead>\n",
       "    <tr style=\"text-align: right;\">\n",
       "      <th></th>\n",
       "      <th>Host Id</th>\n",
       "      <th>Host Since</th>\n",
       "      <th>Name</th>\n",
       "      <th>Neighbourhood</th>\n",
       "      <th>Property Type</th>\n",
       "      <th>Room Type</th>\n",
       "      <th>Zipcode</th>\n",
       "      <th>Beds</th>\n",
       "      <th>Number Of Reviews</th>\n",
       "      <th>Price</th>\n",
       "      <th>Review Scores Rating</th>\n",
       "    </tr>\n",
       "  </thead>\n",
       "  <tbody>\n",
       "    <tr>\n",
       "      <th>0</th>\n",
       "      <td>5162530</td>\n",
       "      <td>NaT</td>\n",
       "      <td>1 Bedroom in Prime Williamsburg</td>\n",
       "      <td>Brooklyn</td>\n",
       "      <td>Apartment</td>\n",
       "      <td>Entire home/apt</td>\n",
       "      <td>11249.0</td>\n",
       "      <td>1.0</td>\n",
       "      <td>0</td>\n",
       "      <td>145</td>\n",
       "      <td>NaN</td>\n",
       "    </tr>\n",
       "    <tr>\n",
       "      <th>1</th>\n",
       "      <td>33134899</td>\n",
       "      <td>NaT</td>\n",
       "      <td>Sunny, Private room in Bushwick</td>\n",
       "      <td>Brooklyn</td>\n",
       "      <td>Apartment</td>\n",
       "      <td>Private room</td>\n",
       "      <td>11206.0</td>\n",
       "      <td>1.0</td>\n",
       "      <td>1</td>\n",
       "      <td>37</td>\n",
       "      <td>NaN</td>\n",
       "    </tr>\n",
       "    <tr>\n",
       "      <th>2</th>\n",
       "      <td>39608626</td>\n",
       "      <td>NaT</td>\n",
       "      <td>Sunny Room in Harlem</td>\n",
       "      <td>Manhattan</td>\n",
       "      <td>Apartment</td>\n",
       "      <td>Private room</td>\n",
       "      <td>10032.0</td>\n",
       "      <td>1.0</td>\n",
       "      <td>1</td>\n",
       "      <td>28</td>\n",
       "      <td>NaN</td>\n",
       "    </tr>\n",
       "    <tr>\n",
       "      <th>3</th>\n",
       "      <td>500</td>\n",
       "      <td>2008-06-26</td>\n",
       "      <td>Gorgeous 1 BR with Private Balcony</td>\n",
       "      <td>Manhattan</td>\n",
       "      <td>Apartment</td>\n",
       "      <td>Entire home/apt</td>\n",
       "      <td>10024.0</td>\n",
       "      <td>3.0</td>\n",
       "      <td>0</td>\n",
       "      <td>199</td>\n",
       "      <td>NaN</td>\n",
       "    </tr>\n",
       "    <tr>\n",
       "      <th>4</th>\n",
       "      <td>500</td>\n",
       "      <td>2008-06-26</td>\n",
       "      <td>Trendy Times Square Loft</td>\n",
       "      <td>Manhattan</td>\n",
       "      <td>Apartment</td>\n",
       "      <td>Private room</td>\n",
       "      <td>10036.0</td>\n",
       "      <td>3.0</td>\n",
       "      <td>39</td>\n",
       "      <td>549</td>\n",
       "      <td>96.0</td>\n",
       "    </tr>\n",
       "  </tbody>\n",
       "</table>\n",
       "</div>"
      ],
      "text/plain": [
       "    Host Id Host Since                                Name Neighbourhood   \\\n",
       "0   5162530        NaT     1 Bedroom in Prime Williamsburg       Brooklyn   \n",
       "1  33134899        NaT     Sunny, Private room in Bushwick       Brooklyn   \n",
       "2  39608626        NaT                Sunny Room in Harlem      Manhattan   \n",
       "3       500 2008-06-26  Gorgeous 1 BR with Private Balcony      Manhattan   \n",
       "4       500 2008-06-26            Trendy Times Square Loft      Manhattan   \n",
       "\n",
       "  Property Type        Room Type  Zipcode  Beds  Number Of Reviews  Price  \\\n",
       "0     Apartment  Entire home/apt  11249.0   1.0                  0    145   \n",
       "1     Apartment     Private room  11206.0   1.0                  1     37   \n",
       "2     Apartment     Private room  10032.0   1.0                  1     28   \n",
       "3     Apartment  Entire home/apt  10024.0   3.0                  0    199   \n",
       "4     Apartment     Private room  10036.0   3.0                 39    549   \n",
       "\n",
       "   Review Scores Rating  \n",
       "0                   NaN  \n",
       "1                   NaN  \n",
       "2                   NaN  \n",
       "3                   NaN  \n",
       "4                  96.0  "
      ]
     },
     "execution_count": 24,
     "metadata": {},
     "output_type": "execute_result"
    }
   ],
   "source": [
    "data.head()"
   ]
  },
  {
   "cell_type": "code",
   "execution_count": 25,
   "metadata": {},
   "outputs": [
    {
     "name": "stdout",
     "output_type": "stream",
     "text": [
      "<class 'pandas.core.frame.DataFrame'>\n",
      "RangeIndex: 30478 entries, 0 to 30477\n",
      "Data columns (total 11 columns):\n",
      " #   Column                Non-Null Count  Dtype         \n",
      "---  ------                --------------  -----         \n",
      " 0   Host Id               30478 non-null  int64         \n",
      " 1   Host Since            30475 non-null  datetime64[ns]\n",
      " 2   Name                  30478 non-null  object        \n",
      " 3   Neighbourhood         30478 non-null  object        \n",
      " 4   Property Type         30475 non-null  object        \n",
      " 5   Room Type             30478 non-null  object        \n",
      " 6   Zipcode               30344 non-null  float64       \n",
      " 7   Beds                  30393 non-null  float64       \n",
      " 8   Number Of Reviews     30478 non-null  int64         \n",
      " 9   Price                 30478 non-null  int64         \n",
      " 10  Review Scores Rating  22155 non-null  float64       \n",
      "dtypes: datetime64[ns](1), float64(3), int64(3), object(4)\n",
      "memory usage: 2.6+ MB\n"
     ]
    }
   ],
   "source": [
    "data.info()"
   ]
  },
  {
   "cell_type": "code",
   "execution_count": 26,
   "metadata": {},
   "outputs": [
    {
     "data": {
      "text/plain": [
       "(30478, 11)"
      ]
     },
     "execution_count": 26,
     "metadata": {},
     "output_type": "execute_result"
    }
   ],
   "source": [
    "data.shape"
   ]
  },
  {
   "cell_type": "code",
   "execution_count": 27,
   "metadata": {},
   "outputs": [
    {
     "data": {
      "text/plain": [
       "Host Id                    0\n",
       "Host Since                 3\n",
       "Name                       0\n",
       "Neighbourhood              0\n",
       "Property Type              3\n",
       "Room Type                  0\n",
       "Zipcode                  134\n",
       "Beds                      85\n",
       "Number Of Reviews          0\n",
       "Price                      0\n",
       "Review Scores Rating    8323\n",
       "dtype: int64"
      ]
     },
     "execution_count": 27,
     "metadata": {},
     "output_type": "execute_result"
    }
   ],
   "source": [
    "data.isna().sum()"
   ]
  },
  {
   "cell_type": "markdown",
   "metadata": {},
   "source": [
    "## Handling missing values"
   ]
  },
  {
   "cell_type": "markdown",
   "metadata": {},
   "source": [
    "> **Method 1.** One of methods of handiling missing values is dropping them. To drop all missing values use <code>dropna()</code> method. "
   ]
  },
  {
   "cell_type": "code",
   "execution_count": 28,
   "metadata": {},
   "outputs": [],
   "source": [
    "data_new=data.dropna()"
   ]
  },
  {
   "cell_type": "code",
   "execution_count": 29,
   "metadata": {},
   "outputs": [
    {
     "name": "stdout",
     "output_type": "stream",
     "text": [
      "<class 'pandas.core.frame.DataFrame'>\n",
      "Int64Index: 22010 entries, 4 to 30409\n",
      "Data columns (total 11 columns):\n",
      " #   Column                Non-Null Count  Dtype         \n",
      "---  ------                --------------  -----         \n",
      " 0   Host Id               22010 non-null  int64         \n",
      " 1   Host Since            22010 non-null  datetime64[ns]\n",
      " 2   Name                  22010 non-null  object        \n",
      " 3   Neighbourhood         22010 non-null  object        \n",
      " 4   Property Type         22010 non-null  object        \n",
      " 5   Room Type             22010 non-null  object        \n",
      " 6   Zipcode               22010 non-null  float64       \n",
      " 7   Beds                  22010 non-null  float64       \n",
      " 8   Number Of Reviews     22010 non-null  int64         \n",
      " 9   Price                 22010 non-null  int64         \n",
      " 10  Review Scores Rating  22010 non-null  float64       \n",
      "dtypes: datetime64[ns](1), float64(3), int64(3), object(4)\n",
      "memory usage: 2.0+ MB\n"
     ]
    }
   ],
   "source": [
    "data_new.info()"
   ]
  },
  {
   "cell_type": "markdown",
   "metadata": {},
   "source": [
    "> **the results above show that there are no missing values in the dataset after applying dropna().**"
   ]
  },
  {
   "cell_type": "markdown",
   "metadata": {},
   "source": [
    "> **Method 2.** Another method of handling missing values is replacing all missing values by either **mean** or **median** values. Use <code>fillna()</code> to replace the missing values."
   ]
  },
  {
   "cell_type": "code",
   "execution_count": 30,
   "metadata": {},
   "outputs": [
    {
     "data": {
      "text/plain": [
       "91.99322951929587"
      ]
     },
     "execution_count": 30,
     "metadata": {},
     "output_type": "execute_result"
    }
   ],
   "source": [
    "#calculating mean of 'Review Scores Rating' that will be used to replace missing values in 'Review Scores Rating' column\n",
    "np.mean(data['Review Scores Rating'])\n",
    "data['Review Scores Rating'].mean()"
   ]
  },
  {
   "cell_type": "code",
   "execution_count": 31,
   "metadata": {
    "scrolled": true
   },
   "outputs": [],
   "source": [
    "data['Review Scores Rating']=data['Review Scores Rating'].fillna(np.mean(data['Review Scores Rating']))"
   ]
  },
  {
   "cell_type": "markdown",
   "metadata": {},
   "source": [
    "> <code>inplace=True</code> can be use to save the changes in your data after replacement of missing values"
   ]
  },
  {
   "cell_type": "code",
   "execution_count": 32,
   "metadata": {},
   "outputs": [],
   "source": [
    "data['Review Scores Rating'].fillna(np.mean(data['Review Scores Rating']),\n",
    "                                    inplace=True)"
   ]
  },
  {
   "cell_type": "code",
   "execution_count": 33,
   "metadata": {},
   "outputs": [
    {
     "name": "stdout",
     "output_type": "stream",
     "text": [
      "<class 'pandas.core.frame.DataFrame'>\n",
      "RangeIndex: 30478 entries, 0 to 30477\n",
      "Data columns (total 11 columns):\n",
      " #   Column                Non-Null Count  Dtype         \n",
      "---  ------                --------------  -----         \n",
      " 0   Host Id               30478 non-null  int64         \n",
      " 1   Host Since            30475 non-null  datetime64[ns]\n",
      " 2   Name                  30478 non-null  object        \n",
      " 3   Neighbourhood         30478 non-null  object        \n",
      " 4   Property Type         30475 non-null  object        \n",
      " 5   Room Type             30478 non-null  object        \n",
      " 6   Zipcode               30344 non-null  float64       \n",
      " 7   Beds                  30393 non-null  float64       \n",
      " 8   Number Of Reviews     30478 non-null  int64         \n",
      " 9   Price                 30478 non-null  int64         \n",
      " 10  Review Scores Rating  30478 non-null  float64       \n",
      "dtypes: datetime64[ns](1), float64(3), int64(3), object(4)\n",
      "memory usage: 2.6+ MB\n"
     ]
    }
   ],
   "source": [
    "data.info()"
   ]
  },
  {
   "cell_type": "code",
   "execution_count": 34,
   "metadata": {},
   "outputs": [],
   "source": [
    "#replacing missing values in Beds column with median value of the number of the beds\n",
    "data['Beds'].fillna(data['Beds'].median(),inplace=True)"
   ]
  },
  {
   "cell_type": "code",
   "execution_count": 35,
   "metadata": {},
   "outputs": [
    {
     "data": {
      "text/plain": [
       "Host Id                   0\n",
       "Host Since                3\n",
       "Name                      0\n",
       "Neighbourhood             0\n",
       "Property Type             3\n",
       "Room Type                 0\n",
       "Zipcode                 134\n",
       "Beds                      0\n",
       "Number Of Reviews         0\n",
       "Price                     0\n",
       "Review Scores Rating      0\n",
       "dtype: int64"
      ]
     },
     "execution_count": 35,
     "metadata": {},
     "output_type": "execute_result"
    }
   ],
   "source": [
    "data.isna().sum()"
   ]
  },
  {
   "cell_type": "markdown",
   "metadata": {},
   "source": [
    "> **You can also drop columns of your dataframe. As we're not going to use 'Host Id' and 'Zipcode' in our further analysis, we'll drop those columns by using <code>drop()</code> method. In the code <code>axis=1</code> expression shows that a column is being dropped while <code>axis=0</code> shows that rows are being dropped.**"
   ]
  },
  {
   "cell_type": "code",
   "execution_count": 36,
   "metadata": {},
   "outputs": [],
   "source": [
    "#dropping Host Id column from the dataset\n",
    "data.drop(['Host Id'],axis=1,inplace=True)"
   ]
  },
  {
   "cell_type": "code",
   "execution_count": 37,
   "metadata": {},
   "outputs": [],
   "source": [
    "data=data.drop(['Zipcode'],axis=1)"
   ]
  },
  {
   "cell_type": "code",
   "execution_count": 38,
   "metadata": {},
   "outputs": [
    {
     "data": {
      "text/plain": [
       "Index(['Host Since', 'Name', 'Neighbourhood ', 'Property Type', 'Room Type',\n",
       "       'Beds', 'Number Of Reviews', 'Price', 'Review Scores Rating'],\n",
       "      dtype='object')"
      ]
     },
     "execution_count": 38,
     "metadata": {},
     "output_type": "execute_result"
    }
   ],
   "source": [
    "#the remainig columns\n",
    "data.columns"
   ]
  },
  {
   "cell_type": "code",
   "execution_count": 39,
   "metadata": {},
   "outputs": [],
   "source": [
    "#drooping remaining missing values from the data\n",
    "data.dropna(inplace=True)"
   ]
  },
  {
   "cell_type": "code",
   "execution_count": 40,
   "metadata": {},
   "outputs": [
    {
     "data": {
      "text/plain": [
       "Host Since              0\n",
       "Name                    0\n",
       "Neighbourhood           0\n",
       "Property Type           0\n",
       "Room Type               0\n",
       "Beds                    0\n",
       "Number Of Reviews       0\n",
       "Price                   0\n",
       "Review Scores Rating    0\n",
       "dtype: int64"
      ]
     },
     "execution_count": 40,
     "metadata": {},
     "output_type": "execute_result"
    }
   ],
   "source": [
    "#again checking for missing values\n",
    "data.isnull().sum()"
   ]
  },
  {
   "cell_type": "markdown",
   "metadata": {},
   "source": [
    "> The output above shows that we don't have any missing values in data after dropping them or replacing with mean/median values."
   ]
  },
  {
   "cell_type": "code",
   "execution_count": 41,
   "metadata": {},
   "outputs": [
    {
     "data": {
      "text/plain": [
       "'Property_Type'"
      ]
     },
     "execution_count": 41,
     "metadata": {},
     "output_type": "execute_result"
    }
   ],
   "source": [
    "#replacing space in column names with underscore\n",
    "data.columns[3].replace(\" \",'_')"
   ]
  },
  {
   "cell_type": "code",
   "execution_count": 42,
   "metadata": {},
   "outputs": [
    {
     "data": {
      "text/plain": [
       "['Host_Since',\n",
       " 'Name',\n",
       " 'Neighbourhood_',\n",
       " 'Property_Type',\n",
       " 'Room_Type',\n",
       " 'Beds',\n",
       " 'Number_Of_Reviews',\n",
       " 'Price',\n",
       " 'Review_Scores_Rating']"
      ]
     },
     "execution_count": 42,
     "metadata": {},
     "output_type": "execute_result"
    }
   ],
   "source": [
    "#replacing space in column names with underscore\n",
    "names_new=[]\n",
    "for i in data.columns:\n",
    "    names_new.append(i.replace(\" \",\"_\"))\n",
    "names_new"
   ]
  },
  {
   "cell_type": "code",
   "execution_count": 43,
   "metadata": {},
   "outputs": [],
   "source": [
    "data.columns=names_new"
   ]
  },
  {
   "cell_type": "code",
   "execution_count": 44,
   "metadata": {},
   "outputs": [
    {
     "data": {
      "text/plain": [
       "Index(['Host_Since', 'Name', 'Neighbourhood_', 'Property_Type', 'Room_Type',\n",
       "       'Beds', 'Number_Of_Reviews', 'Price', 'Review_Scores_Rating'],\n",
       "      dtype='object')"
      ]
     },
     "execution_count": 44,
     "metadata": {},
     "output_type": "execute_result"
    }
   ],
   "source": [
    "data.columns"
   ]
  },
  {
   "cell_type": "code",
   "execution_count": 45,
   "metadata": {},
   "outputs": [
    {
     "name": "stdout",
     "output_type": "stream",
     "text": [
      "<class 'pandas.core.frame.DataFrame'>\n",
      "Int64Index: 30472 entries, 3 to 30477\n",
      "Data columns (total 9 columns):\n",
      " #   Column                Non-Null Count  Dtype         \n",
      "---  ------                --------------  -----         \n",
      " 0   Host_Since            30472 non-null  datetime64[ns]\n",
      " 1   Name                  30472 non-null  object        \n",
      " 2   Neighbourhood_        30472 non-null  object        \n",
      " 3   Property_Type         30472 non-null  object        \n",
      " 4   Room_Type             30472 non-null  object        \n",
      " 5   Beds                  30472 non-null  float64       \n",
      " 6   Number_Of_Reviews     30472 non-null  int64         \n",
      " 7   Price                 30472 non-null  int64         \n",
      " 8   Review_Scores_Rating  30472 non-null  float64       \n",
      "dtypes: datetime64[ns](1), float64(2), int64(2), object(4)\n",
      "memory usage: 2.3+ MB\n"
     ]
    }
   ],
   "source": [
    "data.info()"
   ]
  },
  {
   "cell_type": "markdown",
   "metadata": {},
   "source": [
    "> **<code>nunique()</code>** method returns number of unique (non-duplicated) values of any column. "
   ]
  },
  {
   "cell_type": "code",
   "execution_count": 46,
   "metadata": {},
   "outputs": [
    {
     "data": {
      "text/plain": [
       "3"
      ]
     },
     "execution_count": 46,
     "metadata": {},
     "output_type": "execute_result"
    }
   ],
   "source": [
    "data.Room_Type.nunique()"
   ]
  },
  {
   "cell_type": "markdown",
   "metadata": {},
   "source": [
    "> **<code>value_counts()</code>** function returns object containing counts of unique values. The resulting object will be in descending order so that the first element is the most frequently-occurring element."
   ]
  },
  {
   "cell_type": "code",
   "execution_count": 47,
   "metadata": {},
   "outputs": [
    {
     "data": {
      "text/plain": [
       "Entire home/apt    17021\n",
       "Private room       12606\n",
       "Shared room          845\n",
       "Name: Room_Type, dtype: int64"
      ]
     },
     "execution_count": 47,
     "metadata": {},
     "output_type": "execute_result"
    }
   ],
   "source": [
    "data.Room_Type.value_counts()"
   ]
  },
  {
   "cell_type": "markdown",
   "metadata": {},
   "source": [
    "> **<code>select_dtypes()</code>** returns a subset of the DataFrame’s columns based on the column data types (object, float, int, etc.)."
   ]
  },
  {
   "cell_type": "code",
   "execution_count": 48,
   "metadata": {},
   "outputs": [
    {
     "name": "stdout",
     "output_type": "stream",
     "text": [
      "<class 'pandas.core.frame.DataFrame'>\n",
      "Int64Index: 30472 entries, 3 to 30477\n",
      "Data columns (total 4 columns):\n",
      " #   Column          Non-Null Count  Dtype \n",
      "---  ------          --------------  ----- \n",
      " 0   Name            30472 non-null  object\n",
      " 1   Neighbourhood_  30472 non-null  object\n",
      " 2   Property_Type   30472 non-null  object\n",
      " 3   Room_Type       30472 non-null  object\n",
      "dtypes: object(4)\n",
      "memory usage: 1.2+ MB\n"
     ]
    }
   ],
   "source": [
    "data_obj=data.select_dtypes(include='object')\n",
    "data_obj.info()"
   ]
  },
  {
   "cell_type": "code",
   "execution_count": 49,
   "metadata": {},
   "outputs": [
    {
     "name": "stdout",
     "output_type": "stream",
     "text": [
      "\n",
      " Name \n",
      " ---------------------------\n",
      "Charming West Village studio        15\n",
      "HOME AWAY FROM HOME                 12\n",
      "Private room in Brooklyn            12\n",
      "Private Room in WILLIAMSBURG        11\n",
      "Loft Suite @ The Box House Hotel    11\n",
      "                                    ..\n",
      "Sunny Room with King Sized Bed       1\n",
      "Nice and Sunny Room For Two          1\n",
      "Lofted Bed in Sunny Room             1\n",
      "Large Climbing Loft + Hammock        1\n",
      "Huge Beautiful Bedroom - Astoria     1\n",
      "Name: Name, Length: 29412, dtype: int64\n",
      "\n",
      " Neighbourhood_ \n",
      " ---------------------------\n",
      "Manhattan        16029\n",
      "Brooklyn         11673\n",
      "Queens            2278\n",
      "Bronx              345\n",
      "Staten Island      147\n",
      "Name: Neighbourhood_, dtype: int64\n",
      "\n",
      " Property_Type \n",
      " ---------------------------\n",
      "Apartment          27099\n",
      "House               2090\n",
      "Loft                 753\n",
      "Bed & Breakfast      180\n",
      "Townhouse            136\n",
      "Condominium           94\n",
      "Other                 47\n",
      "Dorm                  31\n",
      "Boat                   8\n",
      "Villa                  8\n",
      "Camper/RV              7\n",
      "Bungalow               4\n",
      "Treehouse              4\n",
      "Tent                   4\n",
      "Hut                    2\n",
      "Cabin                  2\n",
      "Lighthouse             1\n",
      "Chalet                 1\n",
      "Castle                 1\n",
      "Name: Property_Type, dtype: int64\n",
      "\n",
      " Room_Type \n",
      " ---------------------------\n",
      "Entire home/apt    17021\n",
      "Private room       12606\n",
      "Shared room          845\n",
      "Name: Room_Type, dtype: int64\n"
     ]
    }
   ],
   "source": [
    "#printing value counts of all object type variables by using a for loop\n",
    "for i in data_obj.columns:\n",
    "    print(\"\\n\",i,\"\\n\",\"---------------------------\")\n",
    "    print(data_obj[i].value_counts())"
   ]
  },
  {
   "cell_type": "code",
   "execution_count": 50,
   "metadata": {},
   "outputs": [],
   "source": [
    "#creating a subset of data for numeric variables onlu\n",
    "data_num=data.select_dtypes(include=['float64','int64'])"
   ]
  },
  {
   "cell_type": "code",
   "execution_count": 51,
   "metadata": {},
   "outputs": [
    {
     "name": "stdout",
     "output_type": "stream",
     "text": [
      "<class 'pandas.core.frame.DataFrame'>\n",
      "Int64Index: 30472 entries, 3 to 30477\n",
      "Data columns (total 4 columns):\n",
      " #   Column                Non-Null Count  Dtype  \n",
      "---  ------                --------------  -----  \n",
      " 0   Beds                  30472 non-null  float64\n",
      " 1   Number_Of_Reviews     30472 non-null  int64  \n",
      " 2   Price                 30472 non-null  int64  \n",
      " 3   Review_Scores_Rating  30472 non-null  float64\n",
      "dtypes: float64(2), int64(2)\n",
      "memory usage: 1.2 MB\n"
     ]
    }
   ],
   "source": [
    "data_num.info()"
   ]
  },
  {
   "cell_type": "code",
   "execution_count": 52,
   "metadata": {},
   "outputs": [
    {
     "name": "stdout",
     "output_type": "stream",
     "text": [
      "Beds  -  1.5286820687844578\n",
      "Number_Of_Reviews  -  12.019329220267787\n",
      "Price  -  163.60078104489367\n",
      "Review_Scores_Rating  -  91.99313062387118\n"
     ]
    }
   ],
   "source": [
    "for i in data_num.columns:\n",
    "    print(i,' - ',data_num[i].mean())"
   ]
  },
  {
   "cell_type": "code",
   "execution_count": 53,
   "metadata": {},
   "outputs": [
    {
     "data": {
      "text/plain": [
       "count    30472.000000\n",
       "mean        91.993131\n",
       "std          7.546380\n",
       "min         20.000000\n",
       "25%         90.000000\n",
       "50%         91.993230\n",
       "75%         97.000000\n",
       "max        100.000000\n",
       "Name: Review_Scores_Rating, dtype: float64"
      ]
     },
     "execution_count": 53,
     "metadata": {},
     "output_type": "execute_result"
    }
   ],
   "source": [
    "data.Review_Scores_Rating.describe()"
   ]
  },
  {
   "cell_type": "code",
   "execution_count": 54,
   "metadata": {},
   "outputs": [
    {
     "data": {
      "text/plain": [
       "3     91.99323\n",
       "4     96.00000\n",
       "5    100.00000\n",
       "6    100.00000\n",
       "7     94.00000\n",
       "Name: Review_Scores_Rating, dtype: float64"
      ]
     },
     "execution_count": 54,
     "metadata": {},
     "output_type": "execute_result"
    }
   ],
   "source": [
    "data.Review_Scores_Rating.head()"
   ]
  },
  {
   "cell_type": "code",
   "execution_count": 55,
   "metadata": {},
   "outputs": [],
   "source": [
    "#writing  a function that codes values into some strings based on ranges of data\n",
    "def coder(i):\n",
    "    \"\"\"i is every value in column\"\"\"\n",
    "    if i<=np.percentile(data.Review_Scores_Rating,25):\n",
    "        coded_value='less than or equal to 25%'\n",
    "    elif i>np.percentile(data.Review_Scores_Rating,25) and i<=np.percentile(data.Review_Scores_Rating,50):\n",
    "        coded_value='25-50'\n",
    "    else:\n",
    "        coded_value='more than 50'\n",
    "    return coded_value"
   ]
  },
  {
   "cell_type": "code",
   "execution_count": 56,
   "metadata": {},
   "outputs": [
    {
     "data": {
      "text/html": [
       "<div>\n",
       "<style scoped>\n",
       "    .dataframe tbody tr th:only-of-type {\n",
       "        vertical-align: middle;\n",
       "    }\n",
       "\n",
       "    .dataframe tbody tr th {\n",
       "        vertical-align: top;\n",
       "    }\n",
       "\n",
       "    .dataframe thead th {\n",
       "        text-align: right;\n",
       "    }\n",
       "</style>\n",
       "<table border=\"1\" class=\"dataframe\">\n",
       "  <thead>\n",
       "    <tr style=\"text-align: right;\">\n",
       "      <th></th>\n",
       "      <th>index</th>\n",
       "      <th>Host_Since</th>\n",
       "      <th>Name</th>\n",
       "      <th>Neighbourhood_</th>\n",
       "      <th>Property_Type</th>\n",
       "      <th>Room_Type</th>\n",
       "      <th>Beds</th>\n",
       "      <th>Number_Of_Reviews</th>\n",
       "      <th>Price</th>\n",
       "      <th>Review_Scores_Rating</th>\n",
       "    </tr>\n",
       "  </thead>\n",
       "  <tbody>\n",
       "    <tr>\n",
       "      <th>0</th>\n",
       "      <td>3</td>\n",
       "      <td>2008-06-26</td>\n",
       "      <td>Gorgeous 1 BR with Private Balcony</td>\n",
       "      <td>Manhattan</td>\n",
       "      <td>Apartment</td>\n",
       "      <td>Entire home/apt</td>\n",
       "      <td>3.0</td>\n",
       "      <td>0</td>\n",
       "      <td>199</td>\n",
       "      <td>91.99323</td>\n",
       "    </tr>\n",
       "    <tr>\n",
       "      <th>1</th>\n",
       "      <td>4</td>\n",
       "      <td>2008-06-26</td>\n",
       "      <td>Trendy Times Square Loft</td>\n",
       "      <td>Manhattan</td>\n",
       "      <td>Apartment</td>\n",
       "      <td>Private room</td>\n",
       "      <td>3.0</td>\n",
       "      <td>39</td>\n",
       "      <td>549</td>\n",
       "      <td>96.00000</td>\n",
       "    </tr>\n",
       "    <tr>\n",
       "      <th>2</th>\n",
       "      <td>5</td>\n",
       "      <td>2008-07-25</td>\n",
       "      <td>Big Greenpoint 1BD w/ Skyline View</td>\n",
       "      <td>Brooklyn</td>\n",
       "      <td>Apartment</td>\n",
       "      <td>Entire home/apt</td>\n",
       "      <td>1.0</td>\n",
       "      <td>4</td>\n",
       "      <td>149</td>\n",
       "      <td>100.00000</td>\n",
       "    </tr>\n",
       "    <tr>\n",
       "      <th>3</th>\n",
       "      <td>6</td>\n",
       "      <td>2008-08-12</td>\n",
       "      <td>Amazing Also</td>\n",
       "      <td>Manhattan</td>\n",
       "      <td>Apartment</td>\n",
       "      <td>Entire home/apt</td>\n",
       "      <td>1.0</td>\n",
       "      <td>9</td>\n",
       "      <td>250</td>\n",
       "      <td>100.00000</td>\n",
       "    </tr>\n",
       "    <tr>\n",
       "      <th>4</th>\n",
       "      <td>7</td>\n",
       "      <td>2008-08-15</td>\n",
       "      <td>Colorful, quiet, &amp; near the subway!</td>\n",
       "      <td>Brooklyn</td>\n",
       "      <td>Apartment</td>\n",
       "      <td>Private room</td>\n",
       "      <td>1.0</td>\n",
       "      <td>80</td>\n",
       "      <td>90</td>\n",
       "      <td>94.00000</td>\n",
       "    </tr>\n",
       "  </tbody>\n",
       "</table>\n",
       "</div>"
      ],
      "text/plain": [
       "   index Host_Since                                 Name Neighbourhood_  \\\n",
       "0      3 2008-06-26   Gorgeous 1 BR with Private Balcony      Manhattan   \n",
       "1      4 2008-06-26             Trendy Times Square Loft      Manhattan   \n",
       "2      5 2008-07-25   Big Greenpoint 1BD w/ Skyline View       Brooklyn   \n",
       "3      6 2008-08-12                         Amazing Also      Manhattan   \n",
       "4      7 2008-08-15  Colorful, quiet, & near the subway!       Brooklyn   \n",
       "\n",
       "  Property_Type        Room_Type  Beds  Number_Of_Reviews  Price  \\\n",
       "0     Apartment  Entire home/apt   3.0                  0    199   \n",
       "1     Apartment     Private room   3.0                 39    549   \n",
       "2     Apartment  Entire home/apt   1.0                  4    149   \n",
       "3     Apartment  Entire home/apt   1.0                  9    250   \n",
       "4     Apartment     Private room   1.0                 80     90   \n",
       "\n",
       "   Review_Scores_Rating  \n",
       "0              91.99323  \n",
       "1              96.00000  \n",
       "2             100.00000  \n",
       "3             100.00000  \n",
       "4              94.00000  "
      ]
     },
     "execution_count": 56,
     "metadata": {},
     "output_type": "execute_result"
    }
   ],
   "source": [
    "#resetting index of dataframe in order to start indexes from 0\n",
    "data.reset_index(inplace=True)\n",
    "data.head()"
   ]
  },
  {
   "cell_type": "code",
   "execution_count": 57,
   "metadata": {},
   "outputs": [
    {
     "data": {
      "text/html": [
       "<div>\n",
       "<style scoped>\n",
       "    .dataframe tbody tr th:only-of-type {\n",
       "        vertical-align: middle;\n",
       "    }\n",
       "\n",
       "    .dataframe tbody tr th {\n",
       "        vertical-align: top;\n",
       "    }\n",
       "\n",
       "    .dataframe thead th {\n",
       "        text-align: right;\n",
       "    }\n",
       "</style>\n",
       "<table border=\"1\" class=\"dataframe\">\n",
       "  <thead>\n",
       "    <tr style=\"text-align: right;\">\n",
       "      <th></th>\n",
       "      <th>Host_Since</th>\n",
       "      <th>Name</th>\n",
       "      <th>Neighbourhood_</th>\n",
       "      <th>Property_Type</th>\n",
       "      <th>Room_Type</th>\n",
       "      <th>Beds</th>\n",
       "      <th>Number_Of_Reviews</th>\n",
       "      <th>Price</th>\n",
       "      <th>Review_Scores_Rating</th>\n",
       "    </tr>\n",
       "  </thead>\n",
       "  <tbody>\n",
       "    <tr>\n",
       "      <th>0</th>\n",
       "      <td>2008-06-26</td>\n",
       "      <td>Gorgeous 1 BR with Private Balcony</td>\n",
       "      <td>Manhattan</td>\n",
       "      <td>Apartment</td>\n",
       "      <td>Entire home/apt</td>\n",
       "      <td>3.0</td>\n",
       "      <td>0</td>\n",
       "      <td>199</td>\n",
       "      <td>91.99323</td>\n",
       "    </tr>\n",
       "    <tr>\n",
       "      <th>1</th>\n",
       "      <td>2008-06-26</td>\n",
       "      <td>Trendy Times Square Loft</td>\n",
       "      <td>Manhattan</td>\n",
       "      <td>Apartment</td>\n",
       "      <td>Private room</td>\n",
       "      <td>3.0</td>\n",
       "      <td>39</td>\n",
       "      <td>549</td>\n",
       "      <td>96.00000</td>\n",
       "    </tr>\n",
       "  </tbody>\n",
       "</table>\n",
       "</div>"
      ],
      "text/plain": [
       "  Host_Since                                Name Neighbourhood_ Property_Type  \\\n",
       "0 2008-06-26  Gorgeous 1 BR with Private Balcony      Manhattan     Apartment   \n",
       "1 2008-06-26            Trendy Times Square Loft      Manhattan     Apartment   \n",
       "\n",
       "         Room_Type  Beds  Number_Of_Reviews  Price  Review_Scores_Rating  \n",
       "0  Entire home/apt   3.0                  0    199              91.99323  \n",
       "1     Private room   3.0                 39    549              96.00000  "
      ]
     },
     "execution_count": 57,
     "metadata": {},
     "output_type": "execute_result"
    }
   ],
   "source": [
    "#dropping the column of old indexes\n",
    "data.drop('index',axis=1,inplace=True)\n",
    "data.head(2)"
   ]
  },
  {
   "cell_type": "code",
   "execution_count": 58,
   "metadata": {},
   "outputs": [
    {
     "data": {
      "text/plain": [
       "91.99322951929587"
      ]
     },
     "execution_count": 58,
     "metadata": {},
     "output_type": "execute_result"
    }
   ],
   "source": [
    "data.Review_Scores_Rating[0]"
   ]
  },
  {
   "cell_type": "code",
   "execution_count": 61,
   "metadata": {},
   "outputs": [
    {
     "data": {
      "text/plain": [
       "'25-50'"
      ]
     },
     "execution_count": 61,
     "metadata": {},
     "output_type": "execute_result"
    }
   ],
   "source": [
    "#applying the function we defined\n",
    "coder(data.Review_Scores_Rating[0])"
   ]
  },
  {
   "cell_type": "code",
   "execution_count": 62,
   "metadata": {},
   "outputs": [
    {
     "data": {
      "text/plain": [
       "['25-50',\n",
       " 'more than 50',\n",
       " 'more than 50',\n",
       " 'more than 50',\n",
       " 'more than 50',\n",
       " 'less than or equal to 25%',\n",
       " 'more than 50',\n",
       " 'more than 50',\n",
       " 'more than 50',\n",
       " '25-50',\n",
       " '25-50',\n",
       " 'more than 50',\n",
       " 'more than 50',\n",
       " 'more than 50',\n",
       " 'more than 50',\n",
       " 'less than or equal to 25%',\n",
       " '25-50',\n",
       " 'less than or equal to 25%',\n",
       " '25-50',\n",
       " '25-50']"
      ]
     },
     "execution_count": 62,
     "metadata": {},
     "output_type": "execute_result"
    }
   ],
   "source": [
    "#creating a new list for coded values\n",
    "rating_new=[]\n",
    "for i in range(len(data.Review_Scores_Rating)):\n",
    "    rating_new.append(coder(data.Review_Scores_Rating[i]))\n",
    "rating_new[:20]"
   ]
  },
  {
   "cell_type": "code",
   "execution_count": 63,
   "metadata": {},
   "outputs": [],
   "source": [
    "#adding a new variabe to the dataset for the coded values\n",
    "data['review_coded']=rating_new"
   ]
  },
  {
   "cell_type": "code",
   "execution_count": 64,
   "metadata": {},
   "outputs": [
    {
     "data": {
      "text/html": [
       "<div>\n",
       "<style scoped>\n",
       "    .dataframe tbody tr th:only-of-type {\n",
       "        vertical-align: middle;\n",
       "    }\n",
       "\n",
       "    .dataframe tbody tr th {\n",
       "        vertical-align: top;\n",
       "    }\n",
       "\n",
       "    .dataframe thead th {\n",
       "        text-align: right;\n",
       "    }\n",
       "</style>\n",
       "<table border=\"1\" class=\"dataframe\">\n",
       "  <thead>\n",
       "    <tr style=\"text-align: right;\">\n",
       "      <th></th>\n",
       "      <th>Host_Since</th>\n",
       "      <th>Name</th>\n",
       "      <th>Neighbourhood_</th>\n",
       "      <th>Property_Type</th>\n",
       "      <th>Room_Type</th>\n",
       "      <th>Beds</th>\n",
       "      <th>Number_Of_Reviews</th>\n",
       "      <th>Price</th>\n",
       "      <th>Review_Scores_Rating</th>\n",
       "      <th>review_coded</th>\n",
       "    </tr>\n",
       "  </thead>\n",
       "  <tbody>\n",
       "    <tr>\n",
       "      <th>0</th>\n",
       "      <td>2008-06-26</td>\n",
       "      <td>Gorgeous 1 BR with Private Balcony</td>\n",
       "      <td>Manhattan</td>\n",
       "      <td>Apartment</td>\n",
       "      <td>Entire home/apt</td>\n",
       "      <td>3.0</td>\n",
       "      <td>0</td>\n",
       "      <td>199</td>\n",
       "      <td>91.99323</td>\n",
       "      <td>25-50</td>\n",
       "    </tr>\n",
       "    <tr>\n",
       "      <th>1</th>\n",
       "      <td>2008-06-26</td>\n",
       "      <td>Trendy Times Square Loft</td>\n",
       "      <td>Manhattan</td>\n",
       "      <td>Apartment</td>\n",
       "      <td>Private room</td>\n",
       "      <td>3.0</td>\n",
       "      <td>39</td>\n",
       "      <td>549</td>\n",
       "      <td>96.00000</td>\n",
       "      <td>more than 50</td>\n",
       "    </tr>\n",
       "    <tr>\n",
       "      <th>2</th>\n",
       "      <td>2008-07-25</td>\n",
       "      <td>Big Greenpoint 1BD w/ Skyline View</td>\n",
       "      <td>Brooklyn</td>\n",
       "      <td>Apartment</td>\n",
       "      <td>Entire home/apt</td>\n",
       "      <td>1.0</td>\n",
       "      <td>4</td>\n",
       "      <td>149</td>\n",
       "      <td>100.00000</td>\n",
       "      <td>more than 50</td>\n",
       "    </tr>\n",
       "    <tr>\n",
       "      <th>3</th>\n",
       "      <td>2008-08-12</td>\n",
       "      <td>Amazing Also</td>\n",
       "      <td>Manhattan</td>\n",
       "      <td>Apartment</td>\n",
       "      <td>Entire home/apt</td>\n",
       "      <td>1.0</td>\n",
       "      <td>9</td>\n",
       "      <td>250</td>\n",
       "      <td>100.00000</td>\n",
       "      <td>more than 50</td>\n",
       "    </tr>\n",
       "    <tr>\n",
       "      <th>4</th>\n",
       "      <td>2008-08-15</td>\n",
       "      <td>Colorful, quiet, &amp; near the subway!</td>\n",
       "      <td>Brooklyn</td>\n",
       "      <td>Apartment</td>\n",
       "      <td>Private room</td>\n",
       "      <td>1.0</td>\n",
       "      <td>80</td>\n",
       "      <td>90</td>\n",
       "      <td>94.00000</td>\n",
       "      <td>more than 50</td>\n",
       "    </tr>\n",
       "  </tbody>\n",
       "</table>\n",
       "</div>"
      ],
      "text/plain": [
       "  Host_Since                                 Name Neighbourhood_  \\\n",
       "0 2008-06-26   Gorgeous 1 BR with Private Balcony      Manhattan   \n",
       "1 2008-06-26             Trendy Times Square Loft      Manhattan   \n",
       "2 2008-07-25   Big Greenpoint 1BD w/ Skyline View       Brooklyn   \n",
       "3 2008-08-12                         Amazing Also      Manhattan   \n",
       "4 2008-08-15  Colorful, quiet, & near the subway!       Brooklyn   \n",
       "\n",
       "  Property_Type        Room_Type  Beds  Number_Of_Reviews  Price  \\\n",
       "0     Apartment  Entire home/apt   3.0                  0    199   \n",
       "1     Apartment     Private room   3.0                 39    549   \n",
       "2     Apartment  Entire home/apt   1.0                  4    149   \n",
       "3     Apartment  Entire home/apt   1.0                  9    250   \n",
       "4     Apartment     Private room   1.0                 80     90   \n",
       "\n",
       "   Review_Scores_Rating  review_coded  \n",
       "0              91.99323         25-50  \n",
       "1              96.00000  more than 50  \n",
       "2             100.00000  more than 50  \n",
       "3             100.00000  more than 50  \n",
       "4              94.00000  more than 50  "
      ]
     },
     "execution_count": 64,
     "metadata": {},
     "output_type": "execute_result"
    }
   ],
   "source": [
    "data.head()"
   ]
  },
  {
   "cell_type": "code",
   "execution_count": 65,
   "metadata": {},
   "outputs": [
    {
     "data": {
      "text/html": [
       "<div>\n",
       "<style scoped>\n",
       "    .dataframe tbody tr th:only-of-type {\n",
       "        vertical-align: middle;\n",
       "    }\n",
       "\n",
       "    .dataframe tbody tr th {\n",
       "        vertical-align: top;\n",
       "    }\n",
       "\n",
       "    .dataframe thead th {\n",
       "        text-align: right;\n",
       "    }\n",
       "</style>\n",
       "<table border=\"1\" class=\"dataframe\">\n",
       "  <thead>\n",
       "    <tr style=\"text-align: right;\">\n",
       "      <th></th>\n",
       "      <th>Review_Scores_Rating</th>\n",
       "      <th>review_coded</th>\n",
       "    </tr>\n",
       "  </thead>\n",
       "  <tbody>\n",
       "    <tr>\n",
       "      <th>0</th>\n",
       "      <td>91.99323</td>\n",
       "      <td>25-50</td>\n",
       "    </tr>\n",
       "    <tr>\n",
       "      <th>1</th>\n",
       "      <td>96.00000</td>\n",
       "      <td>more than 50</td>\n",
       "    </tr>\n",
       "    <tr>\n",
       "      <th>2</th>\n",
       "      <td>100.00000</td>\n",
       "      <td>more than 50</td>\n",
       "    </tr>\n",
       "    <tr>\n",
       "      <th>3</th>\n",
       "      <td>100.00000</td>\n",
       "      <td>more than 50</td>\n",
       "    </tr>\n",
       "    <tr>\n",
       "      <th>4</th>\n",
       "      <td>94.00000</td>\n",
       "      <td>more than 50</td>\n",
       "    </tr>\n",
       "    <tr>\n",
       "      <th>5</th>\n",
       "      <td>90.00000</td>\n",
       "      <td>less than or equal to 25%</td>\n",
       "    </tr>\n",
       "    <tr>\n",
       "      <th>6</th>\n",
       "      <td>96.00000</td>\n",
       "      <td>more than 50</td>\n",
       "    </tr>\n",
       "    <tr>\n",
       "      <th>7</th>\n",
       "      <td>98.00000</td>\n",
       "      <td>more than 50</td>\n",
       "    </tr>\n",
       "    <tr>\n",
       "      <th>8</th>\n",
       "      <td>93.00000</td>\n",
       "      <td>more than 50</td>\n",
       "    </tr>\n",
       "    <tr>\n",
       "      <th>9</th>\n",
       "      <td>91.00000</td>\n",
       "      <td>25-50</td>\n",
       "    </tr>\n",
       "    <tr>\n",
       "      <th>10</th>\n",
       "      <td>91.99323</td>\n",
       "      <td>25-50</td>\n",
       "    </tr>\n",
       "    <tr>\n",
       "      <th>11</th>\n",
       "      <td>97.00000</td>\n",
       "      <td>more than 50</td>\n",
       "    </tr>\n",
       "    <tr>\n",
       "      <th>12</th>\n",
       "      <td>95.00000</td>\n",
       "      <td>more than 50</td>\n",
       "    </tr>\n",
       "    <tr>\n",
       "      <th>13</th>\n",
       "      <td>99.00000</td>\n",
       "      <td>more than 50</td>\n",
       "    </tr>\n",
       "    <tr>\n",
       "      <th>14</th>\n",
       "      <td>93.00000</td>\n",
       "      <td>more than 50</td>\n",
       "    </tr>\n",
       "    <tr>\n",
       "      <th>15</th>\n",
       "      <td>85.00000</td>\n",
       "      <td>less than or equal to 25%</td>\n",
       "    </tr>\n",
       "    <tr>\n",
       "      <th>16</th>\n",
       "      <td>91.99323</td>\n",
       "      <td>25-50</td>\n",
       "    </tr>\n",
       "    <tr>\n",
       "      <th>17</th>\n",
       "      <td>86.00000</td>\n",
       "      <td>less than or equal to 25%</td>\n",
       "    </tr>\n",
       "    <tr>\n",
       "      <th>18</th>\n",
       "      <td>91.99323</td>\n",
       "      <td>25-50</td>\n",
       "    </tr>\n",
       "    <tr>\n",
       "      <th>19</th>\n",
       "      <td>91.99323</td>\n",
       "      <td>25-50</td>\n",
       "    </tr>\n",
       "  </tbody>\n",
       "</table>\n",
       "</div>"
      ],
      "text/plain": [
       "    Review_Scores_Rating               review_coded\n",
       "0               91.99323                      25-50\n",
       "1               96.00000               more than 50\n",
       "2              100.00000               more than 50\n",
       "3              100.00000               more than 50\n",
       "4               94.00000               more than 50\n",
       "5               90.00000  less than or equal to 25%\n",
       "6               96.00000               more than 50\n",
       "7               98.00000               more than 50\n",
       "8               93.00000               more than 50\n",
       "9               91.00000                      25-50\n",
       "10              91.99323                      25-50\n",
       "11              97.00000               more than 50\n",
       "12              95.00000               more than 50\n",
       "13              99.00000               more than 50\n",
       "14              93.00000               more than 50\n",
       "15              85.00000  less than or equal to 25%\n",
       "16              91.99323                      25-50\n",
       "17              86.00000  less than or equal to 25%\n",
       "18              91.99323                      25-50\n",
       "19              91.99323                      25-50"
      ]
     },
     "execution_count": 65,
     "metadata": {},
     "output_type": "execute_result"
    }
   ],
   "source": [
    "#selecting multiple columns from a dataset\n",
    "data[['Review_Scores_Rating','review_coded']].head(20)"
   ]
  },
  {
   "cell_type": "markdown",
   "metadata": {},
   "source": [
    "> To pivot the dataframe for aggregated calculations, **<code>pivot_table()</code>** or **<code>groupby()</code>** functions should be used."
   ]
  },
  {
   "cell_type": "code",
   "execution_count": 66,
   "metadata": {},
   "outputs": [
    {
     "data": {
      "text/html": [
       "<div>\n",
       "<style scoped>\n",
       "    .dataframe tbody tr th:only-of-type {\n",
       "        vertical-align: middle;\n",
       "    }\n",
       "\n",
       "    .dataframe tbody tr th {\n",
       "        vertical-align: top;\n",
       "    }\n",
       "\n",
       "    .dataframe thead tr th {\n",
       "        text-align: left;\n",
       "    }\n",
       "\n",
       "    .dataframe thead tr:last-of-type th {\n",
       "        text-align: right;\n",
       "    }\n",
       "</style>\n",
       "<table border=\"1\" class=\"dataframe\">\n",
       "  <thead>\n",
       "    <tr>\n",
       "      <th></th>\n",
       "      <th colspan=\"3\" halign=\"left\">mean</th>\n",
       "      <th colspan=\"3\" halign=\"left\">std</th>\n",
       "    </tr>\n",
       "    <tr>\n",
       "      <th>Room_Type</th>\n",
       "      <th>Entire home/apt</th>\n",
       "      <th>Private room</th>\n",
       "      <th>Shared room</th>\n",
       "      <th>Entire home/apt</th>\n",
       "      <th>Private room</th>\n",
       "      <th>Shared room</th>\n",
       "    </tr>\n",
       "    <tr>\n",
       "      <th>Property_Type</th>\n",
       "      <th></th>\n",
       "      <th></th>\n",
       "      <th></th>\n",
       "      <th></th>\n",
       "      <th></th>\n",
       "      <th></th>\n",
       "    </tr>\n",
       "  </thead>\n",
       "  <tbody>\n",
       "    <tr>\n",
       "      <th>Apartment</th>\n",
       "      <td>92.345365</td>\n",
       "      <td>91.616053</td>\n",
       "      <td>91.496809</td>\n",
       "      <td>6.999641</td>\n",
       "      <td>8.002798</td>\n",
       "      <td>8.289496</td>\n",
       "    </tr>\n",
       "    <tr>\n",
       "      <th>Bed &amp; Breakfast</th>\n",
       "      <td>89.769231</td>\n",
       "      <td>90.972577</td>\n",
       "      <td>91.162717</td>\n",
       "      <td>7.518354</td>\n",
       "      <td>7.481312</td>\n",
       "      <td>8.589570</td>\n",
       "    </tr>\n",
       "    <tr>\n",
       "      <th>Boat</th>\n",
       "      <td>94.427604</td>\n",
       "      <td>91.993230</td>\n",
       "      <td>NaN</td>\n",
       "      <td>2.700223</td>\n",
       "      <td>NaN</td>\n",
       "      <td>NaN</td>\n",
       "    </tr>\n",
       "    <tr>\n",
       "      <th>Bungalow</th>\n",
       "      <td>91.498307</td>\n",
       "      <td>NaN</td>\n",
       "      <td>NaN</td>\n",
       "      <td>4.202906</td>\n",
       "      <td>NaN</td>\n",
       "      <td>NaN</td>\n",
       "    </tr>\n",
       "    <tr>\n",
       "      <th>Cabin</th>\n",
       "      <td>98.000000</td>\n",
       "      <td>75.000000</td>\n",
       "      <td>NaN</td>\n",
       "      <td>NaN</td>\n",
       "      <td>NaN</td>\n",
       "      <td>NaN</td>\n",
       "    </tr>\n",
       "    <tr>\n",
       "      <th>Camper/RV</th>\n",
       "      <td>85.332205</td>\n",
       "      <td>67.000000</td>\n",
       "      <td>NaN</td>\n",
       "      <td>4.544075</td>\n",
       "      <td>NaN</td>\n",
       "      <td>NaN</td>\n",
       "    </tr>\n",
       "    <tr>\n",
       "      <th>Castle</th>\n",
       "      <td>NaN</td>\n",
       "      <td>100.000000</td>\n",
       "      <td>NaN</td>\n",
       "      <td>NaN</td>\n",
       "      <td>NaN</td>\n",
       "      <td>NaN</td>\n",
       "    </tr>\n",
       "    <tr>\n",
       "      <th>Chalet</th>\n",
       "      <td>NaN</td>\n",
       "      <td>99.000000</td>\n",
       "      <td>NaN</td>\n",
       "      <td>NaN</td>\n",
       "      <td>NaN</td>\n",
       "      <td>NaN</td>\n",
       "    </tr>\n",
       "    <tr>\n",
       "      <th>Condominium</th>\n",
       "      <td>93.066247</td>\n",
       "      <td>90.041762</td>\n",
       "      <td>NaN</td>\n",
       "      <td>8.064132</td>\n",
       "      <td>5.701450</td>\n",
       "      <td>NaN</td>\n",
       "    </tr>\n",
       "    <tr>\n",
       "      <th>Dorm</th>\n",
       "      <td>85.998307</td>\n",
       "      <td>86.061231</td>\n",
       "      <td>87.815104</td>\n",
       "      <td>17.738083</td>\n",
       "      <td>13.283314</td>\n",
       "      <td>10.106203</td>\n",
       "    </tr>\n",
       "    <tr>\n",
       "      <th>House</th>\n",
       "      <td>92.213904</td>\n",
       "      <td>90.661122</td>\n",
       "      <td>89.235723</td>\n",
       "      <td>7.276323</td>\n",
       "      <td>9.541641</td>\n",
       "      <td>7.127858</td>\n",
       "    </tr>\n",
       "    <tr>\n",
       "      <th>Hut</th>\n",
       "      <td>NaN</td>\n",
       "      <td>92.996615</td>\n",
       "      <td>NaN</td>\n",
       "      <td>NaN</td>\n",
       "      <td>1.419001</td>\n",
       "      <td>NaN</td>\n",
       "    </tr>\n",
       "    <tr>\n",
       "      <th>Lighthouse</th>\n",
       "      <td>100.000000</td>\n",
       "      <td>NaN</td>\n",
       "      <td>NaN</td>\n",
       "      <td>NaN</td>\n",
       "      <td>NaN</td>\n",
       "      <td>NaN</td>\n",
       "    </tr>\n",
       "    <tr>\n",
       "      <th>Loft</th>\n",
       "      <td>93.730813</td>\n",
       "      <td>92.940875</td>\n",
       "      <td>90.323905</td>\n",
       "      <td>6.113731</td>\n",
       "      <td>6.959184</td>\n",
       "      <td>11.911431</td>\n",
       "    </tr>\n",
       "    <tr>\n",
       "      <th>Other</th>\n",
       "      <td>92.353758</td>\n",
       "      <td>90.756053</td>\n",
       "      <td>82.998307</td>\n",
       "      <td>4.106733</td>\n",
       "      <td>7.139242</td>\n",
       "      <td>10.130452</td>\n",
       "    </tr>\n",
       "    <tr>\n",
       "      <th>Tent</th>\n",
       "      <td>NaN</td>\n",
       "      <td>91.993230</td>\n",
       "      <td>NaN</td>\n",
       "      <td>NaN</td>\n",
       "      <td>0.000000</td>\n",
       "      <td>NaN</td>\n",
       "    </tr>\n",
       "    <tr>\n",
       "      <th>Townhouse</th>\n",
       "      <td>93.563655</td>\n",
       "      <td>92.382011</td>\n",
       "      <td>91.993230</td>\n",
       "      <td>5.145523</td>\n",
       "      <td>5.901832</td>\n",
       "      <td>NaN</td>\n",
       "    </tr>\n",
       "    <tr>\n",
       "      <th>Treehouse</th>\n",
       "      <td>NaN</td>\n",
       "      <td>91.993230</td>\n",
       "      <td>88.333333</td>\n",
       "      <td>NaN</td>\n",
       "      <td>NaN</td>\n",
       "      <td>2.081666</td>\n",
       "    </tr>\n",
       "    <tr>\n",
       "      <th>Villa</th>\n",
       "      <td>92.496615</td>\n",
       "      <td>91.250000</td>\n",
       "      <td>NaN</td>\n",
       "      <td>5.744957</td>\n",
       "      <td>4.991660</td>\n",
       "      <td>NaN</td>\n",
       "    </tr>\n",
       "  </tbody>\n",
       "</table>\n",
       "</div>"
      ],
      "text/plain": [
       "                           mean                                      std  \\\n",
       "Room_Type       Entire home/apt Private room Shared room Entire home/apt   \n",
       "Property_Type                                                              \n",
       "Apartment             92.345365    91.616053   91.496809        6.999641   \n",
       "Bed & Breakfast       89.769231    90.972577   91.162717        7.518354   \n",
       "Boat                  94.427604    91.993230         NaN        2.700223   \n",
       "Bungalow              91.498307          NaN         NaN        4.202906   \n",
       "Cabin                 98.000000    75.000000         NaN             NaN   \n",
       "Camper/RV             85.332205    67.000000         NaN        4.544075   \n",
       "Castle                      NaN   100.000000         NaN             NaN   \n",
       "Chalet                      NaN    99.000000         NaN             NaN   \n",
       "Condominium           93.066247    90.041762         NaN        8.064132   \n",
       "Dorm                  85.998307    86.061231   87.815104       17.738083   \n",
       "House                 92.213904    90.661122   89.235723        7.276323   \n",
       "Hut                         NaN    92.996615         NaN             NaN   \n",
       "Lighthouse           100.000000          NaN         NaN             NaN   \n",
       "Loft                  93.730813    92.940875   90.323905        6.113731   \n",
       "Other                 92.353758    90.756053   82.998307        4.106733   \n",
       "Tent                        NaN    91.993230         NaN             NaN   \n",
       "Townhouse             93.563655    92.382011   91.993230        5.145523   \n",
       "Treehouse                   NaN    91.993230   88.333333             NaN   \n",
       "Villa                 92.496615    91.250000         NaN        5.744957   \n",
       "\n",
       "                                          \n",
       "Room_Type       Private room Shared room  \n",
       "Property_Type                             \n",
       "Apartment           8.002798    8.289496  \n",
       "Bed & Breakfast     7.481312    8.589570  \n",
       "Boat                     NaN         NaN  \n",
       "Bungalow                 NaN         NaN  \n",
       "Cabin                    NaN         NaN  \n",
       "Camper/RV                NaN         NaN  \n",
       "Castle                   NaN         NaN  \n",
       "Chalet                   NaN         NaN  \n",
       "Condominium         5.701450         NaN  \n",
       "Dorm               13.283314   10.106203  \n",
       "House               9.541641    7.127858  \n",
       "Hut                 1.419001         NaN  \n",
       "Lighthouse               NaN         NaN  \n",
       "Loft                6.959184   11.911431  \n",
       "Other               7.139242   10.130452  \n",
       "Tent                0.000000         NaN  \n",
       "Townhouse           5.901832         NaN  \n",
       "Treehouse                NaN    2.081666  \n",
       "Villa               4.991660         NaN  "
      ]
     },
     "execution_count": 66,
     "metadata": {},
     "output_type": "execute_result"
    }
   ],
   "source": [
    "#pivotting a data to get average Review_Scores_Rating and std of Review_Scores_Rating by Property_Type and Room_Type columns\n",
    "data.pivot_table(values='Review_Scores_Rating',\n",
    "                 index='Property_Type',\n",
    "                 columns='Room_Type',\n",
    "                 aggfunc=['mean',np.std]\n",
    "                )"
   ]
  },
  {
   "cell_type": "code",
   "execution_count": 67,
   "metadata": {},
   "outputs": [
    {
     "data": {
      "text/html": [
       "<div>\n",
       "<style scoped>\n",
       "    .dataframe tbody tr th:only-of-type {\n",
       "        vertical-align: middle;\n",
       "    }\n",
       "\n",
       "    .dataframe tbody tr th {\n",
       "        vertical-align: top;\n",
       "    }\n",
       "\n",
       "    .dataframe thead th {\n",
       "        text-align: right;\n",
       "    }\n",
       "</style>\n",
       "<table border=\"1\" class=\"dataframe\">\n",
       "  <thead>\n",
       "    <tr style=\"text-align: right;\">\n",
       "      <th></th>\n",
       "      <th>Price</th>\n",
       "    </tr>\n",
       "    <tr>\n",
       "      <th>review_coded</th>\n",
       "      <th></th>\n",
       "    </tr>\n",
       "  </thead>\n",
       "  <tbody>\n",
       "    <tr>\n",
       "      <th>25-50</th>\n",
       "      <td>125</td>\n",
       "    </tr>\n",
       "    <tr>\n",
       "      <th>less than or equal to 25%</th>\n",
       "      <td>119</td>\n",
       "    </tr>\n",
       "    <tr>\n",
       "      <th>more than 50</th>\n",
       "      <td>135</td>\n",
       "    </tr>\n",
       "  </tbody>\n",
       "</table>\n",
       "</div>"
      ],
      "text/plain": [
       "                           Price\n",
       "review_coded                    \n",
       "25-50                        125\n",
       "less than or equal to 25%    119\n",
       "more than 50                 135"
      ]
     },
     "execution_count": 67,
     "metadata": {},
     "output_type": "execute_result"
    }
   ],
   "source": [
    "#pivotting data to get median price by review_coded column\n",
    "data.pivot_table(index='review_coded',\n",
    "                 values='Price',\n",
    "                 aggfunc=np.median\n",
    "                )"
   ]
  },
  {
   "cell_type": "code",
   "execution_count": 68,
   "metadata": {},
   "outputs": [
    {
     "data": {
      "text/html": [
       "<div>\n",
       "<style scoped>\n",
       "    .dataframe tbody tr th:only-of-type {\n",
       "        vertical-align: middle;\n",
       "    }\n",
       "\n",
       "    .dataframe tbody tr th {\n",
       "        vertical-align: top;\n",
       "    }\n",
       "\n",
       "    .dataframe thead th {\n",
       "        text-align: right;\n",
       "    }\n",
       "</style>\n",
       "<table border=\"1\" class=\"dataframe\">\n",
       "  <thead>\n",
       "    <tr style=\"text-align: right;\">\n",
       "      <th></th>\n",
       "      <th>Price</th>\n",
       "    </tr>\n",
       "    <tr>\n",
       "      <th>review_coded</th>\n",
       "      <th></th>\n",
       "    </tr>\n",
       "  </thead>\n",
       "  <tbody>\n",
       "    <tr>\n",
       "      <th>25-50</th>\n",
       "      <td>125.0</td>\n",
       "    </tr>\n",
       "    <tr>\n",
       "      <th>less than or equal to 25%</th>\n",
       "      <td>119.0</td>\n",
       "    </tr>\n",
       "    <tr>\n",
       "      <th>more than 50</th>\n",
       "      <td>135.0</td>\n",
       "    </tr>\n",
       "  </tbody>\n",
       "</table>\n",
       "</div>"
      ],
      "text/plain": [
       "                           Price\n",
       "review_coded                    \n",
       "25-50                      125.0\n",
       "less than or equal to 25%  119.0\n",
       "more than 50               135.0"
      ]
     },
     "execution_count": 68,
     "metadata": {},
     "output_type": "execute_result"
    }
   ],
   "source": [
    "data[['review_coded','Price']].groupby('review_coded').median()"
   ]
  },
  {
   "cell_type": "markdown",
   "metadata": {},
   "source": [
    "> **<code>corrcoef()</code> function from numpy can be used to calculate correlations between Review_Scores_Rating and Price.**"
   ]
  },
  {
   "cell_type": "code",
   "execution_count": 69,
   "metadata": {},
   "outputs": [
    {
     "data": {
      "text/plain": [
       "array([[1.        , 0.03894635],\n",
       "       [0.03894635, 1.        ]])"
      ]
     },
     "execution_count": 69,
     "metadata": {},
     "output_type": "execute_result"
    }
   ],
   "source": [
    "np.corrcoef(data.Review_Scores_Rating,data.Price)"
   ]
  },
  {
   "cell_type": "markdown",
   "metadata": {},
   "source": [
    "> Another way of calculating correlation coefs is using **<code>corr()</code>** function from pandas as shown below."
   ]
  },
  {
   "cell_type": "code",
   "execution_count": 70,
   "metadata": {},
   "outputs": [
    {
     "data": {
      "text/html": [
       "<div>\n",
       "<style scoped>\n",
       "    .dataframe tbody tr th:only-of-type {\n",
       "        vertical-align: middle;\n",
       "    }\n",
       "\n",
       "    .dataframe tbody tr th {\n",
       "        vertical-align: top;\n",
       "    }\n",
       "\n",
       "    .dataframe thead th {\n",
       "        text-align: right;\n",
       "    }\n",
       "</style>\n",
       "<table border=\"1\" class=\"dataframe\">\n",
       "  <thead>\n",
       "    <tr style=\"text-align: right;\">\n",
       "      <th></th>\n",
       "      <th>Review_Scores_Rating</th>\n",
       "      <th>Price</th>\n",
       "    </tr>\n",
       "  </thead>\n",
       "  <tbody>\n",
       "    <tr>\n",
       "      <th>Review_Scores_Rating</th>\n",
       "      <td>1.000000</td>\n",
       "      <td>0.038946</td>\n",
       "    </tr>\n",
       "    <tr>\n",
       "      <th>Price</th>\n",
       "      <td>0.038946</td>\n",
       "      <td>1.000000</td>\n",
       "    </tr>\n",
       "  </tbody>\n",
       "</table>\n",
       "</div>"
      ],
      "text/plain": [
       "                      Review_Scores_Rating     Price\n",
       "Review_Scores_Rating              1.000000  0.038946\n",
       "Price                             0.038946  1.000000"
      ]
     },
     "execution_count": 70,
     "metadata": {},
     "output_type": "execute_result"
    }
   ],
   "source": [
    "data[['Review_Scores_Rating','Price']].corr()"
   ]
  },
  {
   "cell_type": "code",
   "execution_count": 71,
   "metadata": {},
   "outputs": [
    {
     "data": {
      "text/html": [
       "<div>\n",
       "<style scoped>\n",
       "    .dataframe tbody tr th:only-of-type {\n",
       "        vertical-align: middle;\n",
       "    }\n",
       "\n",
       "    .dataframe tbody tr th {\n",
       "        vertical-align: top;\n",
       "    }\n",
       "\n",
       "    .dataframe thead th {\n",
       "        text-align: right;\n",
       "    }\n",
       "</style>\n",
       "<table border=\"1\" class=\"dataframe\">\n",
       "  <thead>\n",
       "    <tr style=\"text-align: right;\">\n",
       "      <th></th>\n",
       "      <th>Beds</th>\n",
       "      <th>Number_Of_Reviews</th>\n",
       "      <th>Price</th>\n",
       "      <th>Review_Scores_Rating</th>\n",
       "    </tr>\n",
       "  </thead>\n",
       "  <tbody>\n",
       "    <tr>\n",
       "      <th>Beds</th>\n",
       "      <td>1.00</td>\n",
       "      <td>0.05</td>\n",
       "      <td>0.31</td>\n",
       "      <td>-0.06</td>\n",
       "    </tr>\n",
       "    <tr>\n",
       "      <th>Number_Of_Reviews</th>\n",
       "      <td>0.05</td>\n",
       "      <td>1.00</td>\n",
       "      <td>-0.04</td>\n",
       "      <td>-0.01</td>\n",
       "    </tr>\n",
       "    <tr>\n",
       "      <th>Price</th>\n",
       "      <td>0.31</td>\n",
       "      <td>-0.04</td>\n",
       "      <td>1.00</td>\n",
       "      <td>0.04</td>\n",
       "    </tr>\n",
       "    <tr>\n",
       "      <th>Review_Scores_Rating</th>\n",
       "      <td>-0.06</td>\n",
       "      <td>-0.01</td>\n",
       "      <td>0.04</td>\n",
       "      <td>1.00</td>\n",
       "    </tr>\n",
       "  </tbody>\n",
       "</table>\n",
       "</div>"
      ],
      "text/plain": [
       "                      Beds  Number_Of_Reviews  Price  Review_Scores_Rating\n",
       "Beds                  1.00               0.05   0.31                 -0.06\n",
       "Number_Of_Reviews     0.05               1.00  -0.04                 -0.01\n",
       "Price                 0.31              -0.04   1.00                  0.04\n",
       "Review_Scores_Rating -0.06              -0.01   0.04                  1.00"
      ]
     },
     "execution_count": 71,
     "metadata": {},
     "output_type": "execute_result"
    }
   ],
   "source": [
    "data.corr().round(2)"
   ]
  },
  {
   "cell_type": "code",
   "execution_count": 72,
   "metadata": {},
   "outputs": [
    {
     "data": {
      "text/plain": [
       "<AxesSubplot:>"
      ]
     },
     "execution_count": 72,
     "metadata": {},
     "output_type": "execute_result"
    },
    {
     "data": {
      "image/png": "[encoded data removed]",
      "text/plain": [
       "<Figure size 432x288 with 2 Axes>"
      ]
     },
     "metadata": {
      "needs_background": "light"
     },
     "output_type": "display_data"
    }
   ],
   "source": [
    "#visualising corr coefs by using heatmap chart from seaborn library\n",
    "sns.heatmap(data.corr().abs(),annot=True)"
   ]
  },
  {
   "cell_type": "markdown",
   "metadata": {},
   "source": [
    "> **Constructing histograms to see the distibution of numeric variables.**"
   ]
  },
  {
   "cell_type": "code",
   "execution_count": 73,
   "metadata": {},
   "outputs": [
    {
     "data": {
      "image/png": "[encoded data removed]",
      "text/plain": [
       "<Figure size 432x288 with 1 Axes>"
      ]
     },
     "metadata": {
      "needs_background": "light"
     },
     "output_type": "display_data"
    }
   ],
   "source": [
    "plt.hist(data_new.Beds)\n",
    "\n",
    "plt.title('Distribution of Beds variable')\n",
    "plt.xlabel('Number of beds')\n",
    "plt.ylabel('Frequency')\n",
    "\n",
    "plt.show()"
   ]
  },
  {
   "cell_type": "code",
   "execution_count": 74,
   "metadata": {},
   "outputs": [
    {
     "data": {
      "text/plain": [
       "Index(['Host Id', 'Host Since', 'Name', 'Neighbourhood ', 'Property Type',\n",
       "       'Room Type', 'Zipcode', 'Beds', 'Number Of Reviews', 'Price',\n",
       "       'Review Scores Rating'],\n",
       "      dtype='object')"
      ]
     },
     "execution_count": 74,
     "metadata": {},
     "output_type": "execute_result"
    }
   ],
   "source": [
    "data_new.columns"
   ]
  },
  {
   "cell_type": "markdown",
   "metadata": {},
   "source": [
    "> **Using a for loop to print histograms of all numeric variable in data_num(includes only numeric data) dataset.**"
   ]
  },
  {
   "cell_type": "code",
   "execution_count": 75,
   "metadata": {
    "scrolled": false
   },
   "outputs": [
    {
     "data": {
      "image/png": "[encoded data removed]",
      "text/plain": [
       "<Figure size 432x288 with 1 Axes>"
      ]
     },
     "metadata": {
      "needs_background": "light"
     },
     "output_type": "display_data"
    },
    {
     "data": {
      "image/png": "[encoded data removed]",
      "text/plain": [
       "<Figure size 432x288 with 1 Axes>"
      ]
     },
     "metadata": {
      "needs_background": "light"
     },
     "output_type": "display_data"
    },
    {
     "data": {
      "image/png": "[encoded data removed]",
      "text/plain": [
       "<Figure size 432x288 with 1 Axes>"
      ]
     },
     "metadata": {
      "needs_background": "light"
     },
     "output_type": "display_data"
    },
    {
     "data": {
      "image/png": "[encoded data removed]",
      "text/plain": [
       "<Figure size 432x288 with 1 Axes>"
      ]
     },
     "metadata": {
      "needs_background": "light"
     },
     "output_type": "display_data"
    }
   ],
   "source": [
    "for i in data_num.columns:\n",
    "    plt.hist(data_num[i],color='#a89932')\n",
    "    plt.show()"
   ]
  }
 ],
 "metadata": {
  "kernelspec": {
   "display_name": "Python 3 (ipykernel)",
   "language": "python",
   "name": "python3"
  },
  "language_info": {
   "codemirror_mode": {
    "name": "ipython",
    "version": 3
   },
   "file_extension": ".py",
   "mimetype": "text/x-python",
   "name": "python",
   "nbconvert_exporter": "python",
   "pygments_lexer": "ipython3",
   "version": "3.9.7"
  }
 },
 "nbformat": 4,
 "nbformat_minor": 2
}
