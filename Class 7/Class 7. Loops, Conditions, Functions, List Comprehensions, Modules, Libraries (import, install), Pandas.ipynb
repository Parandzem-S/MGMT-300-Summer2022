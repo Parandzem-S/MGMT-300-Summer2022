{
 "cells": [
  {
   "cell_type": "markdown",
   "metadata": {},
   "source": [
    "# Class 7.Loops, Conditions, Functions, List Comprehensions, Modules/Libraries (import, install), Pandas"
   ]
  },
  {
   "cell_type": "markdown",
   "metadata": {},
   "source": [
    "During the class the following has been covered:\n",
    "\n",
    "- For loops + if conditions, functions + if conditions\n",
    "- List Comprehensions\n",
    "- Modules/Libraries (import, install)\n",
    "- Pandas"
   ]
  },
  {
   "cell_type": "markdown",
   "metadata": {},
   "source": [
    "> In the feew cells below, <code>split()</code> method and <code>for loop</code> has been used to print number of characters of each word in a sentence and store the values in a new list."
   ]
  },
  {
   "cell_type": "code",
   "execution_count": 1,
   "metadata": {},
   "outputs": [],
   "source": [
    "#string that should be splitted\n",
    "a='In this world, you should always be suspicious of the knowledge you drive from data'"
   ]
  },
  {
   "cell_type": "code",
   "execution_count": 2,
   "metadata": {},
   "outputs": [
    {
     "data": {
      "text/plain": [
       "str"
      ]
     },
     "execution_count": 2,
     "metadata": {},
     "output_type": "execute_result"
    }
   ],
   "source": [
    "#checking type of a string\n",
    "type(a)"
   ]
  },
  {
   "cell_type": "code",
   "execution_count": 3,
   "metadata": {},
   "outputs": [
    {
     "data": {
      "text/plain": [
       "['In',\n",
       " 'this',\n",
       " 'world,',\n",
       " 'you',\n",
       " 'should',\n",
       " 'always',\n",
       " 'be',\n",
       " 'suspicious',\n",
       " 'of',\n",
       " 'the',\n",
       " 'knowledge',\n",
       " 'you',\n",
       " 'drive',\n",
       " 'from',\n",
       " 'data']"
      ]
     },
     "execution_count": 3,
     "metadata": {},
     "output_type": "execute_result"
    }
   ],
   "source": [
    "#spliting a list into list of words\n",
    "a_new=a.split()\n",
    "a_new"
   ]
  },
  {
   "cell_type": "code",
   "execution_count": 4,
   "metadata": {},
   "outputs": [
    {
     "data": {
      "text/plain": [
       "2"
      ]
     },
     "execution_count": 4,
     "metadata": {},
     "output_type": "execute_result"
    }
   ],
   "source": [
    "#len() function should be used to check length of each word inside the list\n",
    "len(a_new[0])"
   ]
  },
  {
   "cell_type": "code",
   "execution_count": 5,
   "metadata": {},
   "outputs": [
    {
     "name": "stdout",
     "output_type": "stream",
     "text": [
      "2\n",
      "4\n",
      "6\n",
      "3\n",
      "6\n",
      "6\n",
      "2\n",
      "10\n",
      "2\n",
      "3\n",
      "9\n",
      "3\n",
      "5\n",
      "4\n",
      "4\n"
     ]
    }
   ],
   "source": [
    "# for loop has been used to print the length of each word in a_new list\n",
    "for i in a_new:\n",
    "    print(len(i))"
   ]
  },
  {
   "cell_type": "markdown",
   "metadata": {},
   "source": [
    "> The cell below show that in that way you can NOT store all the lengths in a new list"
   ]
  },
  {
   "cell_type": "code",
   "execution_count": 6,
   "metadata": {},
   "outputs": [
    {
     "data": {
      "text/plain": [
       "4"
      ]
     },
     "execution_count": 6,
     "metadata": {},
     "output_type": "execute_result"
    }
   ],
   "source": [
    "for i in a_new:\n",
    "    a_lengths= len(i)\n",
    "a_lengths"
   ]
  },
  {
   "cell_type": "markdown",
   "metadata": {},
   "source": [
    "> The correct way of storing all the lengths in a new list is by creating an empty list then appending each length returned by <code>for loop</code> to it"
   ]
  },
  {
   "cell_type": "code",
   "execution_count": 7,
   "metadata": {},
   "outputs": [
    {
     "data": {
      "text/plain": [
       "[]"
      ]
     },
     "execution_count": 7,
     "metadata": {},
     "output_type": "execute_result"
    }
   ],
   "source": [
    "#creating an empty list\n",
    "a_len_new=[]\n",
    "a_len_new"
   ]
  },
  {
   "cell_type": "code",
   "execution_count": 8,
   "metadata": {},
   "outputs": [
    {
     "data": {
      "text/plain": [
       "[2, 4, 6, 3, 6, 6, 2, 10, 2, 3, 9, 3, 5, 4, 4]"
      ]
     },
     "execution_count": 8,
     "metadata": {},
     "output_type": "execute_result"
    }
   ],
   "source": [
    "#appending values to an empty list\n",
    "for i in a_new:\n",
    "    a_len_new.append(len(i))\n",
    "a_len_new"
   ]
  },
  {
   "cell_type": "markdown",
   "metadata": {},
   "source": [
    "> Below few cells of code show how you can craete a list of lengths that are higher than 5>"
   ]
  },
  {
   "cell_type": "code",
   "execution_count": 9,
   "metadata": {},
   "outputs": [
    {
     "data": {
      "text/plain": [
       "False"
      ]
     },
     "execution_count": 9,
     "metadata": {},
     "output_type": "execute_result"
    }
   ],
   "source": [
    "#checking the condition for the first item in  a list\n",
    "a_len_new[0]>5"
   ]
  },
  {
   "cell_type": "code",
   "execution_count": 10,
   "metadata": {},
   "outputs": [
    {
     "name": "stdout",
     "output_type": "stream",
     "text": [
      "6\n"
     ]
    }
   ],
   "source": [
    "#if condition checks if a value is higher than 5 then prints a value\n",
    "if a_len_new[2]>5:\n",
    "    print(a_len_new[2])"
   ]
  },
  {
   "cell_type": "code",
   "execution_count": 11,
   "metadata": {},
   "outputs": [
    {
     "data": {
      "text/plain": [
       "[6, 6, 6, 10, 9]"
      ]
     },
     "execution_count": 11,
     "metadata": {},
     "output_type": "execute_result"
    }
   ],
   "source": [
    "#combining if and for loop to get the final list of lengths that are higher than 5\n",
    "a_len_higer5=[]\n",
    "for i in a_len_new:\n",
    "    if i>5:\n",
    "        a_len_higer5.append(i)\n",
    "a_len_higer5"
   ]
  },
  {
   "cell_type": "code",
   "execution_count": 12,
   "metadata": {},
   "outputs": [
    {
     "data": {
      "text/plain": [
       "15"
      ]
     },
     "execution_count": 12,
     "metadata": {},
     "output_type": "execute_result"
    }
   ],
   "source": [
    "#checks the length of a list\n",
    "len(a_new)"
   ]
  },
  {
   "cell_type": "markdown",
   "metadata": {},
   "source": [
    "> The second method of solution uses <code> range()</code> and <code>len()</code> functions: "
   ]
  },
  {
   "cell_type": "code",
   "execution_count": 13,
   "metadata": {},
   "outputs": [
    {
     "data": {
      "text/plain": [
       "[6, 6, 6, 10, 9]"
      ]
     },
     "execution_count": 13,
     "metadata": {},
     "output_type": "execute_result"
    }
   ],
   "source": [
    "a_len_morethan5_2=[]\n",
    "for i in range(len(a_new)):\n",
    "    if len(a_new[i])>5:\n",
    "        a_len_morethan5_2.append(len(a_new[i]))\n",
    "a_len_morethan5_2"
   ]
  },
  {
   "cell_type": "markdown",
   "metadata": {},
   "source": [
    "> Let's create function that will calculated monthly payment of a loan\n",
    "> PMT formula: https://www.double-entry-bookkeeping.com/periodic-payment/annuity-payment-formula-fv/"
   ]
  },
  {
   "cell_type": "code",
   "execution_count": null,
   "metadata": {},
   "outputs": [],
   "source": []
  },
  {
   "cell_type": "code",
   "execution_count": 14,
   "metadata": {},
   "outputs": [],
   "source": [
    "def pmt(FV,r,n):\n",
    "    \"\"\"\n",
    "    This f calculates monthly pmts of any loan where\n",
    "    FV- future value, r - rate, n - number of periods\\\n",
    "    \"\"\"\n",
    "    month_pmt=FV*r/((1+r)**n -1)\n",
    "    return month_pmt"
   ]
  },
  {
   "cell_type": "markdown",
   "metadata": {},
   "source": [
    "> <code>round()</code> function rounds a number to a given precision in decimal digits."
   ]
  },
  {
   "cell_type": "code",
   "execution_count": 15,
   "metadata": {},
   "outputs": [
    {
     "data": {
      "text/plain": [
       "44.44"
      ]
     },
     "execution_count": 15,
     "metadata": {},
     "output_type": "execute_result"
    }
   ],
   "source": [
    "round(pmt(100,3/12,2),2)"
   ]
  },
  {
   "cell_type": "markdown",
   "metadata": {},
   "source": [
    "> Write a function that will ask your name and age and then return the following sentence: \n",
    "  “My name is Anna and I’m 1.5 years old”.\n"
   ]
  },
  {
   "cell_type": "markdown",
   "metadata": {},
   "source": [
    "**! Note** When defining functions, it's not mandatory to have arguments inside parenthesis,arguments can be inputted by users. "
   ]
  },
  {
   "cell_type": "code",
   "execution_count": 16,
   "metadata": {},
   "outputs": [],
   "source": [
    "def info_2():\n",
    "    name=input(\"What is your name?\")\n",
    "    age=input(\"How old are you?\")\n",
    "    return f'My name is {name} and I’m {age} years old.'"
   ]
  },
  {
   "cell_type": "code",
   "execution_count": 17,
   "metadata": {},
   "outputs": [
    {
     "name": "stdout",
     "output_type": "stream",
     "text": [
      "What is your name?Anna\n",
      "How old are you?1.5\n"
     ]
    },
    {
     "data": {
      "text/plain": [
       "'My name is Anna and I’m 1.5 years old.'"
      ]
     },
     "execution_count": 17,
     "metadata": {},
     "output_type": "execute_result"
    }
   ],
   "source": [
    "info_2()"
   ]
  },
  {
   "cell_type": "markdown",
   "metadata": {},
   "source": [
    "> **Defining a function that will calculate mimimum number of the list.**"
   ]
  },
  {
   "cell_type": "code",
   "execution_count": 18,
   "metadata": {},
   "outputs": [],
   "source": [
    "a=[2,5,4,15,0, -1]"
   ]
  },
  {
   "cell_type": "code",
   "execution_count": 19,
   "metadata": {},
   "outputs": [
    {
     "data": {
      "text/plain": [
       "-1"
      ]
     },
     "execution_count": 19,
     "metadata": {},
     "output_type": "execute_result"
    }
   ],
   "source": [
    "min(a)"
   ]
  },
  {
   "cell_type": "code",
   "execution_count": 20,
   "metadata": {},
   "outputs": [],
   "source": [
    "#creating a fanction that calculates mimimum number of a given list\n",
    "def minimum(l):\n",
    "    \"\"\"Argument should be a list\"\"\"\n",
    "    min_first=l[0]\n",
    "    for i in l:\n",
    "        if i<min_first:\n",
    "            min_first=i\n",
    "    return min_first"
   ]
  },
  {
   "cell_type": "code",
   "execution_count": 21,
   "metadata": {},
   "outputs": [
    {
     "data": {
      "text/plain": [
       "-1"
      ]
     },
     "execution_count": 21,
     "metadata": {},
     "output_type": "execute_result"
    }
   ],
   "source": [
    "minimum(a)"
   ]
  },
  {
   "cell_type": "markdown",
   "metadata": {},
   "source": [
    "> **Defining a function that will calculate net salary out of gross salary**"
   ]
  },
  {
   "cell_type": "code",
   "execution_count": 22,
   "metadata": {},
   "outputs": [],
   "source": [
    "def get_salary():\n",
    "    try:\n",
    "        gross_salary=float(input(\"Insert your salary\"))\n",
    "        #income tax\n",
    "        income_tax=gross_salary*0.22\n",
    "        #pension\n",
    "        if gross_salary<=500000:\n",
    "            pension=0.035*gross_salary\n",
    "        elif gross_salary>500000 and gross_salary<=1020000:\n",
    "            pension=0.1*gross_salary-32500\n",
    "        else:\n",
    "            pension=69500\n",
    "        #ARMY FEE\n",
    "        if gross_salary<=100000:\n",
    "            army_fee=1500\n",
    "        elif gross_salary>100000 and gross_salary<=200000:\n",
    "            army_fee=3000\n",
    "        elif gross_salary>200000 and gross_salary<=500000:\n",
    "            army_fee=5500\n",
    "        elif gross_salary>500000 and gross_salary<=1000000:\n",
    "            army_fee=8500\n",
    "        else:\n",
    "            15000\n",
    "        #net salary\n",
    "        net_salary=gross_salary-income_tax-pension-army_fee\n",
    "        return net_salary\n",
    "    except ValueError:\n",
    "        print(\"Please enter valid numeric value.\")"
   ]
  },
  {
   "cell_type": "markdown",
   "metadata": {},
   "source": [
    ">  <code>try except</code>\n",
    "When an error occurs, or exception as we call it, Python will normally stop and generate an error message. These exceptions can be handled using the try statement:\n",
    "\n",
    "        - The <code>try</code> block lets you test a block of code for errors.\n",
    "        - The <code>except</code> block lets you handle the error."
   ]
  },
  {
   "cell_type": "code",
   "execution_count": 23,
   "metadata": {},
   "outputs": [
    {
     "name": "stdout",
     "output_type": "stream",
     "text": [
      "Insert your salary200000\n"
     ]
    },
    {
     "data": {
      "text/plain": [
       "146000.0"
      ]
     },
     "execution_count": 23,
     "metadata": {},
     "output_type": "execute_result"
    }
   ],
   "source": [
    "get_salary()"
   ]
  },
  {
   "cell_type": "markdown",
   "metadata": {},
   "source": [
    "# List Comprehensions\n",
    "\n",
    "- Only for statement: First output should be printed then for statement,\n",
    "- for statement + if statement: Fisrt output should be printed, then for statement, then if statement,\n",
    "- for statement + if statement+elif/else statement/s: Fisrt output should be printed, then if statement,then else/elif, and at the end for statement should be printed."
   ]
  },
  {
   "cell_type": "code",
   "execution_count": 24,
   "metadata": {},
   "outputs": [],
   "source": [
    "#a list\n",
    "y=[2,5,10,6,7]"
   ]
  },
  {
   "cell_type": "code",
   "execution_count": 25,
   "metadata": {},
   "outputs": [
    {
     "name": "stdout",
     "output_type": "stream",
     "text": [
      "2\n",
      "5\n",
      "10\n",
      "6\n",
      "7\n"
     ]
    }
   ],
   "source": [
    "#simple for loop\n",
    "for i in y:\n",
    "    print(i)"
   ]
  },
  {
   "cell_type": "code",
   "execution_count": 26,
   "metadata": {},
   "outputs": [
    {
     "data": {
      "text/plain": [
       "[2, 5, 10, 6, 7]"
      ]
     },
     "execution_count": 26,
     "metadata": {},
     "output_type": "execute_result"
    }
   ],
   "source": [
    "#list comprehension method\n",
    "y_new=[i for i in y]\n",
    "y_new"
   ]
  },
  {
   "cell_type": "code",
   "execution_count": 27,
   "metadata": {},
   "outputs": [],
   "source": [
    "#new list\n",
    "x=[12,6,4,8,7]"
   ]
  },
  {
   "cell_type": "code",
   "execution_count": 28,
   "metadata": {},
   "outputs": [
    {
     "name": "stdout",
     "output_type": "stream",
     "text": [
      "(2, 12)\n",
      "(2, 6)\n",
      "(2, 4)\n",
      "(2, 8)\n",
      "(2, 7)\n",
      "(5, 12)\n",
      "(5, 6)\n",
      "(5, 4)\n",
      "(5, 8)\n",
      "(5, 7)\n",
      "(10, 12)\n",
      "(10, 6)\n",
      "(10, 4)\n",
      "(10, 8)\n",
      "(10, 7)\n",
      "(6, 12)\n",
      "(6, 6)\n",
      "(6, 4)\n",
      "(6, 8)\n",
      "(6, 7)\n",
      "(7, 12)\n",
      "(7, 6)\n",
      "(7, 4)\n",
      "(7, 8)\n",
      "(7, 7)\n"
     ]
    }
   ],
   "source": [
    "#printing pairs of data from x,y lists\n",
    "for i in y:\n",
    "    for j in x:\n",
    "        print((i,j))"
   ]
  },
  {
   "cell_type": "code",
   "execution_count": 29,
   "metadata": {},
   "outputs": [
    {
     "data": {
      "text/plain": [
       "[(2, 12),\n",
       " (2, 6),\n",
       " (2, 4),\n",
       " (2, 8),\n",
       " (2, 7),\n",
       " (5, 12),\n",
       " (5, 6),\n",
       " (5, 4),\n",
       " (5, 8),\n",
       " (5, 7),\n",
       " (10, 12),\n",
       " (10, 6),\n",
       " (10, 4),\n",
       " (10, 8),\n",
       " (10, 7),\n",
       " (6, 12),\n",
       " (6, 6),\n",
       " (6, 4),\n",
       " (6, 8),\n",
       " (6, 7),\n",
       " (7, 12),\n",
       " (7, 6),\n",
       " (7, 4),\n",
       " (7, 8),\n",
       " (7, 7)]"
      ]
     },
     "execution_count": 29,
     "metadata": {},
     "output_type": "execute_result"
    }
   ],
   "source": [
    "#printing pairs of data from x,y lists by using list comprehensions\n",
    "[(i,j) for i in y for j in x]"
   ]
  },
  {
   "cell_type": "code",
   "execution_count": 30,
   "metadata": {},
   "outputs": [
    {
     "data": {
      "text/plain": [
       "[12, 6, 4, 8, 7]"
      ]
     },
     "execution_count": 30,
     "metadata": {},
     "output_type": "execute_result"
    }
   ],
   "source": [
    "x"
   ]
  },
  {
   "cell_type": "code",
   "execution_count": 31,
   "metadata": {},
   "outputs": [
    {
     "data": {
      "text/plain": [
       "[12, 8, 7]"
      ]
     },
     "execution_count": 31,
     "metadata": {},
     "output_type": "execute_result"
    }
   ],
   "source": [
    "#with if condition\n",
    "x_new_higher6=[i for i in x if i>6]\n",
    "x_new_higher6"
   ]
  },
  {
   "cell_type": "code",
   "execution_count": 32,
   "metadata": {},
   "outputs": [
    {
     "data": {
      "text/plain": [
       "['more than 10', '4-10', '4-10', '4-10', '4-10']"
      ]
     },
     "execution_count": 32,
     "metadata": {},
     "output_type": "execute_result"
    }
   ],
   "source": [
    "#with multiple if conditions\n",
    "['up to 4' if i<4 else '4-10' if i>=4 and i<10 else \"more than 10\" for i in x]"
   ]
  },
  {
   "cell_type": "code",
   "execution_count": 33,
   "metadata": {},
   "outputs": [
    {
     "data": {
      "text/plain": [
       "'C:\\\\Users\\\\psargsyan\\\\Dropbox\\\\MGMT 300 2022\\\\Class 7'"
      ]
     },
     "execution_count": 33,
     "metadata": {},
     "output_type": "execute_result"
    }
   ],
   "source": [
    "#checking directory of a file\n",
    "%pwd"
   ]
  },
  {
   "cell_type": "markdown",
   "metadata": {},
   "source": [
    "# Modules/Libraries\n",
    "\n",
    "- To install a package on machine, one must run the following command on the command prompt/terminal: pip install packagename1 pacakgename2 ... (or !pip install packagename1 packagename2 inside Jupyter Notebook).\n",
    "- A library is a collection of functions which we will use to do analysis. Libraries may contain not only functions but also data values (e.g., numerical constants).\n",
    "- Python's standard library is installed with it. Many additional libraries are available from PyPI (the Python Package Index).\n",
    "- Use import to load a library into a program's memory. Use import...as... to give a library a short alias while importing it. Then refer to items in the library using that shortened name library_shortened_name.thing_name. Python uses \".\" sign to mean \"part of\" something(e.g. library, DataFrame).\n",
    "\n",
    "**!Note: Before starting your analysis, first import all the libraries you're going to use in your script.**\n",
    "\n",
    "> for installing libraries inside Jupyter Notebook, the following code should be used\n",
    "  <code>!pip install pandas</code>"
   ]
  },
  {
   "cell_type": "code",
   "execution_count": 34,
   "metadata": {},
   "outputs": [],
   "source": [
    "#importing pandas library\n",
    "import pandas as pd"
   ]
  },
  {
   "cell_type": "code",
   "execution_count": 35,
   "metadata": {},
   "outputs": [],
   "source": [
    "#reading the data\n",
    "data_call=pd.read_excel('Call Data.xlsx')"
   ]
  },
  {
   "cell_type": "code",
   "execution_count": 36,
   "metadata": {
    "scrolled": false
   },
   "outputs": [
    {
     "data": {
      "text/html": [
       "<div>\n",
       "<style scoped>\n",
       "    .dataframe tbody tr th:only-of-type {\n",
       "        vertical-align: middle;\n",
       "    }\n",
       "\n",
       "    .dataframe tbody tr th {\n",
       "        vertical-align: top;\n",
       "    }\n",
       "\n",
       "    .dataframe thead th {\n",
       "        text-align: right;\n",
       "    }\n",
       "</style>\n",
       "<table border=\"1\" class=\"dataframe\">\n",
       "  <thead>\n",
       "    <tr style=\"text-align: right;\">\n",
       "      <th></th>\n",
       "      <th>Call ID</th>\n",
       "      <th>Date</th>\n",
       "      <th>Dates</th>\n",
       "      <th>Product</th>\n",
       "      <th>Region</th>\n",
       "      <th>Customer Type</th>\n",
       "      <th>Call Duration</th>\n",
       "      <th>Resolved</th>\n",
       "      <th>Service Satisfaction Ratio</th>\n",
       "      <th>Product Satisfaction Ratio</th>\n",
       "      <th>Up-sell</th>\n",
       "      <th>Quantity</th>\n",
       "      <th>Agent ID</th>\n",
       "    </tr>\n",
       "  </thead>\n",
       "  <tbody>\n",
       "    <tr>\n",
       "      <th>0</th>\n",
       "      <td>CL00001</td>\n",
       "      <td>2021-04-19</td>\n",
       "      <td>Apr</td>\n",
       "      <td>Desktop</td>\n",
       "      <td>Mid-west</td>\n",
       "      <td>Individual</td>\n",
       "      <td>94</td>\n",
       "      <td>Yes</td>\n",
       "      <td>2.6</td>\n",
       "      <td>4.7</td>\n",
       "      <td>170.0</td>\n",
       "      <td>1</td>\n",
       "      <td>Bond</td>\n",
       "    </tr>\n",
       "    <tr>\n",
       "      <th>1</th>\n",
       "      <td>CL00002</td>\n",
       "      <td>2021-06-15</td>\n",
       "      <td>Jun</td>\n",
       "      <td>Laptop</td>\n",
       "      <td>West</td>\n",
       "      <td>SME</td>\n",
       "      <td>83</td>\n",
       "      <td>Yes</td>\n",
       "      <td>1.9</td>\n",
       "      <td>2.2</td>\n",
       "      <td>250.0</td>\n",
       "      <td>3</td>\n",
       "      <td>Mary</td>\n",
       "    </tr>\n",
       "    <tr>\n",
       "      <th>2</th>\n",
       "      <td>CL00003</td>\n",
       "      <td>2021-04-12</td>\n",
       "      <td>Apr</td>\n",
       "      <td>Misc.</td>\n",
       "      <td>North</td>\n",
       "      <td>Individual</td>\n",
       "      <td>76</td>\n",
       "      <td>Yes</td>\n",
       "      <td>2.1</td>\n",
       "      <td>2.8</td>\n",
       "      <td>160.0</td>\n",
       "      <td>5</td>\n",
       "      <td>Neo</td>\n",
       "    </tr>\n",
       "    <tr>\n",
       "      <th>3</th>\n",
       "      <td>CL00004</td>\n",
       "      <td>2021-06-14</td>\n",
       "      <td>Jun</td>\n",
       "      <td>Misc.</td>\n",
       "      <td>West</td>\n",
       "      <td>Large Corporate</td>\n",
       "      <td>76</td>\n",
       "      <td>No</td>\n",
       "      <td>3.4</td>\n",
       "      <td>4.9</td>\n",
       "      <td>170.0</td>\n",
       "      <td>4</td>\n",
       "      <td>Vinod</td>\n",
       "    </tr>\n",
       "    <tr>\n",
       "      <th>4</th>\n",
       "      <td>CL00005</td>\n",
       "      <td>2021-02-11</td>\n",
       "      <td>Feb</td>\n",
       "      <td>Laptop</td>\n",
       "      <td>East</td>\n",
       "      <td>SME</td>\n",
       "      <td>67</td>\n",
       "      <td>Yes</td>\n",
       "      <td>4.0</td>\n",
       "      <td>4.8</td>\n",
       "      <td>0.0</td>\n",
       "      <td>7</td>\n",
       "      <td>Neo</td>\n",
       "    </tr>\n",
       "    <tr>\n",
       "      <th>5</th>\n",
       "      <td>CL00006</td>\n",
       "      <td>2021-04-29</td>\n",
       "      <td>Apr</td>\n",
       "      <td>NaN</td>\n",
       "      <td>East</td>\n",
       "      <td>SME</td>\n",
       "      <td>62</td>\n",
       "      <td>Yes</td>\n",
       "      <td>4.4</td>\n",
       "      <td>4.5</td>\n",
       "      <td>240.0</td>\n",
       "      <td>2</td>\n",
       "      <td>Neo</td>\n",
       "    </tr>\n",
       "    <tr>\n",
       "      <th>6</th>\n",
       "      <td>CL00007</td>\n",
       "      <td>2021-04-05</td>\n",
       "      <td>Apr</td>\n",
       "      <td>Misc.</td>\n",
       "      <td>West</td>\n",
       "      <td>SME</td>\n",
       "      <td>84</td>\n",
       "      <td>Yes</td>\n",
       "      <td>4.2</td>\n",
       "      <td>4.0</td>\n",
       "      <td>0.0</td>\n",
       "      <td>4</td>\n",
       "      <td>Mary</td>\n",
       "    </tr>\n",
       "  </tbody>\n",
       "</table>\n",
       "</div>"
      ],
      "text/plain": [
       "   Call ID       Date Dates  Product    Region    Customer Type  \\\n",
       "0  CL00001 2021-04-19   Apr  Desktop  Mid-west       Individual   \n",
       "1  CL00002 2021-06-15   Jun   Laptop      West              SME   \n",
       "2  CL00003 2021-04-12   Apr    Misc.     North       Individual   \n",
       "3  CL00004 2021-06-14   Jun    Misc.      West  Large Corporate   \n",
       "4  CL00005 2021-02-11   Feb   Laptop      East              SME   \n",
       "5  CL00006 2021-04-29   Apr      NaN      East              SME   \n",
       "6  CL00007 2021-04-05   Apr    Misc.      West              SME   \n",
       "\n",
       "   Call Duration Resolved  Service Satisfaction Ratio   \\\n",
       "0             94      Yes                          2.6   \n",
       "1             83      Yes                          1.9   \n",
       "2             76      Yes                          2.1   \n",
       "3             76       No                          3.4   \n",
       "4             67      Yes                          4.0   \n",
       "5             62      Yes                          4.4   \n",
       "6             84      Yes                          4.2   \n",
       "\n",
       "   Product Satisfaction Ratio  Up-sell  Quantity  Agent ID  \n",
       "0                         4.7    170.0          1     Bond  \n",
       "1                         2.2    250.0          3     Mary  \n",
       "2                         2.8    160.0          5      Neo  \n",
       "3                         4.9    170.0          4    Vinod  \n",
       "4                         4.8      0.0          7      Neo  \n",
       "5                         4.5    240.0          2      Neo  \n",
       "6                         4.0      0.0          4     Mary  "
      ]
     },
     "execution_count": 36,
     "metadata": {},
     "output_type": "execute_result"
    }
   ],
   "source": [
    "#printin first 7 rows of data\n",
    "data_call.head(7)"
   ]
  },
  {
   "cell_type": "code",
   "execution_count": 37,
   "metadata": {},
   "outputs": [
    {
     "data": {
      "text/html": [
       "<div>\n",
       "<style scoped>\n",
       "    .dataframe tbody tr th:only-of-type {\n",
       "        vertical-align: middle;\n",
       "    }\n",
       "\n",
       "    .dataframe tbody tr th {\n",
       "        vertical-align: top;\n",
       "    }\n",
       "\n",
       "    .dataframe thead th {\n",
       "        text-align: right;\n",
       "    }\n",
       "</style>\n",
       "<table border=\"1\" class=\"dataframe\">\n",
       "  <thead>\n",
       "    <tr style=\"text-align: right;\">\n",
       "      <th></th>\n",
       "      <th>Call ID</th>\n",
       "      <th>Date</th>\n",
       "      <th>Dates</th>\n",
       "      <th>Product</th>\n",
       "      <th>Region</th>\n",
       "      <th>Customer Type</th>\n",
       "      <th>Call Duration</th>\n",
       "      <th>Resolved</th>\n",
       "      <th>Service Satisfaction Ratio</th>\n",
       "      <th>Product Satisfaction Ratio</th>\n",
       "      <th>Up-sell</th>\n",
       "      <th>Quantity</th>\n",
       "      <th>Agent ID</th>\n",
       "    </tr>\n",
       "  </thead>\n",
       "  <tbody>\n",
       "    <tr>\n",
       "      <th>14825</th>\n",
       "      <td>CL14826</td>\n",
       "      <td>2021-04-06</td>\n",
       "      <td>Apr</td>\n",
       "      <td>Desktop</td>\n",
       "      <td>East</td>\n",
       "      <td>Individual</td>\n",
       "      <td>74</td>\n",
       "      <td>Yes</td>\n",
       "      <td>3.0</td>\n",
       "      <td>1.4</td>\n",
       "      <td>0.0</td>\n",
       "      <td>4</td>\n",
       "      <td>Bond</td>\n",
       "    </tr>\n",
       "    <tr>\n",
       "      <th>14826</th>\n",
       "      <td>CL14827</td>\n",
       "      <td>2021-06-10</td>\n",
       "      <td>Jun</td>\n",
       "      <td>Software</td>\n",
       "      <td>East</td>\n",
       "      <td>Non-profit</td>\n",
       "      <td>88</td>\n",
       "      <td>Yes</td>\n",
       "      <td>2.5</td>\n",
       "      <td>0.1</td>\n",
       "      <td>0.0</td>\n",
       "      <td>2</td>\n",
       "      <td>Vinod</td>\n",
       "    </tr>\n",
       "    <tr>\n",
       "      <th>14827</th>\n",
       "      <td>CL14828</td>\n",
       "      <td>2021-05-24</td>\n",
       "      <td>May</td>\n",
       "      <td>Laptop</td>\n",
       "      <td>South</td>\n",
       "      <td>Non-profit</td>\n",
       "      <td>72</td>\n",
       "      <td>Yes</td>\n",
       "      <td>4.6</td>\n",
       "      <td>0.9</td>\n",
       "      <td>0.0</td>\n",
       "      <td>3</td>\n",
       "      <td>Mary</td>\n",
       "    </tr>\n",
       "    <tr>\n",
       "      <th>14828</th>\n",
       "      <td>CL14829</td>\n",
       "      <td>2021-05-14</td>\n",
       "      <td>May</td>\n",
       "      <td>Desktop</td>\n",
       "      <td>North</td>\n",
       "      <td>Non-profit</td>\n",
       "      <td>90</td>\n",
       "      <td>Yes</td>\n",
       "      <td>4.9</td>\n",
       "      <td>3.7</td>\n",
       "      <td>0.0</td>\n",
       "      <td>3</td>\n",
       "      <td>Harry</td>\n",
       "    </tr>\n",
       "    <tr>\n",
       "      <th>14829</th>\n",
       "      <td>CL14830</td>\n",
       "      <td>2021-01-24</td>\n",
       "      <td>Jan</td>\n",
       "      <td>Monitor</td>\n",
       "      <td>East</td>\n",
       "      <td>Non-profit</td>\n",
       "      <td>69</td>\n",
       "      <td>Yes</td>\n",
       "      <td>4.7</td>\n",
       "      <td>3.1</td>\n",
       "      <td>70.0</td>\n",
       "      <td>2</td>\n",
       "      <td>Harry</td>\n",
       "    </tr>\n",
       "    <tr>\n",
       "      <th>14830</th>\n",
       "      <td>CL14831</td>\n",
       "      <td>2021-06-30</td>\n",
       "      <td>Jun</td>\n",
       "      <td>Software</td>\n",
       "      <td>South</td>\n",
       "      <td>Large Corporate</td>\n",
       "      <td>70</td>\n",
       "      <td>Yes</td>\n",
       "      <td>3.4</td>\n",
       "      <td>1.4</td>\n",
       "      <td>150.0</td>\n",
       "      <td>1</td>\n",
       "      <td>Vinod</td>\n",
       "    </tr>\n",
       "    <tr>\n",
       "      <th>14831</th>\n",
       "      <td>CL14832</td>\n",
       "      <td>2021-02-11</td>\n",
       "      <td>Feb</td>\n",
       "      <td>Accessories</td>\n",
       "      <td>West</td>\n",
       "      <td>SME</td>\n",
       "      <td>73</td>\n",
       "      <td>Yes</td>\n",
       "      <td>3.8</td>\n",
       "      <td>4.8</td>\n",
       "      <td>270.0</td>\n",
       "      <td>5</td>\n",
       "      <td>Neo</td>\n",
       "    </tr>\n",
       "  </tbody>\n",
       "</table>\n",
       "</div>"
      ],
      "text/plain": [
       "       Call ID       Date Dates      Product Region    Customer Type  \\\n",
       "14825  CL14826 2021-04-06   Apr      Desktop   East       Individual   \n",
       "14826  CL14827 2021-06-10   Jun     Software   East       Non-profit   \n",
       "14827  CL14828 2021-05-24   May       Laptop  South       Non-profit   \n",
       "14828  CL14829 2021-05-14   May      Desktop  North       Non-profit   \n",
       "14829  CL14830 2021-01-24   Jan      Monitor   East       Non-profit   \n",
       "14830  CL14831 2021-06-30   Jun     Software  South  Large Corporate   \n",
       "14831  CL14832 2021-02-11   Feb  Accessories   West              SME   \n",
       "\n",
       "       Call Duration Resolved  Service Satisfaction Ratio   \\\n",
       "14825             74      Yes                          3.0   \n",
       "14826             88      Yes                          2.5   \n",
       "14827             72      Yes                          4.6   \n",
       "14828             90      Yes                          4.9   \n",
       "14829             69      Yes                          4.7   \n",
       "14830             70      Yes                          3.4   \n",
       "14831             73      Yes                          3.8   \n",
       "\n",
       "       Product Satisfaction Ratio  Up-sell  Quantity  Agent ID  \n",
       "14825                         1.4      0.0          4     Bond  \n",
       "14826                         0.1      0.0          2    Vinod  \n",
       "14827                         0.9      0.0          3     Mary  \n",
       "14828                         3.7      0.0          3    Harry  \n",
       "14829                         3.1     70.0          2    Harry  \n",
       "14830                         1.4    150.0          1    Vinod  \n",
       "14831                         4.8    270.0          5      Neo  "
      ]
     },
     "execution_count": 37,
     "metadata": {},
     "output_type": "execute_result"
    }
   ],
   "source": [
    "#printing the last 7 rows of data\n",
    "data_call.tail(7)"
   ]
  },
  {
   "cell_type": "code",
   "execution_count": 38,
   "metadata": {},
   "outputs": [
    {
     "data": {
      "text/plain": [
       "0    CL00001\n",
       "1    CL00002\n",
       "2    CL00003\n",
       "3    CL00004\n",
       "4    CL00005\n",
       "Name: Call ID, dtype: object"
      ]
     },
     "execution_count": 38,
     "metadata": {},
     "output_type": "execute_result"
    }
   ],
   "source": [
    "#selecting only one column from dataframe\n",
    "data_call['Call ID'].head()"
   ]
  },
  {
   "cell_type": "code",
   "execution_count": 39,
   "metadata": {},
   "outputs": [
    {
     "data": {
      "text/plain": [
       "(14832, 13)"
      ]
     },
     "execution_count": 39,
     "metadata": {},
     "output_type": "execute_result"
    }
   ],
   "source": [
    "#checking the shape of data: i.e. how many rows and columns the data contains\n",
    "data_call.shape"
   ]
  },
  {
   "cell_type": "code",
   "execution_count": 40,
   "metadata": {},
   "outputs": [
    {
     "name": "stdout",
     "output_type": "stream",
     "text": [
      "<class 'pandas.core.frame.DataFrame'>\n",
      "RangeIndex: 14832 entries, 0 to 14831\n",
      "Data columns (total 13 columns):\n",
      " #   Column                       Non-Null Count  Dtype         \n",
      "---  ------                       --------------  -----         \n",
      " 0   Call ID                      14832 non-null  object        \n",
      " 1   Date                         14832 non-null  datetime64[ns]\n",
      " 2   Dates                        14832 non-null  object        \n",
      " 3   Product                      14830 non-null  object        \n",
      " 4   Region                       14832 non-null  object        \n",
      " 5   Customer Type                14832 non-null  object        \n",
      " 6   Call Duration                14832 non-null  int64         \n",
      " 7   Resolved                     14831 non-null  object        \n",
      " 8   Service Satisfaction Ratio   14832 non-null  float64       \n",
      " 9   Product Satisfaction Ratio   14832 non-null  float64       \n",
      " 10  Up-sell                      14831 non-null  float64       \n",
      " 11  Quantity                     14832 non-null  int64         \n",
      " 12  Agent ID                     14831 non-null  object        \n",
      "dtypes: datetime64[ns](1), float64(3), int64(2), object(7)\n",
      "memory usage: 1.5+ MB\n"
     ]
    }
   ],
   "source": [
    "#checking detailed description of all variables, i.e. number of non-null values, type of the variable, etc\n",
    "data_call.info()"
   ]
  },
  {
   "cell_type": "code",
   "execution_count": 41,
   "metadata": {},
   "outputs": [
    {
     "data": {
      "text/plain": [
       "Call ID                        0\n",
       "Date                           0\n",
       "Dates                          0\n",
       "Product                        2\n",
       "Region                         0\n",
       "Customer Type                  0\n",
       "Call Duration                  0\n",
       "Resolved                       1\n",
       "Service Satisfaction Ratio     0\n",
       "Product Satisfaction Ratio     0\n",
       "Up-sell                        1\n",
       "Quantity                       0\n",
       "Agent ID                       1\n",
       "dtype: int64"
      ]
     },
     "execution_count": 41,
     "metadata": {},
     "output_type": "execute_result"
    }
   ],
   "source": [
    "#checking how many missing values each column has\n",
    "data_call.isna().sum()"
   ]
  },
  {
   "cell_type": "code",
   "execution_count": 42,
   "metadata": {},
   "outputs": [
    {
     "data": {
      "text/html": [
       "<div>\n",
       "<style scoped>\n",
       "    .dataframe tbody tr th:only-of-type {\n",
       "        vertical-align: middle;\n",
       "    }\n",
       "\n",
       "    .dataframe tbody tr th {\n",
       "        vertical-align: top;\n",
       "    }\n",
       "\n",
       "    .dataframe thead th {\n",
       "        text-align: right;\n",
       "    }\n",
       "</style>\n",
       "<table border=\"1\" class=\"dataframe\">\n",
       "  <thead>\n",
       "    <tr style=\"text-align: right;\">\n",
       "      <th></th>\n",
       "      <th>Call Duration</th>\n",
       "      <th>Service Satisfaction Ratio</th>\n",
       "      <th>Product Satisfaction Ratio</th>\n",
       "      <th>Up-sell</th>\n",
       "      <th>Quantity</th>\n",
       "    </tr>\n",
       "  </thead>\n",
       "  <tbody>\n",
       "    <tr>\n",
       "      <th>count</th>\n",
       "      <td>14832.000000</td>\n",
       "      <td>14832.000000</td>\n",
       "      <td>14832.000000</td>\n",
       "      <td>14831.000000</td>\n",
       "      <td>14832.000000</td>\n",
       "    </tr>\n",
       "    <tr>\n",
       "      <th>mean</th>\n",
       "      <td>74.992584</td>\n",
       "      <td>2.960895</td>\n",
       "      <td>2.846676</td>\n",
       "      <td>121.335716</td>\n",
       "      <td>4.460289</td>\n",
       "    </tr>\n",
       "    <tr>\n",
       "      <th>std</th>\n",
       "      <td>8.061397</td>\n",
       "      <td>1.349891</td>\n",
       "      <td>1.522898</td>\n",
       "      <td>105.151607</td>\n",
       "      <td>2.297046</td>\n",
       "    </tr>\n",
       "    <tr>\n",
       "      <th>min</th>\n",
       "      <td>46.000000</td>\n",
       "      <td>0.100000</td>\n",
       "      <td>0.100000</td>\n",
       "      <td>0.000000</td>\n",
       "      <td>1.000000</td>\n",
       "    </tr>\n",
       "    <tr>\n",
       "      <th>25%</th>\n",
       "      <td>69.000000</td>\n",
       "      <td>2.000000</td>\n",
       "      <td>1.500000</td>\n",
       "      <td>0.000000</td>\n",
       "      <td>2.000000</td>\n",
       "    </tr>\n",
       "    <tr>\n",
       "      <th>50%</th>\n",
       "      <td>75.000000</td>\n",
       "      <td>3.200000</td>\n",
       "      <td>3.000000</td>\n",
       "      <td>150.000000</td>\n",
       "      <td>4.000000</td>\n",
       "    </tr>\n",
       "    <tr>\n",
       "      <th>75%</th>\n",
       "      <td>80.000000</td>\n",
       "      <td>4.100000</td>\n",
       "      <td>4.300000</td>\n",
       "      <td>210.000000</td>\n",
       "      <td>6.000000</td>\n",
       "    </tr>\n",
       "    <tr>\n",
       "      <th>max</th>\n",
       "      <td>106.000000</td>\n",
       "      <td>5.000000</td>\n",
       "      <td>5.000000</td>\n",
       "      <td>380.000000</td>\n",
       "      <td>8.000000</td>\n",
       "    </tr>\n",
       "  </tbody>\n",
       "</table>\n",
       "</div>"
      ],
      "text/plain": [
       "       Call Duration  Service Satisfaction Ratio   Product Satisfaction Ratio  \\\n",
       "count   14832.000000                 14832.000000                14832.000000   \n",
       "mean       74.992584                     2.960895                    2.846676   \n",
       "std         8.061397                     1.349891                    1.522898   \n",
       "min        46.000000                     0.100000                    0.100000   \n",
       "25%        69.000000                     2.000000                    1.500000   \n",
       "50%        75.000000                     3.200000                    3.000000   \n",
       "75%        80.000000                     4.100000                    4.300000   \n",
       "max       106.000000                     5.000000                    5.000000   \n",
       "\n",
       "            Up-sell     Quantity   \n",
       "count  14831.000000  14832.000000  \n",
       "mean     121.335716      4.460289  \n",
       "std      105.151607      2.297046  \n",
       "min        0.000000      1.000000  \n",
       "25%        0.000000      2.000000  \n",
       "50%      150.000000      4.000000  \n",
       "75%      210.000000      6.000000  \n",
       "max      380.000000      8.000000  "
      ]
     },
     "execution_count": 42,
     "metadata": {},
     "output_type": "execute_result"
    }
   ],
   "source": [
    "#main descriptive statistics for numeric variables\n",
    "data_call.describe()"
   ]
  },
  {
   "cell_type": "code",
   "execution_count": 43,
   "metadata": {},
   "outputs": [
    {
     "data": {
      "text/plain": [
       "count    14832.000000\n",
       "mean         2.960895\n",
       "std          1.349891\n",
       "min          0.100000\n",
       "25%          2.000000\n",
       "50%          3.200000\n",
       "75%          4.100000\n",
       "max          5.000000\n",
       "Name: Service Satisfaction Ratio , dtype: float64"
      ]
     },
     "execution_count": 43,
     "metadata": {},
     "output_type": "execute_result"
    }
   ],
   "source": [
    "#only for one column\n",
    "data_call['Service Satisfaction Ratio '].describe()"
   ]
  },
  {
   "cell_type": "code",
   "execution_count": 44,
   "metadata": {},
   "outputs": [
    {
     "data": {
      "text/plain": [
       "Index(['Call ID', 'Date', 'Dates', 'Product', 'Region', 'Customer Type',\n",
       "       'Call Duration', 'Resolved', 'Service Satisfaction Ratio ',\n",
       "       'Product Satisfaction Ratio', 'Up-sell', 'Quantity ', 'Agent ID'],\n",
       "      dtype='object')"
      ]
     },
     "execution_count": 44,
     "metadata": {},
     "output_type": "execute_result"
    }
   ],
   "source": [
    "#all column headers of the data \n",
    "data_call.columns"
   ]
  },
  {
   "cell_type": "code",
   "execution_count": 45,
   "metadata": {},
   "outputs": [
    {
     "data": {
      "text/plain": [
       "'Call_ID'"
      ]
     },
     "execution_count": 45,
     "metadata": {},
     "output_type": "execute_result"
    }
   ],
   "source": [
    "#replacing space with underscore for first column in the data\n",
    "data_call.columns[0].replace(\" \",\"_\")"
   ]
  },
  {
   "cell_type": "code",
   "execution_count": 46,
   "metadata": {},
   "outputs": [
    {
     "data": {
      "text/plain": [
       "['Call_ID',\n",
       " 'Date',\n",
       " 'Dates',\n",
       " 'Product',\n",
       " 'Region',\n",
       " 'Customer_Type',\n",
       " 'Call_Duration',\n",
       " 'Resolved',\n",
       " 'Service_Satisfaction_Ratio_',\n",
       " 'Product_Satisfaction_Ratio',\n",
       " 'Up-sell',\n",
       " 'Quantity_',\n",
       " 'Agent_ID']"
      ]
     },
     "execution_count": 46,
     "metadata": {},
     "output_type": "execute_result"
    }
   ],
   "source": [
    "#replacing space with underscore in all columns of the data\n",
    "data_columns_new=[]\n",
    "for i in range(len(data_call.columns)):\n",
    "    data_columns_new.append(data_call.columns[i].replace(\" \",\"_\"))\n",
    "data_columns_new"
   ]
  },
  {
   "cell_type": "code",
   "execution_count": 47,
   "metadata": {},
   "outputs": [],
   "source": [
    "data_call.columns=data_columns_new"
   ]
  },
  {
   "cell_type": "code",
   "execution_count": 48,
   "metadata": {},
   "outputs": [
    {
     "data": {
      "text/html": [
       "<div>\n",
       "<style scoped>\n",
       "    .dataframe tbody tr th:only-of-type {\n",
       "        vertical-align: middle;\n",
       "    }\n",
       "\n",
       "    .dataframe tbody tr th {\n",
       "        vertical-align: top;\n",
       "    }\n",
       "\n",
       "    .dataframe thead th {\n",
       "        text-align: right;\n",
       "    }\n",
       "</style>\n",
       "<table border=\"1\" class=\"dataframe\">\n",
       "  <thead>\n",
       "    <tr style=\"text-align: right;\">\n",
       "      <th></th>\n",
       "      <th>Call_ID</th>\n",
       "      <th>Date</th>\n",
       "      <th>Dates</th>\n",
       "      <th>Product</th>\n",
       "      <th>Region</th>\n",
       "      <th>Customer_Type</th>\n",
       "      <th>Call_Duration</th>\n",
       "      <th>Resolved</th>\n",
       "      <th>Service_Satisfaction_Ratio_</th>\n",
       "      <th>Product_Satisfaction_Ratio</th>\n",
       "      <th>Up-sell</th>\n",
       "      <th>Quantity_</th>\n",
       "      <th>Agent_ID</th>\n",
       "    </tr>\n",
       "  </thead>\n",
       "  <tbody>\n",
       "    <tr>\n",
       "      <th>0</th>\n",
       "      <td>CL00001</td>\n",
       "      <td>2021-04-19</td>\n",
       "      <td>Apr</td>\n",
       "      <td>Desktop</td>\n",
       "      <td>Mid-west</td>\n",
       "      <td>Individual</td>\n",
       "      <td>94</td>\n",
       "      <td>Yes</td>\n",
       "      <td>2.6</td>\n",
       "      <td>4.7</td>\n",
       "      <td>170.0</td>\n",
       "      <td>1</td>\n",
       "      <td>Bond</td>\n",
       "    </tr>\n",
       "    <tr>\n",
       "      <th>1</th>\n",
       "      <td>CL00002</td>\n",
       "      <td>2021-06-15</td>\n",
       "      <td>Jun</td>\n",
       "      <td>Laptop</td>\n",
       "      <td>West</td>\n",
       "      <td>SME</td>\n",
       "      <td>83</td>\n",
       "      <td>Yes</td>\n",
       "      <td>1.9</td>\n",
       "      <td>2.2</td>\n",
       "      <td>250.0</td>\n",
       "      <td>3</td>\n",
       "      <td>Mary</td>\n",
       "    </tr>\n",
       "    <tr>\n",
       "      <th>2</th>\n",
       "      <td>CL00003</td>\n",
       "      <td>2021-04-12</td>\n",
       "      <td>Apr</td>\n",
       "      <td>Misc.</td>\n",
       "      <td>North</td>\n",
       "      <td>Individual</td>\n",
       "      <td>76</td>\n",
       "      <td>Yes</td>\n",
       "      <td>2.1</td>\n",
       "      <td>2.8</td>\n",
       "      <td>160.0</td>\n",
       "      <td>5</td>\n",
       "      <td>Neo</td>\n",
       "    </tr>\n",
       "    <tr>\n",
       "      <th>3</th>\n",
       "      <td>CL00004</td>\n",
       "      <td>2021-06-14</td>\n",
       "      <td>Jun</td>\n",
       "      <td>Misc.</td>\n",
       "      <td>West</td>\n",
       "      <td>Large Corporate</td>\n",
       "      <td>76</td>\n",
       "      <td>No</td>\n",
       "      <td>3.4</td>\n",
       "      <td>4.9</td>\n",
       "      <td>170.0</td>\n",
       "      <td>4</td>\n",
       "      <td>Vinod</td>\n",
       "    </tr>\n",
       "    <tr>\n",
       "      <th>4</th>\n",
       "      <td>CL00005</td>\n",
       "      <td>2021-02-11</td>\n",
       "      <td>Feb</td>\n",
       "      <td>Laptop</td>\n",
       "      <td>East</td>\n",
       "      <td>SME</td>\n",
       "      <td>67</td>\n",
       "      <td>Yes</td>\n",
       "      <td>4.0</td>\n",
       "      <td>4.8</td>\n",
       "      <td>0.0</td>\n",
       "      <td>7</td>\n",
       "      <td>Neo</td>\n",
       "    </tr>\n",
       "  </tbody>\n",
       "</table>\n",
       "</div>"
      ],
      "text/plain": [
       "   Call_ID       Date Dates  Product    Region    Customer_Type  \\\n",
       "0  CL00001 2021-04-19   Apr  Desktop  Mid-west       Individual   \n",
       "1  CL00002 2021-06-15   Jun   Laptop      West              SME   \n",
       "2  CL00003 2021-04-12   Apr    Misc.     North       Individual   \n",
       "3  CL00004 2021-06-14   Jun    Misc.      West  Large Corporate   \n",
       "4  CL00005 2021-02-11   Feb   Laptop      East              SME   \n",
       "\n",
       "   Call_Duration Resolved  Service_Satisfaction_Ratio_  \\\n",
       "0             94      Yes                          2.6   \n",
       "1             83      Yes                          1.9   \n",
       "2             76      Yes                          2.1   \n",
       "3             76       No                          3.4   \n",
       "4             67      Yes                          4.0   \n",
       "\n",
       "   Product_Satisfaction_Ratio  Up-sell  Quantity_ Agent_ID  \n",
       "0                         4.7    170.0          1     Bond  \n",
       "1                         2.2    250.0          3     Mary  \n",
       "2                         2.8    160.0          5      Neo  \n",
       "3                         4.9    170.0          4    Vinod  \n",
       "4                         4.8      0.0          7      Neo  "
      ]
     },
     "execution_count": 48,
     "metadata": {},
     "output_type": "execute_result"
    }
   ],
   "source": [
    "data_call.head()"
   ]
  },
  {
   "cell_type": "code",
   "execution_count": 49,
   "metadata": {},
   "outputs": [
    {
     "data": {
      "text/plain": [
       "75.0"
      ]
     },
     "execution_count": 49,
     "metadata": {},
     "output_type": "execute_result"
    }
   ],
   "source": [
    "data_call['Call_Duration'].median()"
   ]
  }
 ],
 "metadata": {
  "kernelspec": {
   "display_name": "Python 3 (ipykernel)",
   "language": "python",
   "name": "python3"
  },
  "language_info": {
   "codemirror_mode": {
    "name": "ipython",
    "version": 3
   },
   "file_extension": ".py",
   "mimetype": "text/x-python",
   "name": "python",
   "nbconvert_exporter": "python",
   "pygments_lexer": "ipython3",
   "version": "3.9.7"
  }
 },
 "nbformat": 4,
 "nbformat_minor": 2
}
