{
 "cells": [
  {
   "cell_type": "markdown",
   "id": "86404293",
   "metadata": {},
   "source": [
    "# Homework 3. Solution"
   ]
  },
  {
   "cell_type": "code",
   "execution_count": 1,
   "id": "6a6f31bc",
   "metadata": {},
   "outputs": [],
   "source": [
    "#importing libraries that will be used in this homework\n",
    "import pandas as pd\n",
    "import numpy as np"
   ]
  },
  {
   "cell_type": "markdown",
   "id": "74c45379",
   "metadata": {},
   "source": [
    "## 1.\tProblem 1. Variable types, Lists (3 points)\n",
    "\n",
    "\n",
    "### a.\tThe current sales volume (in dollars) and per product price (in dollars) of X company are given: \n",
    "sales volume = 25 000\n",
    "product price = 10.5\n",
    "Use the given information to do the following:\n"
   ]
  },
  {
   "cell_type": "markdown",
   "id": "ec321902",
   "metadata": {},
   "source": [
    "- i. Define variables for sales and price respectively. \n"
   ]
  },
  {
   "cell_type": "code",
   "execution_count": 2,
   "id": "0422c1bb",
   "metadata": {},
   "outputs": [],
   "source": [
    "sales_volume=25000\n",
    "prod_price=10.5"
   ]
  },
  {
   "cell_type": "markdown",
   "id": "befc9153",
   "metadata": {},
   "source": [
    "- ii. By using sales and price variables defined in the previous step (i), calculate how many products have been sold by defining a new variable that is called ‘quantity’. \n"
   ]
  },
  {
   "cell_type": "code",
   "execution_count": 3,
   "id": "b8e643af",
   "metadata": {},
   "outputs": [
    {
     "name": "stdout",
     "output_type": "stream",
     "text": [
      "2380.95 units has been sold\n"
     ]
    }
   ],
   "source": [
    "quantity=25000/10.5\n",
    "\n",
    "print(f'{round(quantity,2)} units has been sold')"
   ]
  },
  {
   "cell_type": "markdown",
   "id": "85304261",
   "metadata": {},
   "source": [
    "- iii.\tBy using sales and price variables, print the following sentence “In June, X company earned 25000 by selling its products by 10.5 per item.” Instead of highlighted numbers use respective variable names. \n"
   ]
  },
  {
   "cell_type": "code",
   "execution_count": 4,
   "id": "6fe6bd31",
   "metadata": {},
   "outputs": [
    {
     "name": "stdout",
     "output_type": "stream",
     "text": [
      "In June, X company earned 25000 by selling its products by 10.5 per item.\n"
     ]
    }
   ],
   "source": [
    "print('In June, X company earned {} by selling its products by {} per item.'.format(sales_volume,prod_price))"
   ]
  },
  {
   "cell_type": "markdown",
   "id": "63395a8d",
   "metadata": {},
   "source": [
    "- iv.\tIncrease product price by 25% and calculate the new quantity by using the new price.\n"
   ]
  },
  {
   "cell_type": "code",
   "execution_count": 5,
   "id": "c28e11c0",
   "metadata": {},
   "outputs": [
    {
     "name": "stdout",
     "output_type": "stream",
     "text": [
      "New price is 2976.19\n"
     ]
    }
   ],
   "source": [
    "new_quantity=sales_volume/prod_price*1.25\n",
    "print('New price is',round(new_quantity,2))"
   ]
  },
  {
   "cell_type": "markdown",
   "id": "21109c2a",
   "metadata": {},
   "source": [
    "- v.\t What are the types of sales, price and quantity variables that you defined in the steps above?"
   ]
  },
  {
   "cell_type": "code",
   "execution_count": 6,
   "id": "ebe9462f",
   "metadata": {},
   "outputs": [
    {
     "name": "stdout",
     "output_type": "stream",
     "text": [
      "types of sales: <class 'int'>\n",
      "types of price: <class 'float'>\n",
      "types of quantity: <class 'float'>\n"
     ]
    }
   ],
   "source": [
    "print('types of sales:', type(sales_volume))\n",
    "print('types of price:', type(prod_price)) #choosing new price is also fine if you defined it\n",
    "print('types of quantity:', type(quantity))"
   ]
  },
  {
   "cell_type": "markdown",
   "id": "347d285a",
   "metadata": {},
   "source": [
    "- vi.\t Write code that prints True if a new quantity is less than the previous one, and False otherwise"
   ]
  },
  {
   "cell_type": "code",
   "execution_count": 7,
   "id": "9a8e1140",
   "metadata": {},
   "outputs": [
    {
     "name": "stdout",
     "output_type": "stream",
     "text": [
      "False\n"
     ]
    }
   ],
   "source": [
    "print(new_quantity<quantity)"
   ]
  },
  {
   "cell_type": "markdown",
   "id": "a438744e",
   "metadata": {},
   "source": [
    "> The new quantity is more than the previous one."
   ]
  },
  {
   "cell_type": "markdown",
   "id": "7b3aea6c",
   "metadata": {},
   "source": [
    "### b.Create three variables that will ask a user the following information below about their favorite movie and store them as a value of a variable:\n",
    "\n",
    "- i.\tFull name of movie\n",
    "- ii.\tDirector name \n",
    "- iii.\tYear of production"
   ]
  },
  {
   "cell_type": "code",
   "execution_count": 8,
   "id": "37d5306c",
   "metadata": {},
   "outputs": [
    {
     "name": "stdout",
     "output_type": "stream",
     "text": [
      "Enter the name of your favorite movie. Schindler's List\n",
      "Who is the director? Steven Spielberg\n",
      "When was the movie produced? 1993\n"
     ]
    }
   ],
   "source": [
    "#Schindler's List,  Steven Spielberg, 1993\n",
    "m_name=input('Enter the name of your favorite movie. ')\n",
    "dir_name= input('Who is the director? ')\n",
    "year=input('When was the movie produced? ')"
   ]
  },
  {
   "cell_type": "markdown",
   "id": "9626917a",
   "metadata": {},
   "source": [
    "### c.\t1 Create an empty list that is called “wines”. Append your favorite three wines to the list. "
   ]
  },
  {
   "cell_type": "code",
   "execution_count": 9,
   "id": "f3255449",
   "metadata": {},
   "outputs": [
    {
     "name": "stdout",
     "output_type": "stream",
     "text": [
      "These are my favorite wines: ['Rindi Mana Wine', 'Kataro Wine', 'VanArdi Wine']\n"
     ]
    }
   ],
   "source": [
    "my_wines=[]\n",
    "my_wines.append('Rindi Mana Wine')\n",
    "my_wines.append('Kataro Wine')\n",
    "my_wines.append('VanArdi Wine')\n",
    "\n",
    "print(f'These are my favorite wines: {my_wines}')"
   ]
  },
  {
   "cell_type": "markdown",
   "id": "10bcb310",
   "metadata": {},
   "source": [
    "## 2.\tProblem 2. If Condition and For Loop (3 points)\n",
    "\n",
    "- a.\t1.5 Write a for loop that iterates over the list of hero_names below by using range() function in order to create another  list of names that should be called names_modified. In order to create a modified name for each name in hero_names list, make everything lowercase and replace spaces with underscores (). (Hint: use the .replace() method for replacing spaces with underscores).\n",
    "hero_names = ['Spider Man', 'Iron Man', 'Captain America', 'Doctor Strange']\n",
    "Running your for loop should return the following output:\n",
    "names_modified = ['spider_man', 'iron_man', 'captain_america', 'doctor_strange']"
   ]
  },
  {
   "cell_type": "code",
   "execution_count": 10,
   "id": "18408aca",
   "metadata": {},
   "outputs": [
    {
     "name": "stdout",
     "output_type": "stream",
     "text": [
      "names_modified = ['spider_man', 'iron_man', 'captain_america', 'doctor_strange']\n"
     ]
    }
   ],
   "source": [
    "hero_names = ['Spider Man', 'Iron Man', 'Captain America', 'Doctor Strange']\n",
    "\n",
    "names_modified=[] #creating an emty list to whcih new names will be added\n",
    "for i in range(len(hero_names)):\n",
    "    names_modified.append(hero_names[i].lower().replace(' ','_'))\n",
    "print('names_modified =', names_modified)"
   ]
  },
  {
   "cell_type": "markdown",
   "id": "9efa4fb1",
   "metadata": {},
   "source": [
    "- b.\t1.5 Write a program by using if condition to give discount to customers for purchase of a specific product that costs $28. In case users buy less than 20 units, no discount should be given, for quantities between 21 to 100 units, 10 % discount should be given and for quantities higher than 100 units 20% discount should be given."
   ]
  },
  {
   "cell_type": "code",
   "execution_count": 11,
   "id": "8cedac11",
   "metadata": {},
   "outputs": [
    {
     "name": "stdout",
     "output_type": "stream",
     "text": [
      "You're given 20% discount, a new price is   22.400000000000002\n"
     ]
    }
   ],
   "source": [
    "price=28 #first I'm defining price and quantity variable in order to be able to use them in my if statement\n",
    "quantity_bought=101 #you can write any number \n",
    "\n",
    "if quantity_bought<20:\n",
    "    print('No discount, the price is ', price)\n",
    "elif quantity_bought>=21 and quantity_bought<=100:\n",
    "    print('You\\'re given 10% discount, a new price is  ', price*0.9)\n",
    "elif quantity_bought>100:\n",
    "    print('You\\'re given 20% discount, a new price is  ', price*0.8)"
   ]
  },
  {
   "cell_type": "markdown",
   "id": "de083e97",
   "metadata": {},
   "source": [
    "## 3.\tProblem 4. Dictionaries (1 points)\n",
    "\n",
    "- a. Create a dictionary with keys being country names of five most populated countries and the values being the capital city of a country. Eg. China: Beijing."
   ]
  },
  {
   "cell_type": "code",
   "execution_count": 12,
   "id": "d36107ca",
   "metadata": {},
   "outputs": [
    {
     "name": "stdout",
     "output_type": "stream",
     "text": [
      "{'China': 'Beijing', 'India': 'New Delhi', 'United States': 'Washington', 'Indonesia': 'Jakarta', 'Brazil': 'Brazil'}\n"
     ]
    }
   ],
   "source": [
    "count_cities_dict={'China':'Beijing',\n",
    "                          'India':'New Delhi',\n",
    "                          'United States':'Washington',\n",
    "                          'Indonesia':'Jakarta',\n",
    "                          'Brazil':'Brazil'}\n",
    "print(count_cities_dict)"
   ]
  },
  {
   "cell_type": "markdown",
   "id": "dded6826",
   "metadata": {},
   "source": [
    "- b. Write a for loop to return capital cities of each country in the dictionary defined above (a.) and save the returned cities as a list that should be called ‘cities’."
   ]
  },
  {
   "cell_type": "code",
   "execution_count": 13,
   "id": "a5fbffa2",
   "metadata": {},
   "outputs": [
    {
     "data": {
      "text/plain": [
       "'Beijing'"
      ]
     },
     "execution_count": 13,
     "metadata": {},
     "output_type": "execute_result"
    }
   ],
   "source": [
    "#get() method returns for each country it's capital city\n",
    "count_cities_dict.get('China')"
   ]
  },
  {
   "cell_type": "code",
   "execution_count": 14,
   "id": "cf39225e",
   "metadata": {},
   "outputs": [
    {
     "name": "stdout",
     "output_type": "stream",
     "text": [
      "['Beijing', 'New Delhi', 'Washington', 'Jakarta', 'Brazil']\n"
     ]
    }
   ],
   "source": [
    "cities=[] #creating an empty list to which the cities will be added\n",
    "for i in count_cities_dict:\n",
    "    cities.append(count_cities_dict.get(i))\n",
    "print(cities)"
   ]
  },
  {
   "cell_type": "markdown",
   "id": "bcd0401d",
   "metadata": {},
   "source": [
    "## 4.\tProblem 5. Functions (2 points)\n",
    " - a.\t2 Write a function that will ask a user to rate their satisfaction from the services provided by X company by using 1-5 scale. If a user rates 1, then your program should return “Strongly dissatisfied”, 2- “Dissatisfied”, 3- “Neither dissatisfied nor satisfied”, 4- “Satisfied”, 5- “Very satisfied”.  If the score is out of the 1-5 range, the program should print the following information: “Please use 1-5 range to rate your satisfaction”. If a user enters not numeric data, the program should return the following: “Please enter numeric information.”\n"
   ]
  },
  {
   "cell_type": "code",
   "execution_count": 15,
   "id": "489937e9",
   "metadata": {},
   "outputs": [],
   "source": [
    "def satisfaction():\n",
    "    \"\"\"\n",
    "    The function converts staisfaction ratings from numeric values to string.\n",
    "    The function is not working on float or non-numeric data.\n",
    "    \"\"\"\n",
    "    try:\n",
    "        rate=int(input(\"How satisfied are you with our services on the scale of 1-5: \" ))\n",
    "        if rate==1:\n",
    "            coded_value=\"Strongly dissatisfied\"\n",
    "        elif rate==2:\n",
    "            coded_value='Dissatisfied'\n",
    "        elif rate==3:\n",
    "            coded_value='Neither dissatisfied nor satisfied'\n",
    "        elif rate==4:\n",
    "            coded_value='Satisfied'\n",
    "        elif rate==5:\n",
    "            coded_value='Very satisfied'\n",
    "        else:\n",
    "            print('Please use 1-5 range to rate your satisfaction')\n",
    "            coded_value='Not Valid'\n",
    "        return coded_value\n",
    "    except ValueError:\n",
    "        print(\"Please enter numeric information.\")"
   ]
  },
  {
   "cell_type": "code",
   "execution_count": 16,
   "id": "3a717c08",
   "metadata": {},
   "outputs": [
    {
     "name": "stdout",
     "output_type": "stream",
     "text": [
      "How satisfied are you with our services on the scale of 1-5: 5\n"
     ]
    },
    {
     "data": {
      "text/plain": [
       "'Very satisfied'"
      ]
     },
     "execution_count": 16,
     "metadata": {},
     "output_type": "execute_result"
    }
   ],
   "source": [
    "satisfaction()"
   ]
  },
  {
   "cell_type": "markdown",
   "id": "d774d034",
   "metadata": {},
   "source": [
    "## 5.\tProblem 6. Reading data (0.5 points)\n",
    "- a.\t0.5 Read “Bank_data” data.\n"
   ]
  },
  {
   "cell_type": "code",
   "execution_count": 17,
   "id": "0718b880",
   "metadata": {},
   "outputs": [],
   "source": [
    "df=pd.read_excel('Bank_data.xlsx')"
   ]
  },
  {
   "cell_type": "code",
   "execution_count": 18,
   "id": "f9da637c",
   "metadata": {},
   "outputs": [
    {
     "data": {
      "text/html": [
       "<div>\n",
       "<style scoped>\n",
       "    .dataframe tbody tr th:only-of-type {\n",
       "        vertical-align: middle;\n",
       "    }\n",
       "\n",
       "    .dataframe tbody tr th {\n",
       "        vertical-align: top;\n",
       "    }\n",
       "\n",
       "    .dataframe thead th {\n",
       "        text-align: right;\n",
       "    }\n",
       "</style>\n",
       "<table border=\"1\" class=\"dataframe\">\n",
       "  <thead>\n",
       "    <tr style=\"text-align: right;\">\n",
       "      <th></th>\n",
       "      <th>ID</th>\n",
       "      <th>age</th>\n",
       "      <th>job</th>\n",
       "      <th>marital</th>\n",
       "      <th>education</th>\n",
       "      <th>default</th>\n",
       "      <th>housing</th>\n",
       "      <th>loan</th>\n",
       "      <th>contact</th>\n",
       "      <th>month</th>\n",
       "      <th>...</th>\n",
       "      <th>campaign</th>\n",
       "      <th>pdays</th>\n",
       "      <th>previous</th>\n",
       "      <th>poutcome</th>\n",
       "      <th>emp_var_rate</th>\n",
       "      <th>cons_price_idx</th>\n",
       "      <th>cons_conf_idx2</th>\n",
       "      <th>euribor3m</th>\n",
       "      <th>nr_employed</th>\n",
       "      <th>term_deposit</th>\n",
       "    </tr>\n",
       "  </thead>\n",
       "  <tbody>\n",
       "    <tr>\n",
       "      <th>0</th>\n",
       "      <td>1</td>\n",
       "      <td>30</td>\n",
       "      <td>blue-collar</td>\n",
       "      <td>married</td>\n",
       "      <td>basic.9y</td>\n",
       "      <td>no</td>\n",
       "      <td>yes</td>\n",
       "      <td>no</td>\n",
       "      <td>cellular</td>\n",
       "      <td>may</td>\n",
       "      <td>...</td>\n",
       "      <td>2</td>\n",
       "      <td>999</td>\n",
       "      <td>0</td>\n",
       "      <td>nonexistent</td>\n",
       "      <td>-1.8</td>\n",
       "      <td>92.893</td>\n",
       "      <td>46.2</td>\n",
       "      <td>1.313</td>\n",
       "      <td>5099.1</td>\n",
       "      <td>no</td>\n",
       "    </tr>\n",
       "    <tr>\n",
       "      <th>1</th>\n",
       "      <td>2</td>\n",
       "      <td>39</td>\n",
       "      <td>services</td>\n",
       "      <td>single</td>\n",
       "      <td>high.school</td>\n",
       "      <td>no</td>\n",
       "      <td>no</td>\n",
       "      <td>no</td>\n",
       "      <td>telephone</td>\n",
       "      <td>may</td>\n",
       "      <td>...</td>\n",
       "      <td>4</td>\n",
       "      <td>999</td>\n",
       "      <td>0</td>\n",
       "      <td>nonexistent</td>\n",
       "      <td>1.1</td>\n",
       "      <td>93.994</td>\n",
       "      <td>36.4</td>\n",
       "      <td>4.855</td>\n",
       "      <td>5191.0</td>\n",
       "      <td>no</td>\n",
       "    </tr>\n",
       "    <tr>\n",
       "      <th>2</th>\n",
       "      <td>3</td>\n",
       "      <td>25</td>\n",
       "      <td>services</td>\n",
       "      <td>married</td>\n",
       "      <td>high.school</td>\n",
       "      <td>no</td>\n",
       "      <td>yes</td>\n",
       "      <td>no</td>\n",
       "      <td>telephone</td>\n",
       "      <td>jun</td>\n",
       "      <td>...</td>\n",
       "      <td>1</td>\n",
       "      <td>999</td>\n",
       "      <td>0</td>\n",
       "      <td>nonexistent</td>\n",
       "      <td>1.4</td>\n",
       "      <td>94.465</td>\n",
       "      <td>41.8</td>\n",
       "      <td>4.962</td>\n",
       "      <td>5228.1</td>\n",
       "      <td>no</td>\n",
       "    </tr>\n",
       "    <tr>\n",
       "      <th>3</th>\n",
       "      <td>4</td>\n",
       "      <td>47</td>\n",
       "      <td>admin.</td>\n",
       "      <td>married</td>\n",
       "      <td>university.degree</td>\n",
       "      <td>no</td>\n",
       "      <td>yes</td>\n",
       "      <td>no</td>\n",
       "      <td>cellular</td>\n",
       "      <td>nov</td>\n",
       "      <td>...</td>\n",
       "      <td>1</td>\n",
       "      <td>999</td>\n",
       "      <td>0</td>\n",
       "      <td>nonexistent</td>\n",
       "      <td>-0.1</td>\n",
       "      <td>93.200</td>\n",
       "      <td>42.0</td>\n",
       "      <td>4.191</td>\n",
       "      <td>5195.8</td>\n",
       "      <td>no</td>\n",
       "    </tr>\n",
       "    <tr>\n",
       "      <th>4</th>\n",
       "      <td>5</td>\n",
       "      <td>32</td>\n",
       "      <td>services</td>\n",
       "      <td>single</td>\n",
       "      <td>university.degree</td>\n",
       "      <td>no</td>\n",
       "      <td>no</td>\n",
       "      <td>no</td>\n",
       "      <td>cellular</td>\n",
       "      <td>sep</td>\n",
       "      <td>...</td>\n",
       "      <td>3</td>\n",
       "      <td>999</td>\n",
       "      <td>2</td>\n",
       "      <td>failure</td>\n",
       "      <td>-1.1</td>\n",
       "      <td>94.199</td>\n",
       "      <td>37.5</td>\n",
       "      <td>0.884</td>\n",
       "      <td>4963.6</td>\n",
       "      <td>no</td>\n",
       "    </tr>\n",
       "  </tbody>\n",
       "</table>\n",
       "<p>5 rows × 22 columns</p>\n",
       "</div>"
      ],
      "text/plain": [
       "   ID  age          job  marital          education default housing loan  \\\n",
       "0   1   30  blue-collar  married           basic.9y      no     yes   no   \n",
       "1   2   39     services   single        high.school      no      no   no   \n",
       "2   3   25     services  married        high.school      no     yes   no   \n",
       "3   4   47       admin.  married  university.degree      no     yes   no   \n",
       "4   5   32     services   single  university.degree      no      no   no   \n",
       "\n",
       "     contact month  ... campaign  pdays  previous     poutcome  emp_var_rate  \\\n",
       "0   cellular   may  ...        2    999         0  nonexistent          -1.8   \n",
       "1  telephone   may  ...        4    999         0  nonexistent           1.1   \n",
       "2  telephone   jun  ...        1    999         0  nonexistent           1.4   \n",
       "3   cellular   nov  ...        1    999         0  nonexistent          -0.1   \n",
       "4   cellular   sep  ...        3    999         2      failure          -1.1   \n",
       "\n",
       "  cons_price_idx  cons_conf_idx2  euribor3m  nr_employed  term_deposit  \n",
       "0         92.893            46.2      1.313       5099.1            no  \n",
       "1         93.994            36.4      4.855       5191.0            no  \n",
       "2         94.465            41.8      4.962       5228.1            no  \n",
       "3         93.200            42.0      4.191       5195.8            no  \n",
       "4         94.199            37.5      0.884       4963.6            no  \n",
       "\n",
       "[5 rows x 22 columns]"
      ]
     },
     "execution_count": 18,
     "metadata": {},
     "output_type": "execute_result"
    }
   ],
   "source": [
    "df.head()"
   ]
  },
  {
   "cell_type": "markdown",
   "id": "8c75cf83",
   "metadata": {},
   "source": [
    "## 6.\tProblem 7. Data description (0.5 points)\n",
    "- a.\tHow many rows and how many columns are in the data?\n",
    "- b.\tHow many variables have missing values?\n",
    "- c.\tHow many numeric and how many non-numeric variables are in the data?\n",
    "- d.\tWhat is the ‘education’ of a customer whose ID is 18? Is s/he married? \n",
    "- e.\tWhat is the average ‘duration’ of campaigns?\n",
    "- f.\tWhat is the median ‘cons_price_idx’ for customers who indicated ‘housing’ being equal to ‘yes’? \n",
    "- g.\tWhat is the 75th percentile of the ‘duration’ variable?\n",
    "- h.\tWrite for loop to print the unique categories for the following variable: housing, loan, contact."
   ]
  },
  {
   "cell_type": "code",
   "execution_count": 19,
   "id": "1d020086",
   "metadata": {},
   "outputs": [
    {
     "name": "stdout",
     "output_type": "stream",
     "text": [
      " a. The data has 3235 rows and  22 columns\n"
     ]
    }
   ],
   "source": [
    "print(f' a. The data has {df.shape[0]} rows and  {df.shape[1]} columns')"
   ]
  },
  {
   "cell_type": "code",
   "execution_count": 20,
   "id": "7834297f",
   "metadata": {},
   "outputs": [
    {
     "data": {
      "text/plain": [
       "ID                0\n",
       "age               0\n",
       "job               3\n",
       "marital           0\n",
       "education         0\n",
       "default           0\n",
       "housing           3\n",
       "loan              0\n",
       "contact           0\n",
       "month             0\n",
       "day_of week       0\n",
       "duration          0\n",
       "campaign          0\n",
       "pdays             0\n",
       "previous          0\n",
       "poutcome          0\n",
       "emp_var_rate      0\n",
       "cons_price_idx    0\n",
       "cons_conf_idx2    0\n",
       "euribor3m         0\n",
       "nr_employed       0\n",
       "term_deposit      0\n",
       "dtype: int64"
      ]
     },
     "execution_count": 20,
     "metadata": {},
     "output_type": "execute_result"
    }
   ],
   "source": [
    "df.isnull().sum()"
   ]
  },
  {
   "cell_type": "markdown",
   "id": "eade870d",
   "metadata": {},
   "source": [
    "- b. Two variables have missing values."
   ]
  },
  {
   "cell_type": "code",
   "execution_count": 21,
   "id": "726b130e",
   "metadata": {},
   "outputs": [
    {
     "name": "stdout",
     "output_type": "stream",
     "text": [
      "<class 'pandas.core.frame.DataFrame'>\n",
      "RangeIndex: 3235 entries, 0 to 3234\n",
      "Data columns (total 22 columns):\n",
      " #   Column          Non-Null Count  Dtype  \n",
      "---  ------          --------------  -----  \n",
      " 0   ID              3235 non-null   int64  \n",
      " 1   age             3235 non-null   int64  \n",
      " 2   job             3232 non-null   object \n",
      " 3   marital         3235 non-null   object \n",
      " 4   education       3235 non-null   object \n",
      " 5   default         3235 non-null   object \n",
      " 6   housing         3232 non-null   object \n",
      " 7   loan            3235 non-null   object \n",
      " 8   contact         3235 non-null   object \n",
      " 9   month           3235 non-null   object \n",
      " 10  day_of week     3235 non-null   object \n",
      " 11  duration        3235 non-null   int64  \n",
      " 12  campaign        3235 non-null   int64  \n",
      " 13  pdays           3235 non-null   int64  \n",
      " 14  previous        3235 non-null   int64  \n",
      " 15  poutcome        3235 non-null   object \n",
      " 16  emp_var_rate    3235 non-null   float64\n",
      " 17  cons_price_idx  3235 non-null   float64\n",
      " 18  cons_conf_idx2  3235 non-null   float64\n",
      " 19  euribor3m       3235 non-null   float64\n",
      " 20  nr_employed     3235 non-null   float64\n",
      " 21  term_deposit    3235 non-null   object \n",
      "dtypes: float64(5), int64(6), object(11)\n",
      "memory usage: 556.1+ KB\n"
     ]
    }
   ],
   "source": [
    "df.info()"
   ]
  },
  {
   "cell_type": "markdown",
   "id": "1fb2461d",
   "metadata": {},
   "source": [
    "- c. The data has 11 numeric and 11 non-numeric variables."
   ]
  },
  {
   "cell_type": "code",
   "execution_count": 22,
   "id": "b1eee4e0",
   "metadata": {},
   "outputs": [
    {
     "data": {
      "text/plain": [
       "17    high.school\n",
       "Name: education, dtype: object"
      ]
     },
     "execution_count": 22,
     "metadata": {},
     "output_type": "execute_result"
    }
   ],
   "source": [
    "df['education'][df['ID']==18]"
   ]
  },
  {
   "cell_type": "markdown",
   "id": "a79523ed",
   "metadata": {},
   "source": [
    "- d. The customer has ' high.school ' degree."
   ]
  },
  {
   "cell_type": "code",
   "execution_count": 23,
   "id": "ca3c20be",
   "metadata": {},
   "outputs": [
    {
     "name": "stdout",
     "output_type": "stream",
     "text": [
      " e. The average duration of campaigns is 259.80092735703244\n"
     ]
    }
   ],
   "source": [
    "print(f' e. The average duration of campaigns is {np.mean(df.duration)}')"
   ]
  },
  {
   "cell_type": "code",
   "execution_count": 24,
   "id": "9faab4f1",
   "metadata": {},
   "outputs": [
    {
     "data": {
      "text/plain": [
       "93.444"
      ]
     },
     "execution_count": 24,
     "metadata": {},
     "output_type": "execute_result"
    }
   ],
   "source": [
    "np.median(df['cons_price_idx'][df['housing']=='yes'])"
   ]
  },
  {
   "cell_type": "markdown",
   "id": "c90cdcda",
   "metadata": {},
   "source": [
    "- f. median is 93.444."
   ]
  },
  {
   "cell_type": "code",
   "execution_count": 25,
   "id": "9ea195a9",
   "metadata": {},
   "outputs": [
    {
     "data": {
      "text/plain": [
       "count    3235.000000\n",
       "mean      259.800927\n",
       "std       262.956331\n",
       "min         0.000000\n",
       "25%       105.000000\n",
       "50%       182.000000\n",
       "75%       316.000000\n",
       "max      3643.000000\n",
       "Name: duration, dtype: float64"
      ]
     },
     "execution_count": 25,
     "metadata": {},
     "output_type": "execute_result"
    }
   ],
   "source": [
    "df.duration.describe()"
   ]
  },
  {
   "cell_type": "markdown",
   "id": "8b4af70d",
   "metadata": {},
   "source": [
    "- g. 75th percentile of the ‘duration’ variable is  316."
   ]
  },
  {
   "cell_type": "code",
   "execution_count": 26,
   "id": "25e8031f",
   "metadata": {},
   "outputs": [
    {
     "name": "stdout",
     "output_type": "stream",
     "text": [
      "\n",
      " housing \n",
      " ---------------------------\n",
      "yes    1760\n",
      "no     1472\n",
      "Name: housing, dtype: int64\n",
      "\n",
      " loan \n",
      " ---------------------------\n",
      "no     2703\n",
      "yes     532\n",
      "Name: loan, dtype: int64\n",
      "\n",
      " contact \n",
      " ---------------------------\n",
      "cellular     2202\n",
      "telephone    1033\n",
      "Name: contact, dtype: int64\n"
     ]
    }
   ],
   "source": [
    "for i in ['housing', 'loan', 'contact']:\n",
    "    print('\\n',i,'\\n','---------------------------') #this part is only for creating space between outputs and for printing variable names\n",
    "    print(df[i].value_counts()) #calculating value counts"
   ]
  }
 ],
 "metadata": {
  "kernelspec": {
   "display_name": "Python 3 (ipykernel)",
   "language": "python",
   "name": "python3"
  },
  "language_info": {
   "codemirror_mode": {
    "name": "ipython",
    "version": 3
   },
   "file_extension": ".py",
   "mimetype": "text/x-python",
   "name": "python",
   "nbconvert_exporter": "python",
   "pygments_lexer": "ipython3",
   "version": "3.9.7"
  }
 },
 "nbformat": 4,
 "nbformat_minor": 5
}
