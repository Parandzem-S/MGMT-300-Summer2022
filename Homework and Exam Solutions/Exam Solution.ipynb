{
 "cells": [
  {
   "cell_type": "markdown",
   "id": "8ed4d1fa",
   "metadata": {},
   "source": [
    "# Section 2. Exam Solution - Python Part"
   ]
  },
  {
   "cell_type": "code",
   "execution_count": 1,
   "id": "26e41554",
   "metadata": {},
   "outputs": [],
   "source": [
    "#importing Libraries\n",
    "import pandas as pd \n",
    "import numpy as np\n",
    "import matplotlib.pyplot as plt\n",
    "import seaborn as sns"
   ]
  },
  {
   "cell_type": "markdown",
   "id": "c545594a",
   "metadata": {},
   "source": [
    "# 6.\t(0.5 points) Below, some of the quantities are of type int and some are of type float. Which of the quantities below should be of type float? Write correct answers in the Jupyter Notebook file which you should submit. \n",
    "<br>\n",
    "\n",
    "- \tNumber of students that got A from the exam.\n",
    "- \tLength of time it took from students to write the exam.\n",
    "-\tHeight of students.\n",
    "-\tNumber of cats living at AUA backyard. "
   ]
  },
  {
   "cell_type": "markdown",
   "id": "5bc53b4a",
   "metadata": {},
   "source": [
    "**Answer:** \n",
    "- Length of time it took from students to write the exam.\n",
    "- Height of students."
   ]
  },
  {
   "cell_type": "markdown",
   "id": "6853d68d",
   "metadata": {},
   "source": [
    "# 7.\t(0.5 points) Mention at least two differences between lists and sets? "
   ]
  },
  {
   "cell_type": "markdown",
   "id": "6ecbb4a9",
   "metadata": {},
   "source": [
    "**Answer:**\n",
    "-  Lists are ordered while sets are unordered.\n",
    "-  Lists allow duplicate members while sets do not allow duplicates."
   ]
  },
  {
   "cell_type": "markdown",
   "id": "337e5c26",
   "metadata": {},
   "source": [
    "# 8.\t(0.5 points) Create the following variables:\n",
    "-\tnum_1= \"237856\"\n",
    "-\tnum_2= \"129784\"\n",
    "\n",
    "What will be the output of num_1 + num_2? What is the type of the output? "
   ]
  },
  {
   "cell_type": "code",
   "execution_count": 2,
   "id": "1e3f96a0",
   "metadata": {},
   "outputs": [
    {
     "name": "stdout",
     "output_type": "stream",
     "text": [
      "237856129784\n",
      "<class 'str'>\n"
     ]
    }
   ],
   "source": [
    "num_1= \"237856\"\n",
    "num_2= \"129784\"\n",
    "\n",
    "print(num_1 + num_2)\n",
    "print(type(num_1 + num_2))"
   ]
  },
  {
   "cell_type": "markdown",
   "id": "f361d0ca",
   "metadata": {},
   "source": [
    "> **The output is a string.**"
   ]
  },
  {
   "cell_type": "markdown",
   "id": "2160019b",
   "metadata": {},
   "source": [
    "# 9.\t(0.5 points) Read the data, sheet data_python."
   ]
  },
  {
   "cell_type": "code",
   "execution_count": 3,
   "id": "62ecfdcc",
   "metadata": {},
   "outputs": [],
   "source": [
    "data=pd.read_excel('data.xlsx',sheet_name='data_python')"
   ]
  },
  {
   "cell_type": "code",
   "execution_count": 4,
   "id": "9da85665",
   "metadata": {},
   "outputs": [
    {
     "data": {
      "text/html": [
       "<div>\n",
       "<style scoped>\n",
       "    .dataframe tbody tr th:only-of-type {\n",
       "        vertical-align: middle;\n",
       "    }\n",
       "\n",
       "    .dataframe tbody tr th {\n",
       "        vertical-align: top;\n",
       "    }\n",
       "\n",
       "    .dataframe thead th {\n",
       "        text-align: right;\n",
       "    }\n",
       "</style>\n",
       "<table border=\"1\" class=\"dataframe\">\n",
       "  <thead>\n",
       "    <tr style=\"text-align: right;\">\n",
       "      <th></th>\n",
       "      <th>make</th>\n",
       "      <th>fuel_type</th>\n",
       "      <th>aspiration</th>\n",
       "      <th>num_of_doors</th>\n",
       "      <th>body_style</th>\n",
       "      <th>drive_wheels</th>\n",
       "      <th>engine_location</th>\n",
       "      <th>wheel_base</th>\n",
       "      <th>length</th>\n",
       "      <th>width</th>\n",
       "      <th>...</th>\n",
       "      <th>engine_size</th>\n",
       "      <th>fuel_system</th>\n",
       "      <th>bore</th>\n",
       "      <th>stroke</th>\n",
       "      <th>compression.ratio</th>\n",
       "      <th>horsepower</th>\n",
       "      <th>peak_rpm</th>\n",
       "      <th>city_mpg</th>\n",
       "      <th>highway.mpg</th>\n",
       "      <th>price</th>\n",
       "    </tr>\n",
       "  </thead>\n",
       "  <tbody>\n",
       "    <tr>\n",
       "      <th>0</th>\n",
       "      <td>alfa-romero</td>\n",
       "      <td>gas</td>\n",
       "      <td>std</td>\n",
       "      <td>two</td>\n",
       "      <td>convertible</td>\n",
       "      <td>rwd</td>\n",
       "      <td>front</td>\n",
       "      <td>88.6</td>\n",
       "      <td>168.8</td>\n",
       "      <td>64.1</td>\n",
       "      <td>...</td>\n",
       "      <td>130</td>\n",
       "      <td>mpfi</td>\n",
       "      <td>3.47</td>\n",
       "      <td>2.68</td>\n",
       "      <td>9.0</td>\n",
       "      <td>111.0</td>\n",
       "      <td>5000.0</td>\n",
       "      <td>21</td>\n",
       "      <td>27</td>\n",
       "      <td>13495.0</td>\n",
       "    </tr>\n",
       "    <tr>\n",
       "      <th>1</th>\n",
       "      <td>alfa-romero</td>\n",
       "      <td>gas</td>\n",
       "      <td>std</td>\n",
       "      <td>two</td>\n",
       "      <td>convertible</td>\n",
       "      <td>rwd</td>\n",
       "      <td>front</td>\n",
       "      <td>88.6</td>\n",
       "      <td>168.8</td>\n",
       "      <td>64.1</td>\n",
       "      <td>...</td>\n",
       "      <td>130</td>\n",
       "      <td>mpfi</td>\n",
       "      <td>3.47</td>\n",
       "      <td>2.68</td>\n",
       "      <td>9.0</td>\n",
       "      <td>111.0</td>\n",
       "      <td>5000.0</td>\n",
       "      <td>21</td>\n",
       "      <td>27</td>\n",
       "      <td>16500.0</td>\n",
       "    </tr>\n",
       "  </tbody>\n",
       "</table>\n",
       "<p>2 rows × 24 columns</p>\n",
       "</div>"
      ],
      "text/plain": [
       "          make fuel_type aspiration num_of_doors   body_style drive_wheels  \\\n",
       "0  alfa-romero       gas        std          two  convertible          rwd   \n",
       "1  alfa-romero       gas        std          two  convertible          rwd   \n",
       "\n",
       "  engine_location  wheel_base  length  width  ...  engine_size  fuel_system  \\\n",
       "0           front        88.6   168.8   64.1  ...          130         mpfi   \n",
       "1           front        88.6   168.8   64.1  ...          130         mpfi   \n",
       "\n",
       "   bore stroke  compression.ratio horsepower  peak_rpm  city_mpg  highway.mpg  \\\n",
       "0  3.47   2.68                9.0      111.0    5000.0        21           27   \n",
       "1  3.47   2.68                9.0      111.0    5000.0        21           27   \n",
       "\n",
       "     price  \n",
       "0  13495.0  \n",
       "1  16500.0  \n",
       "\n",
       "[2 rows x 24 columns]"
      ]
     },
     "execution_count": 4,
     "metadata": {},
     "output_type": "execute_result"
    }
   ],
   "source": [
    "data.head(2)"
   ]
  },
  {
   "cell_type": "markdown",
   "id": "78e69e1d",
   "metadata": {},
   "source": [
    "# 10.\t(0.5 points) How many numeric and how many non-numeric variables the data contains?\n"
   ]
  },
  {
   "cell_type": "code",
   "execution_count": 5,
   "id": "d6f185ce",
   "metadata": {},
   "outputs": [
    {
     "name": "stdout",
     "output_type": "stream",
     "text": [
      "<class 'pandas.core.frame.DataFrame'>\n",
      "RangeIndex: 205 entries, 0 to 204\n",
      "Data columns (total 24 columns):\n",
      " #   Column             Non-Null Count  Dtype  \n",
      "---  ------             --------------  -----  \n",
      " 0   make               205 non-null    object \n",
      " 1   fuel_type          205 non-null    object \n",
      " 2   aspiration         205 non-null    object \n",
      " 3   num_of_doors       203 non-null    object \n",
      " 4   body_style         205 non-null    object \n",
      " 5   drive_wheels       205 non-null    object \n",
      " 6   engine_location    205 non-null    object \n",
      " 7   wheel_base         205 non-null    float64\n",
      " 8   length             205 non-null    float64\n",
      " 9   width              205 non-null    float64\n",
      " 10  height             205 non-null    float64\n",
      " 11  curb_weight        205 non-null    int64  \n",
      " 12  engine_type        205 non-null    object \n",
      " 13  num_of_cylinders   205 non-null    object \n",
      " 14  engine_size        205 non-null    int64  \n",
      " 15  fuel_system        205 non-null    object \n",
      " 16  bore               201 non-null    float64\n",
      " 17  stroke             201 non-null    float64\n",
      " 18  compression.ratio  205 non-null    float64\n",
      " 19  horsepower         202 non-null    float64\n",
      " 20  peak_rpm           203 non-null    float64\n",
      " 21  city_mpg           205 non-null    int64  \n",
      " 22  highway.mpg        205 non-null    int64  \n",
      " 23  price              201 non-null    float64\n",
      "dtypes: float64(10), int64(4), object(10)\n",
      "memory usage: 38.6+ KB\n"
     ]
    }
   ],
   "source": [
    "data.info()"
   ]
  },
  {
   "cell_type": "markdown",
   "id": "2ebb3709",
   "metadata": {},
   "source": [
    "> **The data contains 14 numeric and 10 non-numeric variables.**"
   ]
  },
  {
   "cell_type": "markdown",
   "id": "db45e8b5",
   "metadata": {},
   "source": [
    "# 11.\t(0.5 points) How many columns have missing values?"
   ]
  },
  {
   "cell_type": "code",
   "execution_count": 6,
   "id": "b02b19de",
   "metadata": {},
   "outputs": [
    {
     "data": {
      "text/plain": [
       "6"
      ]
     },
     "execution_count": 6,
     "metadata": {},
     "output_type": "execute_result"
    }
   ],
   "source": [
    "sum(data.isna().sum()>0)"
   ]
  },
  {
   "cell_type": "markdown",
   "id": "8301fc07",
   "metadata": {},
   "source": [
    "> **There are 6 columns that have missing values.**"
   ]
  },
  {
   "cell_type": "markdown",
   "id": "927088cb",
   "metadata": {},
   "source": [
    "# 12.\t(0.5 points) Drop the missing values. "
   ]
  },
  {
   "cell_type": "code",
   "execution_count": 7,
   "id": "3d53951a",
   "metadata": {},
   "outputs": [],
   "source": [
    "#dropping missing values\n",
    "data.dropna(inplace=True)"
   ]
  },
  {
   "cell_type": "code",
   "execution_count": 8,
   "id": "bb990eea",
   "metadata": {},
   "outputs": [
    {
     "data": {
      "text/html": [
       "<div>\n",
       "<style scoped>\n",
       "    .dataframe tbody tr th:only-of-type {\n",
       "        vertical-align: middle;\n",
       "    }\n",
       "\n",
       "    .dataframe tbody tr th {\n",
       "        vertical-align: top;\n",
       "    }\n",
       "\n",
       "    .dataframe thead th {\n",
       "        text-align: right;\n",
       "    }\n",
       "</style>\n",
       "<table border=\"1\" class=\"dataframe\">\n",
       "  <thead>\n",
       "    <tr style=\"text-align: right;\">\n",
       "      <th></th>\n",
       "      <th>index</th>\n",
       "      <th>make</th>\n",
       "      <th>fuel_type</th>\n",
       "      <th>aspiration</th>\n",
       "      <th>num_of_doors</th>\n",
       "      <th>body_style</th>\n",
       "      <th>drive_wheels</th>\n",
       "      <th>engine_location</th>\n",
       "      <th>wheel_base</th>\n",
       "      <th>length</th>\n",
       "      <th>...</th>\n",
       "      <th>engine_size</th>\n",
       "      <th>fuel_system</th>\n",
       "      <th>bore</th>\n",
       "      <th>stroke</th>\n",
       "      <th>compression.ratio</th>\n",
       "      <th>horsepower</th>\n",
       "      <th>peak_rpm</th>\n",
       "      <th>city_mpg</th>\n",
       "      <th>highway.mpg</th>\n",
       "      <th>price</th>\n",
       "    </tr>\n",
       "  </thead>\n",
       "  <tbody>\n",
       "    <tr>\n",
       "      <th>0</th>\n",
       "      <td>0</td>\n",
       "      <td>alfa-romero</td>\n",
       "      <td>gas</td>\n",
       "      <td>std</td>\n",
       "      <td>two</td>\n",
       "      <td>convertible</td>\n",
       "      <td>rwd</td>\n",
       "      <td>front</td>\n",
       "      <td>88.6</td>\n",
       "      <td>168.8</td>\n",
       "      <td>...</td>\n",
       "      <td>130</td>\n",
       "      <td>mpfi</td>\n",
       "      <td>3.47</td>\n",
       "      <td>2.68</td>\n",
       "      <td>9.0</td>\n",
       "      <td>111.0</td>\n",
       "      <td>5000.0</td>\n",
       "      <td>21</td>\n",
       "      <td>27</td>\n",
       "      <td>13495.0</td>\n",
       "    </tr>\n",
       "    <tr>\n",
       "      <th>1</th>\n",
       "      <td>1</td>\n",
       "      <td>alfa-romero</td>\n",
       "      <td>gas</td>\n",
       "      <td>std</td>\n",
       "      <td>two</td>\n",
       "      <td>convertible</td>\n",
       "      <td>rwd</td>\n",
       "      <td>front</td>\n",
       "      <td>88.6</td>\n",
       "      <td>168.8</td>\n",
       "      <td>...</td>\n",
       "      <td>130</td>\n",
       "      <td>mpfi</td>\n",
       "      <td>3.47</td>\n",
       "      <td>2.68</td>\n",
       "      <td>9.0</td>\n",
       "      <td>111.0</td>\n",
       "      <td>5000.0</td>\n",
       "      <td>21</td>\n",
       "      <td>27</td>\n",
       "      <td>16500.0</td>\n",
       "    </tr>\n",
       "    <tr>\n",
       "      <th>2</th>\n",
       "      <td>2</td>\n",
       "      <td>alfa-romero</td>\n",
       "      <td>gas</td>\n",
       "      <td>std</td>\n",
       "      <td>two</td>\n",
       "      <td>hatchback</td>\n",
       "      <td>rwd</td>\n",
       "      <td>front</td>\n",
       "      <td>94.5</td>\n",
       "      <td>171.2</td>\n",
       "      <td>...</td>\n",
       "      <td>152</td>\n",
       "      <td>mpfi</td>\n",
       "      <td>2.68</td>\n",
       "      <td>3.47</td>\n",
       "      <td>9.0</td>\n",
       "      <td>154.0</td>\n",
       "      <td>5000.0</td>\n",
       "      <td>19</td>\n",
       "      <td>26</td>\n",
       "      <td>16500.0</td>\n",
       "    </tr>\n",
       "    <tr>\n",
       "      <th>3</th>\n",
       "      <td>3</td>\n",
       "      <td>audi</td>\n",
       "      <td>gas</td>\n",
       "      <td>std</td>\n",
       "      <td>four</td>\n",
       "      <td>sedan</td>\n",
       "      <td>fwd</td>\n",
       "      <td>front</td>\n",
       "      <td>99.8</td>\n",
       "      <td>176.6</td>\n",
       "      <td>...</td>\n",
       "      <td>109</td>\n",
       "      <td>mpfi</td>\n",
       "      <td>3.19</td>\n",
       "      <td>3.40</td>\n",
       "      <td>10.0</td>\n",
       "      <td>102.0</td>\n",
       "      <td>5500.0</td>\n",
       "      <td>24</td>\n",
       "      <td>30</td>\n",
       "      <td>13950.0</td>\n",
       "    </tr>\n",
       "    <tr>\n",
       "      <th>4</th>\n",
       "      <td>4</td>\n",
       "      <td>audi</td>\n",
       "      <td>gas</td>\n",
       "      <td>std</td>\n",
       "      <td>four</td>\n",
       "      <td>sedan</td>\n",
       "      <td>4wd</td>\n",
       "      <td>front</td>\n",
       "      <td>99.4</td>\n",
       "      <td>176.6</td>\n",
       "      <td>...</td>\n",
       "      <td>136</td>\n",
       "      <td>mpfi</td>\n",
       "      <td>3.19</td>\n",
       "      <td>3.40</td>\n",
       "      <td>8.0</td>\n",
       "      <td>115.0</td>\n",
       "      <td>5500.0</td>\n",
       "      <td>18</td>\n",
       "      <td>22</td>\n",
       "      <td>17450.0</td>\n",
       "    </tr>\n",
       "    <tr>\n",
       "      <th>5</th>\n",
       "      <td>5</td>\n",
       "      <td>audi</td>\n",
       "      <td>gas</td>\n",
       "      <td>std</td>\n",
       "      <td>two</td>\n",
       "      <td>sedan</td>\n",
       "      <td>fwd</td>\n",
       "      <td>front</td>\n",
       "      <td>99.8</td>\n",
       "      <td>177.3</td>\n",
       "      <td>...</td>\n",
       "      <td>136</td>\n",
       "      <td>mpfi</td>\n",
       "      <td>3.19</td>\n",
       "      <td>3.40</td>\n",
       "      <td>8.5</td>\n",
       "      <td>110.0</td>\n",
       "      <td>5500.0</td>\n",
       "      <td>19</td>\n",
       "      <td>25</td>\n",
       "      <td>15250.0</td>\n",
       "    </tr>\n",
       "    <tr>\n",
       "      <th>6</th>\n",
       "      <td>6</td>\n",
       "      <td>audi</td>\n",
       "      <td>gas</td>\n",
       "      <td>std</td>\n",
       "      <td>four</td>\n",
       "      <td>sedan</td>\n",
       "      <td>fwd</td>\n",
       "      <td>front</td>\n",
       "      <td>105.8</td>\n",
       "      <td>192.7</td>\n",
       "      <td>...</td>\n",
       "      <td>136</td>\n",
       "      <td>mpfi</td>\n",
       "      <td>3.19</td>\n",
       "      <td>3.40</td>\n",
       "      <td>8.5</td>\n",
       "      <td>110.0</td>\n",
       "      <td>5500.0</td>\n",
       "      <td>19</td>\n",
       "      <td>25</td>\n",
       "      <td>17710.0</td>\n",
       "    </tr>\n",
       "    <tr>\n",
       "      <th>7</th>\n",
       "      <td>7</td>\n",
       "      <td>audi</td>\n",
       "      <td>gas</td>\n",
       "      <td>std</td>\n",
       "      <td>four</td>\n",
       "      <td>wagon</td>\n",
       "      <td>fwd</td>\n",
       "      <td>front</td>\n",
       "      <td>105.8</td>\n",
       "      <td>192.7</td>\n",
       "      <td>...</td>\n",
       "      <td>136</td>\n",
       "      <td>mpfi</td>\n",
       "      <td>3.19</td>\n",
       "      <td>3.40</td>\n",
       "      <td>8.5</td>\n",
       "      <td>110.0</td>\n",
       "      <td>5500.0</td>\n",
       "      <td>19</td>\n",
       "      <td>25</td>\n",
       "      <td>18920.0</td>\n",
       "    </tr>\n",
       "    <tr>\n",
       "      <th>8</th>\n",
       "      <td>8</td>\n",
       "      <td>audi</td>\n",
       "      <td>gas</td>\n",
       "      <td>turbo</td>\n",
       "      <td>four</td>\n",
       "      <td>sedan</td>\n",
       "      <td>fwd</td>\n",
       "      <td>front</td>\n",
       "      <td>105.8</td>\n",
       "      <td>192.7</td>\n",
       "      <td>...</td>\n",
       "      <td>131</td>\n",
       "      <td>mpfi</td>\n",
       "      <td>3.13</td>\n",
       "      <td>3.40</td>\n",
       "      <td>8.3</td>\n",
       "      <td>140.0</td>\n",
       "      <td>5500.0</td>\n",
       "      <td>17</td>\n",
       "      <td>20</td>\n",
       "      <td>23875.0</td>\n",
       "    </tr>\n",
       "    <tr>\n",
       "      <th>9</th>\n",
       "      <td>10</td>\n",
       "      <td>bmw</td>\n",
       "      <td>gas</td>\n",
       "      <td>std</td>\n",
       "      <td>two</td>\n",
       "      <td>sedan</td>\n",
       "      <td>rwd</td>\n",
       "      <td>front</td>\n",
       "      <td>101.2</td>\n",
       "      <td>176.8</td>\n",
       "      <td>...</td>\n",
       "      <td>108</td>\n",
       "      <td>mpfi</td>\n",
       "      <td>3.50</td>\n",
       "      <td>2.80</td>\n",
       "      <td>8.8</td>\n",
       "      <td>101.0</td>\n",
       "      <td>5800.0</td>\n",
       "      <td>23</td>\n",
       "      <td>29</td>\n",
       "      <td>16430.0</td>\n",
       "    </tr>\n",
       "    <tr>\n",
       "      <th>10</th>\n",
       "      <td>11</td>\n",
       "      <td>bmw</td>\n",
       "      <td>gas</td>\n",
       "      <td>std</td>\n",
       "      <td>four</td>\n",
       "      <td>sedan</td>\n",
       "      <td>rwd</td>\n",
       "      <td>front</td>\n",
       "      <td>101.2</td>\n",
       "      <td>176.8</td>\n",
       "      <td>...</td>\n",
       "      <td>108</td>\n",
       "      <td>mpfi</td>\n",
       "      <td>3.50</td>\n",
       "      <td>2.80</td>\n",
       "      <td>8.8</td>\n",
       "      <td>101.0</td>\n",
       "      <td>5800.0</td>\n",
       "      <td>23</td>\n",
       "      <td>29</td>\n",
       "      <td>16925.0</td>\n",
       "    </tr>\n",
       "  </tbody>\n",
       "</table>\n",
       "<p>11 rows × 25 columns</p>\n",
       "</div>"
      ],
      "text/plain": [
       "    index         make fuel_type aspiration num_of_doors   body_style  \\\n",
       "0       0  alfa-romero       gas        std          two  convertible   \n",
       "1       1  alfa-romero       gas        std          two  convertible   \n",
       "2       2  alfa-romero       gas        std          two    hatchback   \n",
       "3       3         audi       gas        std         four        sedan   \n",
       "4       4         audi       gas        std         four        sedan   \n",
       "5       5         audi       gas        std          two        sedan   \n",
       "6       6         audi       gas        std         four        sedan   \n",
       "7       7         audi       gas        std         four        wagon   \n",
       "8       8         audi       gas      turbo         four        sedan   \n",
       "9      10          bmw       gas        std          two        sedan   \n",
       "10     11          bmw       gas        std         four        sedan   \n",
       "\n",
       "   drive_wheels engine_location  wheel_base  length  ...  engine_size  \\\n",
       "0           rwd           front        88.6   168.8  ...          130   \n",
       "1           rwd           front        88.6   168.8  ...          130   \n",
       "2           rwd           front        94.5   171.2  ...          152   \n",
       "3           fwd           front        99.8   176.6  ...          109   \n",
       "4           4wd           front        99.4   176.6  ...          136   \n",
       "5           fwd           front        99.8   177.3  ...          136   \n",
       "6           fwd           front       105.8   192.7  ...          136   \n",
       "7           fwd           front       105.8   192.7  ...          136   \n",
       "8           fwd           front       105.8   192.7  ...          131   \n",
       "9           rwd           front       101.2   176.8  ...          108   \n",
       "10          rwd           front       101.2   176.8  ...          108   \n",
       "\n",
       "    fuel_system  bore stroke compression.ratio  horsepower peak_rpm  city_mpg  \\\n",
       "0          mpfi  3.47   2.68               9.0       111.0   5000.0        21   \n",
       "1          mpfi  3.47   2.68               9.0       111.0   5000.0        21   \n",
       "2          mpfi  2.68   3.47               9.0       154.0   5000.0        19   \n",
       "3          mpfi  3.19   3.40              10.0       102.0   5500.0        24   \n",
       "4          mpfi  3.19   3.40               8.0       115.0   5500.0        18   \n",
       "5          mpfi  3.19   3.40               8.5       110.0   5500.0        19   \n",
       "6          mpfi  3.19   3.40               8.5       110.0   5500.0        19   \n",
       "7          mpfi  3.19   3.40               8.5       110.0   5500.0        19   \n",
       "8          mpfi  3.13   3.40               8.3       140.0   5500.0        17   \n",
       "9          mpfi  3.50   2.80               8.8       101.0   5800.0        23   \n",
       "10         mpfi  3.50   2.80               8.8       101.0   5800.0        23   \n",
       "\n",
       "    highway.mpg    price  \n",
       "0            27  13495.0  \n",
       "1            27  16500.0  \n",
       "2            26  16500.0  \n",
       "3            30  13950.0  \n",
       "4            22  17450.0  \n",
       "5            25  15250.0  \n",
       "6            25  17710.0  \n",
       "7            25  18920.0  \n",
       "8            20  23875.0  \n",
       "9            29  16430.0  \n",
       "10           29  16925.0  \n",
       "\n",
       "[11 rows x 25 columns]"
      ]
     },
     "execution_count": 8,
     "metadata": {},
     "output_type": "execute_result"
    }
   ],
   "source": [
    "#resetting indeces of the data in order to prevent future errors related to index of rows\n",
    "data.reset_index(inplace=True)\n",
    "data.head(11)"
   ]
  },
  {
   "cell_type": "code",
   "execution_count": 9,
   "id": "99843334",
   "metadata": {},
   "outputs": [],
   "source": [
    "#dropping old indexes\n",
    "data.drop('index',axis=1,inplace=True)"
   ]
  },
  {
   "cell_type": "markdown",
   "id": "327d3311",
   "metadata": {},
   "source": [
    "# 13.\t(1 points) By using for loop and replace() function, replace “ . “ with “_” in column names."
   ]
  },
  {
   "cell_type": "code",
   "execution_count": 10,
   "id": "3aa1a420",
   "metadata": {},
   "outputs": [],
   "source": [
    "new_cols=[] #empty list to append new values\n",
    "for i in data.columns:\n",
    "    new_cols.append(i.replace('.','_'))\n",
    "data.columns=new_cols #replacing old column names with new ones"
   ]
  },
  {
   "cell_type": "code",
   "execution_count": 11,
   "id": "b4949bf5",
   "metadata": {},
   "outputs": [
    {
     "data": {
      "text/plain": [
       "Index(['make', 'fuel_type', 'aspiration', 'num_of_doors', 'body_style',\n",
       "       'drive_wheels', 'engine_location', 'wheel_base', 'length', 'width',\n",
       "       'height', 'curb_weight', 'engine_type', 'num_of_cylinders',\n",
       "       'engine_size', 'fuel_system', 'bore', 'stroke', 'compression_ratio',\n",
       "       'horsepower', 'peak_rpm', 'city_mpg', 'highway_mpg', 'price'],\n",
       "      dtype='object')"
      ]
     },
     "execution_count": 11,
     "metadata": {},
     "output_type": "execute_result"
    }
   ],
   "source": [
    "data.columns"
   ]
  },
  {
   "cell_type": "markdown",
   "id": "bc1b98ee",
   "metadata": {},
   "source": [
    "# 14.\t(1 points) Create subsets of data for numeric and non-numeric variables. "
   ]
  },
  {
   "cell_type": "code",
   "execution_count": 12,
   "id": "4efc21c6",
   "metadata": {},
   "outputs": [],
   "source": [
    "data_num=data.select_dtypes(exclude='object') #numeric data\n",
    "data_obj=data.select_dtypes(include='object') #non-numeric data"
   ]
  },
  {
   "cell_type": "markdown",
   "id": "965b7068",
   "metadata": {},
   "source": [
    "# 15.\t(1 points) Use a for loop to create histograms for all numeric variables. What could you say about the distribution of price variable?"
   ]
  },
  {
   "cell_type": "code",
   "execution_count": 13,
   "id": "c45a095c",
   "metadata": {
    "scrolled": false
   },
   "outputs": [
    {
     "data": {
      "image/png": "[encoded data removed]",
      "text/plain": [
       "<Figure size 432x288 with 1 Axes>"
      ]
     },
     "metadata": {
      "needs_background": "light"
     },
     "output_type": "display_data"
    },
    {
     "data": {
      "image/png": "[encoded data removed]",
      "text/plain": [
       "<Figure size 432x288 with 1 Axes>"
      ]
     },
     "metadata": {
      "needs_background": "light"
     },
     "output_type": "display_data"
    },
    {
     "data": {
      "image/png": "[encoded data removed]",
      "text/plain": [
       "<Figure size 432x288 with 1 Axes>"
      ]
     },
     "metadata": {
      "needs_background": "light"
     },
     "output_type": "display_data"
    },
    {
     "data": {
      "image/png": "[encoded data removed]",
      "text/plain": [
       "<Figure size 432x288 with 1 Axes>"
      ]
     },
     "metadata": {
      "needs_background": "light"
     },
     "output_type": "display_data"
    },
    {
     "data": {
      "image/png": "[encoded data removed]",
      "text/plain": [
       "<Figure size 432x288 with 1 Axes>"
      ]
     },
     "metadata": {
      "needs_background": "light"
     },
     "output_type": "display_data"
    },
    {
     "data": {
      "image/png": "[encoded data removed]",
      "text/plain": [
       "<Figure size 432x288 with 1 Axes>"
      ]
     },
     "metadata": {
      "needs_background": "light"
     },
     "output_type": "display_data"
    },
    {
     "data": {
      "image/png": "[encoded data removed]",
      "text/plain": [
       "<Figure size 432x288 with 1 Axes>"
      ]
     },
     "metadata": {
      "needs_background": "light"
     },
     "output_type": "display_data"
    },
    {
     "data": {
      "image/png": "[encoded data removed]",
      "text/plain": [
       "<Figure size 432x288 with 1 Axes>"
      ]
     },
     "metadata": {
      "needs_background": "light"
     },
     "output_type": "display_data"
    },
    {
     "data": {
      "image/png": "[encoded data removed]",
      "text/plain": [
       "<Figure size 432x288 with 1 Axes>"
      ]
     },
     "metadata": {
      "needs_background": "light"
     },
     "output_type": "display_data"
    },
    {
     "data": {
      "image/png": "[encoded data removed]",
      "text/plain": [
       "<Figure size 432x288 with 1 Axes>"
      ]
     },
     "metadata": {
      "needs_background": "light"
     },
     "output_type": "display_data"
    },
    {
     "data": {
      "image/png": "[encoded data removed]",
      "text/plain": [
       "<Figure size 432x288 with 1 Axes>"
      ]
     },
     "metadata": {
      "needs_background": "light"
     },
     "output_type": "display_data"
    },
    {
     "data": {
      "image/png": "[encoded data removed]",
      "text/plain": [
       "<Figure size 432x288 with 1 Axes>"
      ]
     },
     "metadata": {
      "needs_background": "light"
     },
     "output_type": "display_data"
    },
    {
     "data": {
      "image/png": "[encoded data removed]",
      "text/plain": [
       "<Figure size 432x288 with 1 Axes>"
      ]
     },
     "metadata": {
      "needs_background": "light"
     },
     "output_type": "display_data"
    },
    {
     "data": {
      "image/png": "[encoded data removed]",
      "text/plain": [
       "<Figure size 432x288 with 1 Axes>"
      ]
     },
     "metadata": {
      "needs_background": "light"
     },
     "output_type": "display_data"
    }
   ],
   "source": [
    "for i in data_num.columns:\n",
    "    plt.hist(data_num[i])\n",
    "    plt.title(i)\n",
    "    plt.show()"
   ]
  },
  {
   "cell_type": "markdown",
   "id": "43aadc4d",
   "metadata": {},
   "source": [
    "> **The price is not normally distributed and it has right-skewed distribution.**"
   ]
  },
  {
   "cell_type": "markdown",
   "id": "4b314a2f",
   "metadata": {},
   "source": [
    "# 16.\t(1 points) Use a for loop to print value_counts() of all objective variables."
   ]
  },
  {
   "cell_type": "code",
   "execution_count": 14,
   "id": "05b07843",
   "metadata": {},
   "outputs": [
    {
     "name": "stdout",
     "output_type": "stream",
     "text": [
      "\n",
      " make \n",
      " toyota           32\n",
      "nissan           18\n",
      "honda            13\n",
      "mitsubishi       13\n",
      "subaru           12\n",
      "mazda            12\n",
      "volvo            11\n",
      "volkswagen       11\n",
      "peugot           11\n",
      "bmw               8\n",
      "dodge             8\n",
      "mercedes-benz     8\n",
      "plymouth          7\n",
      "saab              6\n",
      "audi              6\n",
      "porsche           4\n",
      "alfa-romero       3\n",
      "jaguar            3\n",
      "chevrolet         3\n",
      "isuzu             2\n",
      "mercury           1\n",
      "Name: make, dtype: int64\n",
      "\n",
      " fuel_type \n",
      " gas       173\n",
      "diesel     19\n",
      "Name: fuel_type, dtype: int64\n",
      "\n",
      " aspiration \n",
      " std      157\n",
      "turbo     35\n",
      "Name: aspiration, dtype: int64\n",
      "\n",
      " num_of_doors \n",
      " four    112\n",
      "two      80\n",
      "Name: num_of_doors, dtype: int64\n",
      "\n",
      " body_style \n",
      " sedan          92\n",
      "hatchback      63\n",
      "wagon          24\n",
      "hardtop         8\n",
      "convertible     5\n",
      "Name: body_style, dtype: int64\n",
      "\n",
      " drive_wheels \n",
      " fwd    113\n",
      "rwd     71\n",
      "4wd      8\n",
      "Name: drive_wheels, dtype: int64\n",
      "\n",
      " engine_location \n",
      " front    189\n",
      "rear       3\n",
      "Name: engine_location, dtype: int64\n",
      "\n",
      " engine_type \n",
      " ohc     140\n",
      "ohcf     15\n",
      "ohcv     13\n",
      "dohc     12\n",
      "l        12\n",
      "Name: engine_type, dtype: int64\n",
      "\n",
      " num_of_cylinders \n",
      " four      152\n",
      "six        24\n",
      "five       10\n",
      "eight       4\n",
      "three       1\n",
      "twelve      1\n",
      "Name: num_of_cylinders, dtype: int64\n",
      "\n",
      " fuel_system \n",
      " mpfi    87\n",
      "2bbl    64\n",
      "idi     19\n",
      "1bbl    11\n",
      "spdi     9\n",
      "mfi      1\n",
      "spfi     1\n",
      "Name: fuel_system, dtype: int64\n"
     ]
    }
   ],
   "source": [
    "for i in data_obj.columns:\n",
    "    print('\\n',i,'\\n', data[i].value_counts())"
   ]
  },
  {
   "cell_type": "markdown",
   "id": "bf1aaf44",
   "metadata": {},
   "source": [
    "# 17.\t(1.5 points) Add a new column to the data that is called “values_coded” and have the following values: if num_of_doors=”two” and fuel_type=”gas” then a new value should be called “2d – gas”, if num_of_doors=”four” and fuel_type=”diesel” then a new value should be called “4d – diesel”, else “Other”. "
   ]
  },
  {
   "cell_type": "code",
   "execution_count": 15,
   "id": "847102b0",
   "metadata": {},
   "outputs": [
    {
     "data": {
      "text/plain": [
       "['2d – gas',\n",
       " '2d – gas',\n",
       " '2d – gas',\n",
       " 'Other',\n",
       " 'Other',\n",
       " '2d – gas',\n",
       " 'Other',\n",
       " 'Other',\n",
       " 'Other',\n",
       " '2d – gas']"
      ]
     },
     "execution_count": 15,
     "metadata": {},
     "output_type": "execute_result"
    }
   ],
   "source": [
    "#creating the list of coded values\n",
    "new_values=[]\n",
    "for i in range(len(data)):\n",
    "    if data['num_of_doors'][i]=='two' and data['fuel_type'][i]=='gas':\n",
    "        new_values.append('2d – gas')\n",
    "    elif data['num_of_doors'][i]=='four' and data['fuel_type'][i]=='diesel':\n",
    "        new_values.append('4d – diesel')\n",
    "    else:\n",
    "        new_values.append('Other')\n",
    "new_values[:10]"
   ]
  },
  {
   "cell_type": "code",
   "execution_count": 16,
   "id": "9d8a1e76",
   "metadata": {},
   "outputs": [
    {
     "data": {
      "text/plain": [
       "0    2d – gas\n",
       "1    2d – gas\n",
       "2    2d – gas\n",
       "3       Other\n",
       "4       Other\n",
       "Name: values_coded, dtype: object"
      ]
     },
     "execution_count": 16,
     "metadata": {},
     "output_type": "execute_result"
    }
   ],
   "source": [
    "#adding the coded values to the data\n",
    "data['values_coded']=new_values\n",
    "data['values_coded'].head()"
   ]
  },
  {
   "cell_type": "markdown",
   "id": "d6ce8f1c",
   "metadata": {},
   "source": [
    "# 18.\t(1.5 points) Calculate the following measures: \n",
    "-\tAverage price, \n",
    "-\tMedian price, \n",
    "-\tStandard deviation of price\n",
    "-\t65 percentiles of price"
   ]
  },
  {
   "cell_type": "code",
   "execution_count": 17,
   "id": "fb37b84a",
   "metadata": {},
   "outputs": [
    {
     "name": "stdout",
     "output_type": "stream",
     "text": [
      "Average price 13293.828125\n",
      "Median price 10221.5\n",
      "Standard deviation of price 8088.158534281293\n",
      "65 percentiles of price 13550.900000000001\n"
     ]
    }
   ],
   "source": [
    "print('Average price',np.average(data.price))\n",
    "print('Median price',np.median(data.price))\n",
    "print('Standard deviation of price',np.std(data.price))\n",
    "print('65 percentiles of price',np.percentile(data.price,65))"
   ]
  },
  {
   "cell_type": "markdown",
   "id": "56f4ccd9",
   "metadata": {},
   "source": [
    "# 19.\t(1.5 points) Calculate the natural logarithm of price column and add the values to the dataset in a new column that is called “price_log”. What is the average price_log?"
   ]
  },
  {
   "cell_type": "code",
   "execution_count": 18,
   "id": "c91bbd4a",
   "metadata": {},
   "outputs": [
    {
     "data": {
      "text/html": [
       "<div>\n",
       "<style scoped>\n",
       "    .dataframe tbody tr th:only-of-type {\n",
       "        vertical-align: middle;\n",
       "    }\n",
       "\n",
       "    .dataframe tbody tr th {\n",
       "        vertical-align: top;\n",
       "    }\n",
       "\n",
       "    .dataframe thead th {\n",
       "        text-align: right;\n",
       "    }\n",
       "</style>\n",
       "<table border=\"1\" class=\"dataframe\">\n",
       "  <thead>\n",
       "    <tr style=\"text-align: right;\">\n",
       "      <th></th>\n",
       "      <th>make</th>\n",
       "      <th>fuel_type</th>\n",
       "      <th>aspiration</th>\n",
       "      <th>num_of_doors</th>\n",
       "      <th>body_style</th>\n",
       "      <th>drive_wheels</th>\n",
       "      <th>engine_location</th>\n",
       "      <th>wheel_base</th>\n",
       "      <th>length</th>\n",
       "      <th>width</th>\n",
       "      <th>...</th>\n",
       "      <th>bore</th>\n",
       "      <th>stroke</th>\n",
       "      <th>compression_ratio</th>\n",
       "      <th>horsepower</th>\n",
       "      <th>peak_rpm</th>\n",
       "      <th>city_mpg</th>\n",
       "      <th>highway_mpg</th>\n",
       "      <th>price</th>\n",
       "      <th>values_coded</th>\n",
       "      <th>price_log</th>\n",
       "    </tr>\n",
       "  </thead>\n",
       "  <tbody>\n",
       "    <tr>\n",
       "      <th>0</th>\n",
       "      <td>alfa-romero</td>\n",
       "      <td>gas</td>\n",
       "      <td>std</td>\n",
       "      <td>two</td>\n",
       "      <td>convertible</td>\n",
       "      <td>rwd</td>\n",
       "      <td>front</td>\n",
       "      <td>88.6</td>\n",
       "      <td>168.8</td>\n",
       "      <td>64.1</td>\n",
       "      <td>...</td>\n",
       "      <td>3.47</td>\n",
       "      <td>2.68</td>\n",
       "      <td>9.0</td>\n",
       "      <td>111.0</td>\n",
       "      <td>5000.0</td>\n",
       "      <td>21</td>\n",
       "      <td>27</td>\n",
       "      <td>13495.0</td>\n",
       "      <td>2d – gas</td>\n",
       "      <td>9.510075</td>\n",
       "    </tr>\n",
       "    <tr>\n",
       "      <th>1</th>\n",
       "      <td>alfa-romero</td>\n",
       "      <td>gas</td>\n",
       "      <td>std</td>\n",
       "      <td>two</td>\n",
       "      <td>convertible</td>\n",
       "      <td>rwd</td>\n",
       "      <td>front</td>\n",
       "      <td>88.6</td>\n",
       "      <td>168.8</td>\n",
       "      <td>64.1</td>\n",
       "      <td>...</td>\n",
       "      <td>3.47</td>\n",
       "      <td>2.68</td>\n",
       "      <td>9.0</td>\n",
       "      <td>111.0</td>\n",
       "      <td>5000.0</td>\n",
       "      <td>21</td>\n",
       "      <td>27</td>\n",
       "      <td>16500.0</td>\n",
       "      <td>2d – gas</td>\n",
       "      <td>9.711116</td>\n",
       "    </tr>\n",
       "    <tr>\n",
       "      <th>2</th>\n",
       "      <td>alfa-romero</td>\n",
       "      <td>gas</td>\n",
       "      <td>std</td>\n",
       "      <td>two</td>\n",
       "      <td>hatchback</td>\n",
       "      <td>rwd</td>\n",
       "      <td>front</td>\n",
       "      <td>94.5</td>\n",
       "      <td>171.2</td>\n",
       "      <td>65.5</td>\n",
       "      <td>...</td>\n",
       "      <td>2.68</td>\n",
       "      <td>3.47</td>\n",
       "      <td>9.0</td>\n",
       "      <td>154.0</td>\n",
       "      <td>5000.0</td>\n",
       "      <td>19</td>\n",
       "      <td>26</td>\n",
       "      <td>16500.0</td>\n",
       "      <td>2d – gas</td>\n",
       "      <td>9.711116</td>\n",
       "    </tr>\n",
       "    <tr>\n",
       "      <th>3</th>\n",
       "      <td>audi</td>\n",
       "      <td>gas</td>\n",
       "      <td>std</td>\n",
       "      <td>four</td>\n",
       "      <td>sedan</td>\n",
       "      <td>fwd</td>\n",
       "      <td>front</td>\n",
       "      <td>99.8</td>\n",
       "      <td>176.6</td>\n",
       "      <td>66.2</td>\n",
       "      <td>...</td>\n",
       "      <td>3.19</td>\n",
       "      <td>3.40</td>\n",
       "      <td>10.0</td>\n",
       "      <td>102.0</td>\n",
       "      <td>5500.0</td>\n",
       "      <td>24</td>\n",
       "      <td>30</td>\n",
       "      <td>13950.0</td>\n",
       "      <td>Other</td>\n",
       "      <td>9.543235</td>\n",
       "    </tr>\n",
       "    <tr>\n",
       "      <th>4</th>\n",
       "      <td>audi</td>\n",
       "      <td>gas</td>\n",
       "      <td>std</td>\n",
       "      <td>four</td>\n",
       "      <td>sedan</td>\n",
       "      <td>4wd</td>\n",
       "      <td>front</td>\n",
       "      <td>99.4</td>\n",
       "      <td>176.6</td>\n",
       "      <td>66.4</td>\n",
       "      <td>...</td>\n",
       "      <td>3.19</td>\n",
       "      <td>3.40</td>\n",
       "      <td>8.0</td>\n",
       "      <td>115.0</td>\n",
       "      <td>5500.0</td>\n",
       "      <td>18</td>\n",
       "      <td>22</td>\n",
       "      <td>17450.0</td>\n",
       "      <td>Other</td>\n",
       "      <td>9.767095</td>\n",
       "    </tr>\n",
       "  </tbody>\n",
       "</table>\n",
       "<p>5 rows × 26 columns</p>\n",
       "</div>"
      ],
      "text/plain": [
       "          make fuel_type aspiration num_of_doors   body_style drive_wheels  \\\n",
       "0  alfa-romero       gas        std          two  convertible          rwd   \n",
       "1  alfa-romero       gas        std          two  convertible          rwd   \n",
       "2  alfa-romero       gas        std          two    hatchback          rwd   \n",
       "3         audi       gas        std         four        sedan          fwd   \n",
       "4         audi       gas        std         four        sedan          4wd   \n",
       "\n",
       "  engine_location  wheel_base  length  width  ...  bore  stroke  \\\n",
       "0           front        88.6   168.8   64.1  ...  3.47    2.68   \n",
       "1           front        88.6   168.8   64.1  ...  3.47    2.68   \n",
       "2           front        94.5   171.2   65.5  ...  2.68    3.47   \n",
       "3           front        99.8   176.6   66.2  ...  3.19    3.40   \n",
       "4           front        99.4   176.6   66.4  ...  3.19    3.40   \n",
       "\n",
       "  compression_ratio horsepower  peak_rpm city_mpg  highway_mpg    price  \\\n",
       "0               9.0      111.0    5000.0       21           27  13495.0   \n",
       "1               9.0      111.0    5000.0       21           27  16500.0   \n",
       "2               9.0      154.0    5000.0       19           26  16500.0   \n",
       "3              10.0      102.0    5500.0       24           30  13950.0   \n",
       "4               8.0      115.0    5500.0       18           22  17450.0   \n",
       "\n",
       "   values_coded  price_log  \n",
       "0      2d – gas   9.510075  \n",
       "1      2d – gas   9.711116  \n",
       "2      2d – gas   9.711116  \n",
       "3         Other   9.543235  \n",
       "4         Other   9.767095  \n",
       "\n",
       "[5 rows x 26 columns]"
      ]
     },
     "execution_count": 18,
     "metadata": {},
     "output_type": "execute_result"
    }
   ],
   "source": [
    "data['price_log']=np.log(data.price)\n",
    "data.head()"
   ]
  },
  {
   "cell_type": "code",
   "execution_count": 19,
   "id": "f1200e06",
   "metadata": {},
   "outputs": [
    {
     "name": "stdout",
     "output_type": "stream",
     "text": [
      "average price_log: 9.35\n"
     ]
    }
   ],
   "source": [
    "print('average price_log:', round(data.price_log.mean(),2))"
   ]
  }
 ],
 "metadata": {
  "kernelspec": {
   "display_name": "Python 3 (ipykernel)",
   "language": "python",
   "name": "python3"
  },
  "language_info": {
   "codemirror_mode": {
    "name": "ipython",
    "version": 3
   },
   "file_extension": ".py",
   "mimetype": "text/x-python",
   "name": "python",
   "nbconvert_exporter": "python",
   "pygments_lexer": "ipython3",
   "version": "3.9.7"
  }
 },
 "nbformat": 4,
 "nbformat_minor": 5
}
