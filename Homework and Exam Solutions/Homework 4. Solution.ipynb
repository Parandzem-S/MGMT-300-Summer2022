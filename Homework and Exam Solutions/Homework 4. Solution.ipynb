{
 "cells": [
  {
   "cell_type": "markdown",
   "id": "8a609aad",
   "metadata": {},
   "source": [
    "# Homework 4. Solution"
   ]
  },
  {
   "cell_type": "code",
   "execution_count": 1,
   "id": "5d92b981",
   "metadata": {},
   "outputs": [],
   "source": [
    "import pandas as pd\n",
    "import numpy as np\n",
    "import matplotlib.pyplot as plt\n",
    "import seaborn as sns\n",
    "from scipy.stats import ttest_ind"
   ]
  },
  {
   "cell_type": "markdown",
   "id": "ecf95a9c",
   "metadata": {},
   "source": [
    "# 1. (0.5 points) Read wine dataset. How many rows and how many columns the dataset has?"
   ]
  },
  {
   "cell_type": "code",
   "execution_count": 2,
   "id": "ef8cab29",
   "metadata": {},
   "outputs": [],
   "source": [
    "data=pd.read_excel('Wine_data.xlsx')"
   ]
  },
  {
   "cell_type": "code",
   "execution_count": 3,
   "id": "ea1e9333",
   "metadata": {},
   "outputs": [
    {
     "data": {
      "text/html": [
       "<div>\n",
       "<style scoped>\n",
       "    .dataframe tbody tr th:only-of-type {\n",
       "        vertical-align: middle;\n",
       "    }\n",
       "\n",
       "    .dataframe tbody tr th {\n",
       "        vertical-align: top;\n",
       "    }\n",
       "\n",
       "    .dataframe thead th {\n",
       "        text-align: right;\n",
       "    }\n",
       "</style>\n",
       "<table border=\"1\" class=\"dataframe\">\n",
       "  <thead>\n",
       "    <tr style=\"text-align: right;\">\n",
       "      <th></th>\n",
       "      <th>Customer Last Name</th>\n",
       "      <th>Offer N</th>\n",
       "      <th>Gender</th>\n",
       "      <th>Discount</th>\n",
       "      <th>Varietal</th>\n",
       "      <th>Customer_Segment</th>\n",
       "      <th>Minimum Qty (kg)</th>\n",
       "      <th>Origin</th>\n",
       "      <th>Campaign</th>\n",
       "      <th>Past Peak</th>\n",
       "    </tr>\n",
       "  </thead>\n",
       "  <tbody>\n",
       "    <tr>\n",
       "      <th>0</th>\n",
       "      <td>Smith</td>\n",
       "      <td>2</td>\n",
       "      <td>Male</td>\n",
       "      <td>17</td>\n",
       "      <td>Pinot Noir</td>\n",
       "      <td>Segment 4</td>\n",
       "      <td>72.0</td>\n",
       "      <td>France</td>\n",
       "      <td>January</td>\n",
       "      <td>False</td>\n",
       "    </tr>\n",
       "    <tr>\n",
       "      <th>1</th>\n",
       "      <td>Smith</td>\n",
       "      <td>24</td>\n",
       "      <td>Male</td>\n",
       "      <td>34</td>\n",
       "      <td>Pinot Noir</td>\n",
       "      <td>Segment 4</td>\n",
       "      <td>6.0</td>\n",
       "      <td>Italy</td>\n",
       "      <td>September</td>\n",
       "      <td>False</td>\n",
       "    </tr>\n",
       "    <tr>\n",
       "      <th>2</th>\n",
       "      <td>Johnson</td>\n",
       "      <td>17</td>\n",
       "      <td>Male</td>\n",
       "      <td>47</td>\n",
       "      <td>Pinot Noir</td>\n",
       "      <td>Segment 4</td>\n",
       "      <td>12.0</td>\n",
       "      <td>Germany</td>\n",
       "      <td>July</td>\n",
       "      <td>False</td>\n",
       "    </tr>\n",
       "    <tr>\n",
       "      <th>3</th>\n",
       "      <td>Johnson</td>\n",
       "      <td>24</td>\n",
       "      <td>Male</td>\n",
       "      <td>34</td>\n",
       "      <td>Pinot Noir</td>\n",
       "      <td>Segment 4</td>\n",
       "      <td>6.0</td>\n",
       "      <td>Italy</td>\n",
       "      <td>September</td>\n",
       "      <td>False</td>\n",
       "    </tr>\n",
       "    <tr>\n",
       "      <th>4</th>\n",
       "      <td>Johnson</td>\n",
       "      <td>26</td>\n",
       "      <td>Male</td>\n",
       "      <td>83</td>\n",
       "      <td>Pinot Noir</td>\n",
       "      <td>Segment 4</td>\n",
       "      <td>144.0</td>\n",
       "      <td>Australia</td>\n",
       "      <td>October</td>\n",
       "      <td>False</td>\n",
       "    </tr>\n",
       "  </tbody>\n",
       "</table>\n",
       "</div>"
      ],
      "text/plain": [
       "  Customer Last Name  Offer N Gender  Discount    Varietal Customer_Segment  \\\n",
       "0              Smith        2   Male        17  Pinot Noir        Segment 4   \n",
       "1              Smith       24   Male        34  Pinot Noir        Segment 4   \n",
       "2            Johnson       17   Male        47  Pinot Noir        Segment 4   \n",
       "3            Johnson       24   Male        34  Pinot Noir        Segment 4   \n",
       "4            Johnson       26   Male        83  Pinot Noir        Segment 4   \n",
       "\n",
       "   Minimum Qty (kg)     Origin   Campaign Past Peak  \n",
       "0              72.0     France    January     False  \n",
       "1               6.0      Italy  September     False  \n",
       "2              12.0    Germany       July     False  \n",
       "3               6.0      Italy  September     False  \n",
       "4             144.0  Australia    October     False  "
      ]
     },
     "execution_count": 3,
     "metadata": {},
     "output_type": "execute_result"
    }
   ],
   "source": [
    "data.head()"
   ]
  },
  {
   "cell_type": "markdown",
   "id": "1e325a4a",
   "metadata": {},
   "source": [
    "# 2. (0.5 points) How many numeric and non-numeric variables are in the data?"
   ]
  },
  {
   "cell_type": "code",
   "execution_count": 4,
   "id": "673240a4",
   "metadata": {},
   "outputs": [
    {
     "name": "stdout",
     "output_type": "stream",
     "text": [
      "<class 'pandas.core.frame.DataFrame'>\n",
      "RangeIndex: 324 entries, 0 to 323\n",
      "Data columns (total 10 columns):\n",
      " #   Column              Non-Null Count  Dtype  \n",
      "---  ------              --------------  -----  \n",
      " 0   Customer Last Name  324 non-null    object \n",
      " 1   Offer N             324 non-null    int64  \n",
      " 2   Gender              324 non-null    object \n",
      " 3   Discount            324 non-null    int64  \n",
      " 4   Varietal            323 non-null    object \n",
      " 5   Customer_Segment    324 non-null    object \n",
      " 6   Minimum Qty (kg)    323 non-null    float64\n",
      " 7   Origin              324 non-null    object \n",
      " 8   Campaign            324 non-null    object \n",
      " 9   Past Peak           322 non-null    object \n",
      "dtypes: float64(1), int64(2), object(7)\n",
      "memory usage: 25.4+ KB\n"
     ]
    }
   ],
   "source": [
    "data.info()"
   ]
  },
  {
   "cell_type": "markdown",
   "id": "b9bec7de",
   "metadata": {},
   "source": [
    "> **There are 3 numeric and 7 non-numeric data.**"
   ]
  },
  {
   "cell_type": "markdown",
   "id": "4b55dd57",
   "metadata": {},
   "source": [
    "# 3. (0.5 points) How many missing values does each variable contain?"
   ]
  },
  {
   "cell_type": "code",
   "execution_count": 5,
   "id": "4416f636",
   "metadata": {},
   "outputs": [
    {
     "data": {
      "text/plain": [
       "Customer Last Name    0\n",
       "Offer N               0\n",
       "Gender                0\n",
       "Discount              0\n",
       "Varietal              1\n",
       "Customer_Segment      0\n",
       "Minimum Qty (kg)      1\n",
       "Origin                0\n",
       "Campaign              0\n",
       "Past Peak             2\n",
       "dtype: int64"
      ]
     },
     "execution_count": 5,
     "metadata": {},
     "output_type": "execute_result"
    }
   ],
   "source": [
    "data.isna().sum()"
   ]
  },
  {
   "cell_type": "markdown",
   "id": "cb41abc7",
   "metadata": {},
   "source": [
    "> **Varietal and Minimum Qty (kg) columns contain 1 missing values each, and Past Peak contains 2 missing values.**"
   ]
  },
  {
   "cell_type": "markdown",
   "id": "32f467ac",
   "metadata": {},
   "source": [
    "# 4. (0.5 points) If there are numeric variables that have missing values then replace the missing values with median value of a respective column. If there are missing values in object variables, drop those missing values. "
   ]
  },
  {
   "cell_type": "code",
   "execution_count": 6,
   "id": "c4faf1a3",
   "metadata": {},
   "outputs": [],
   "source": [
    "# filling in missing values with median\n",
    "data['Minimum Qty (kg)'].fillna(data['Minimum Qty (kg)'].median(),inplace=True)"
   ]
  },
  {
   "cell_type": "code",
   "execution_count": 7,
   "id": "bb58b9fd",
   "metadata": {},
   "outputs": [
    {
     "data": {
      "text/plain": [
       "0"
      ]
     },
     "execution_count": 7,
     "metadata": {},
     "output_type": "execute_result"
    }
   ],
   "source": [
    "data['Minimum Qty (kg)'].isna().sum()"
   ]
  },
  {
   "cell_type": "code",
   "execution_count": 8,
   "id": "2c9eb95d",
   "metadata": {},
   "outputs": [],
   "source": [
    "# Dropping missing values of object-type variables\n",
    "data.dropna(inplace=True)"
   ]
  },
  {
   "cell_type": "code",
   "execution_count": 9,
   "id": "4bababbf",
   "metadata": {},
   "outputs": [
    {
     "data": {
      "text/plain": [
       "Customer Last Name    0\n",
       "Offer N               0\n",
       "Gender                0\n",
       "Discount              0\n",
       "Varietal              0\n",
       "Customer_Segment      0\n",
       "Minimum Qty (kg)      0\n",
       "Origin                0\n",
       "Campaign              0\n",
       "Past Peak             0\n",
       "dtype: int64"
      ]
     },
     "execution_count": 9,
     "metadata": {},
     "output_type": "execute_result"
    }
   ],
   "source": [
    "data.isna().sum()"
   ]
  },
  {
   "cell_type": "markdown",
   "id": "2c0f45fe",
   "metadata": {},
   "source": [
    "# 5. (0.5 points) In some of the column headings, there are spaces or parenthesis, replace them with underscore - “_”. "
   ]
  },
  {
   "cell_type": "code",
   "execution_count": 10,
   "id": "77746742",
   "metadata": {},
   "outputs": [
    {
     "name": "stdout",
     "output_type": "stream",
     "text": [
      "Index(['Customer_Last_Name', 'Offer_N', 'Gender', 'Discount', 'Varietal',\n",
      "       'Customer_Segment', 'Minimum_Qty__kg_', 'Origin', 'Campaign',\n",
      "       'Past_Peak'],\n",
      "      dtype='object')\n"
     ]
    }
   ],
   "source": [
    "new_cols=[]\n",
    "for i in data.columns:\n",
    "    new_cols.append(i.replace('(','_').replace(')','_').replace(' ','_'))\n",
    "\n",
    "data.columns=new_cols\n",
    "print(data.columns)"
   ]
  },
  {
   "cell_type": "markdown",
   "id": "95159f17",
   "metadata": {},
   "source": [
    "# 6. (1.5) Calculate the following measures by using numpy module: \n",
    "- • average discount, STDEV discount, \n",
    "- • average minimum quantity, \n",
    "- • median minimum quantity, \n",
    "- • 66 percentiles of minimum quantity,\n",
    "- • 79 percentiles of discount"
   ]
  },
  {
   "cell_type": "code",
   "execution_count": 11,
   "id": "5b2cb410",
   "metadata": {},
   "outputs": [
    {
     "name": "stdout",
     "output_type": "stream",
     "text": [
      "average discount is 59.517133956386296\n",
      "STDEV discount is 20.313031205610944\n",
      "median minimum quantity is  72.0\n",
      "66 percentiles of minimum quantity is 72.0\n",
      "79 percentiles of discount is 72.0\n"
     ]
    }
   ],
   "source": [
    "#you can use functions from numpy module as well\n",
    "print('average discount is',data.Discount.mean())\n",
    "print('STDEV discount is',data.Discount.std())\n",
    "print('median minimum quantity is ',data.Minimum_Qty__kg_.median())\n",
    "print('66 percentiles of minimum quantity is', data.Minimum_Qty__kg_.quantile(0.66))\n",
    "print('79 percentiles of discount is', data.Minimum_Qty__kg_.quantile(0.79))"
   ]
  },
  {
   "cell_type": "markdown",
   "id": "ccae9a08",
   "metadata": {},
   "source": [
    "# 7. (1 points) Use for loop to print value_count() for the following variables: Gender, Varietal, Customer_Segment, Origin."
   ]
  },
  {
   "cell_type": "code",
   "execution_count": 12,
   "id": "2f1757d4",
   "metadata": {},
   "outputs": [
    {
     "name": "stdout",
     "output_type": "stream",
     "text": [
      "\n",
      " Gender \n",
      "\n",
      "Male      161\n",
      "Female    160\n",
      "Name: Gender, dtype: int64\n",
      "\n",
      " Varietal \n",
      "\n",
      "Champagne             79\n",
      "Pinot Noir            43\n",
      "Prosecco              43\n",
      "Espumante             40\n",
      "Malbec                32\n",
      "Cabernet Sauvignon    32\n",
      "Merlot                20\n",
      "Pinot Grigio          17\n",
      "Chardonnay            15\n",
      "Name: Varietal, dtype: int64\n",
      "\n",
      " Customer_Segment \n",
      "\n",
      "Segment 1    124\n",
      "Segment 2     94\n",
      "Segment 3     73\n",
      "Segment 4     30\n",
      "Name: Customer_Segment, dtype: int64\n",
      "\n",
      " Origin \n",
      "\n",
      "France          126\n",
      "Australia        39\n",
      "Chile            37\n",
      "Oregon           26\n",
      "South Africa     25\n",
      "Italy            23\n",
      "Germany          16\n",
      "California       16\n",
      "New Zealand      13\n",
      "Name: Origin, dtype: int64\n"
     ]
    }
   ],
   "source": [
    "for i in ['Gender', 'Varietal', 'Customer_Segment', 'Origin']:\n",
    "    print('\\n',i,'\\n')\n",
    "    print(data[i].value_counts())"
   ]
  },
  {
   "cell_type": "markdown",
   "id": "13913385",
   "metadata": {},
   "source": [
    "# 8. (1 points) Use a for loop to visualize distribution of all the numeric variables in the dataset."
   ]
  },
  {
   "cell_type": "code",
   "execution_count": 13,
   "id": "cb57a3d0",
   "metadata": {},
   "outputs": [
    {
     "name": "stdout",
     "output_type": "stream",
     "text": [
      "Offer_N\n"
     ]
    },
    {
     "name": "stderr",
     "output_type": "stream",
     "text": [
      "C:\\ProgramData\\Anaconda3\\lib\\site-packages\\seaborn\\distributions.py:2619: FutureWarning: `distplot` is a deprecated function and will be removed in a future version. Please adapt your code to use either `displot` (a figure-level function with similar flexibility) or `histplot` (an axes-level function for histograms).\n",
      "  warnings.warn(msg, FutureWarning)\n"
     ]
    },
    {
     "data": {
      "image/png": "[encoded data removed]",
      "text/plain": [
       "<Figure size 576x432 with 1 Axes>"
      ]
     },
     "metadata": {},
     "output_type": "display_data"
    },
    {
     "name": "stderr",
     "output_type": "stream",
     "text": [
      "C:\\ProgramData\\Anaconda3\\lib\\site-packages\\seaborn\\distributions.py:2619: FutureWarning: `distplot` is a deprecated function and will be removed in a future version. Please adapt your code to use either `displot` (a figure-level function with similar flexibility) or `histplot` (an axes-level function for histograms).\n",
      "  warnings.warn(msg, FutureWarning)\n"
     ]
    },
    {
     "name": "stdout",
     "output_type": "stream",
     "text": [
      "Discount\n"
     ]
    },
    {
     "data": {
      "image/png": "[encoded data removed]",
      "text/plain": [
       "<Figure size 432x288 with 1 Axes>"
      ]
     },
     "metadata": {},
     "output_type": "display_data"
    },
    {
     "name": "stderr",
     "output_type": "stream",
     "text": [
      "C:\\ProgramData\\Anaconda3\\lib\\site-packages\\seaborn\\distributions.py:2619: FutureWarning: `distplot` is a deprecated function and will be removed in a future version. Please adapt your code to use either `displot` (a figure-level function with similar flexibility) or `histplot` (an axes-level function for histograms).\n",
      "  warnings.warn(msg, FutureWarning)\n"
     ]
    },
    {
     "name": "stdout",
     "output_type": "stream",
     "text": [
      "Minimum_Qty__kg_\n"
     ]
    },
    {
     "data": {
      "image/png": "[encoded data removed]",
      "text/plain": [
       "<Figure size 432x288 with 1 Axes>"
      ]
     },
     "metadata": {},
     "output_type": "display_data"
    }
   ],
   "source": [
    "sns.set_style('darkgrid')\n",
    "\n",
    "plt.figure(figsize=(8,6))\n",
    "for i in data.select_dtypes(exclude='object').columns:\n",
    "    sns.distplot(data[i])\n",
    "    print(i)\n",
    "    plt.show()"
   ]
  },
  {
   "cell_type": "markdown",
   "id": "d4dd4300",
   "metadata": {},
   "source": [
    "# 9. (3 points) Visualize relationships below by using either matplotlib.pyplot OR seaborn modules. This script here might be helpful if you are not sure what types of charts to choose. You are free to use other types of charts as well. You should use at least two different types of charts."
   ]
  },
  {
   "cell_type": "markdown",
   "id": "efe7ddab",
   "metadata": {},
   "source": [
    "### a. Relationship between “Gender” and “Minimum Qty (kg)”"
   ]
  },
  {
   "cell_type": "code",
   "execution_count": 14,
   "id": "4c291fa7",
   "metadata": {},
   "outputs": [
    {
     "data": {
      "image/png": "[encoded data removed]",
      "text/plain": [
       "<Figure size 432x288 with 1 Axes>"
      ]
     },
     "metadata": {},
     "output_type": "display_data"
    }
   ],
   "source": [
    "#column chart\n",
    "sns.barplot(x=data[['Gender','Minimum_Qty__kg_']].groupby('Gender').mean().reset_index()['Gender'],\n",
    "           y=data[['Gender','Minimum_Qty__kg_']].groupby('Gender').mean().reset_index()['Minimum_Qty__kg_']\n",
    "           )\n",
    "plt.title('Gender VS Min Q')\n",
    "\n",
    "plt.show()"
   ]
  },
  {
   "cell_type": "markdown",
   "id": "e3f70e3b",
   "metadata": {},
   "source": [
    "## b. Relationship between “Origin” and “Minimum Qty (kg)”"
   ]
  },
  {
   "cell_type": "code",
   "execution_count": 15,
   "id": "763711da",
   "metadata": {},
   "outputs": [
    {
     "data": {
      "image/png": "[encoded data removed]",
      "text/plain": [
       "<Figure size 576x432 with 1 Axes>"
      ]
     },
     "metadata": {},
     "output_type": "display_data"
    }
   ],
   "source": [
    "#bar chart\n",
    "plt.figure(figsize=(8,6))\n",
    "sns.barplot(y=data[['Origin','Minimum_Qty__kg_']].groupby('Origin').mean().reset_index()['Origin'],\n",
    "           x=data[['Origin','Minimum_Qty__kg_']].groupby('Origin').mean().reset_index()['Minimum_Qty__kg_']\n",
    "           )\n",
    "plt.title('Origin VS Min Q')\n",
    "\n",
    "plt.show()"
   ]
  },
  {
   "cell_type": "markdown",
   "id": "c1a1e4a8",
   "metadata": {},
   "source": [
    "## c. Relationship between “Minimum Qty (kg)” and “Discount”"
   ]
  },
  {
   "cell_type": "code",
   "execution_count": 16,
   "id": "9665db14",
   "metadata": {},
   "outputs": [
    {
     "name": "stderr",
     "output_type": "stream",
     "text": [
      "C:\\ProgramData\\Anaconda3\\lib\\site-packages\\seaborn\\_decorators.py:36: FutureWarning: Pass the following variables as keyword args: x, y. From version 0.12, the only valid positional argument will be `data`, and passing other arguments without an explicit keyword will result in an error or misinterpretation.\n",
      "  warnings.warn(\n"
     ]
    },
    {
     "data": {
      "image/png": "[encoded data removed]",
      "text/plain": [
       "<Figure size 576x432 with 1 Axes>"
      ]
     },
     "metadata": {},
     "output_type": "display_data"
    }
   ],
   "source": [
    "#scatter plot\n",
    "plt.figure(figsize=(8,6))\n",
    "sns.scatterplot(data.Minimum_Qty__kg_, data.Discount)\n",
    "\n",
    "plt.title('Discount VS Min Q')\n",
    "\n",
    "plt.show()"
   ]
  },
  {
   "cell_type": "markdown",
   "id": "fb9e6468",
   "metadata": {},
   "source": [
    "# d. Relationship between “Varietal” and “Origin”"
   ]
  },
  {
   "cell_type": "code",
   "execution_count": 17,
   "id": "6b481cef",
   "metadata": {},
   "outputs": [
    {
     "data": {
      "image/png": "[encoded data removed]",
      "text/plain": [
       "<Figure size 792x360 with 1 Axes>"
      ]
     },
     "metadata": {},
     "output_type": "display_data"
    }
   ],
   "source": [
    "#scatter plot\n",
    "plt.figure(figsize=(11,5))\n",
    "\n",
    "sns.barplot(x=data[['Origin','Varietal','Customer_Last_Name']].groupby(['Origin','Varietal'])['Customer_Last_Name'].agg('count').reset_index()['Origin'],\n",
    "           y=data[['Origin','Varietal','Customer_Last_Name']].groupby(['Origin','Varietal'])['Customer_Last_Name'].agg('count').reset_index()['Customer_Last_Name'],\n",
    "           hue=data[['Origin','Varietal','Customer_Last_Name']].groupby(['Origin','Varietal'])['Customer_Last_Name'].agg('count').reset_index()['Varietal'])\n",
    "\n",
    "plt.legend(loc='upper right')\n",
    "plt.title('Discount VS Min Q')\n",
    "\n",
    "plt.show()"
   ]
  },
  {
   "cell_type": "markdown",
   "id": "89596b03",
   "metadata": {},
   "source": [
    "# e. Correlation between all numeric variables in the data"
   ]
  },
  {
   "cell_type": "code",
   "execution_count": 18,
   "id": "48b60d27",
   "metadata": {},
   "outputs": [
    {
     "data": {
      "image/png": "[encoded data removed]",
      "text/plain": [
       "<Figure size 576x432 with 2 Axes>"
      ]
     },
     "metadata": {},
     "output_type": "display_data"
    }
   ],
   "source": [
    "plt.figure(figsize=(8,6))\n",
    "\n",
    "\n",
    "sns.heatmap(data.corr().abs(),annot=True)\n",
    "plt.show()"
   ]
  },
  {
   "cell_type": "markdown",
   "id": "0d52bd22",
   "metadata": {},
   "source": [
    "# 10. (1 points) Run a t-test to see whether there is a statistically significant difference between female and male wine buyers in terms of average “Minimum Qty (kg)” bought? Interpret the results."
   ]
  },
  {
   "cell_type": "code",
   "execution_count": 19,
   "id": "825362a9",
   "metadata": {},
   "outputs": [
    {
     "data": {
      "text/plain": [
       "Ttest_indResult(statistic=0.11940445515514647, pvalue=0.9050300923363799)"
      ]
     },
     "execution_count": 19,
     "metadata": {},
     "output_type": "execute_result"
    }
   ],
   "source": [
    "ttest_ind(data['Minimum_Qty__kg_'][data['Gender']=='Female'],\n",
    "          data['Minimum_Qty__kg_'][data['Gender']=='Male']\n",
    "         )"
   ]
  },
  {
   "cell_type": "markdown",
   "id": "465c68a7",
   "metadata": {},
   "source": [
    "> **The T-test results show that “Minimum Qty (kg)” is NOT statistically significantly different between male and female buyers.**"
   ]
  },
  {
   "cell_type": "markdown",
   "id": "9b8cc33a",
   "metadata": {},
   "source": [
    "# Premium question (3 points)\n",
    "\n",
    "> Code the values of Discount column into the following ranges: if discount is less \n",
    "than 50% then “less than 50%”, if it’s in the range of [50%,70%] then “from 50% \n",
    "to 70%”, the rest of the values should be coded as “More than 70%”. Add coded \n",
    "values to the dataset with column name being “Discount_Coded”. Create a bar \n",
    "chart that will show average “Minimum Qty (kg)” by the categories of \n",
    "“Discount_Coded”."
   ]
  },
  {
   "cell_type": "code",
   "execution_count": 20,
   "id": "5e908cf9",
   "metadata": {},
   "outputs": [],
   "source": [
    "def code_values(discount):\n",
    "    if discount<50:\n",
    "        new_value='less than 50%'\n",
    "    elif discount>=50 and discount<=70:\n",
    "        new_value='[50%,70%]'\n",
    "    else:\n",
    "        new_value='More than 70%'\n",
    "    return new_value"
   ]
  },
  {
   "cell_type": "code",
   "execution_count": 21,
   "id": "70aa454e",
   "metadata": {},
   "outputs": [
    {
     "data": {
      "text/html": [
       "<div>\n",
       "<style scoped>\n",
       "    .dataframe tbody tr th:only-of-type {\n",
       "        vertical-align: middle;\n",
       "    }\n",
       "\n",
       "    .dataframe tbody tr th {\n",
       "        vertical-align: top;\n",
       "    }\n",
       "\n",
       "    .dataframe thead th {\n",
       "        text-align: right;\n",
       "    }\n",
       "</style>\n",
       "<table border=\"1\" class=\"dataframe\">\n",
       "  <thead>\n",
       "    <tr style=\"text-align: right;\">\n",
       "      <th></th>\n",
       "      <th>Customer_Last_Name</th>\n",
       "      <th>Offer_N</th>\n",
       "      <th>Gender</th>\n",
       "      <th>Discount</th>\n",
       "      <th>Varietal</th>\n",
       "      <th>Customer_Segment</th>\n",
       "      <th>Minimum_Qty__kg_</th>\n",
       "      <th>Origin</th>\n",
       "      <th>Campaign</th>\n",
       "      <th>Past_Peak</th>\n",
       "    </tr>\n",
       "  </thead>\n",
       "  <tbody>\n",
       "    <tr>\n",
       "      <th>0</th>\n",
       "      <td>Smith</td>\n",
       "      <td>2</td>\n",
       "      <td>Male</td>\n",
       "      <td>17</td>\n",
       "      <td>Pinot Noir</td>\n",
       "      <td>Segment 4</td>\n",
       "      <td>72.0</td>\n",
       "      <td>France</td>\n",
       "      <td>January</td>\n",
       "      <td>False</td>\n",
       "    </tr>\n",
       "    <tr>\n",
       "      <th>1</th>\n",
       "      <td>Smith</td>\n",
       "      <td>24</td>\n",
       "      <td>Male</td>\n",
       "      <td>34</td>\n",
       "      <td>Pinot Noir</td>\n",
       "      <td>Segment 4</td>\n",
       "      <td>6.0</td>\n",
       "      <td>Italy</td>\n",
       "      <td>September</td>\n",
       "      <td>False</td>\n",
       "    </tr>\n",
       "    <tr>\n",
       "      <th>2</th>\n",
       "      <td>Johnson</td>\n",
       "      <td>17</td>\n",
       "      <td>Male</td>\n",
       "      <td>47</td>\n",
       "      <td>Pinot Noir</td>\n",
       "      <td>Segment 4</td>\n",
       "      <td>12.0</td>\n",
       "      <td>Germany</td>\n",
       "      <td>July</td>\n",
       "      <td>False</td>\n",
       "    </tr>\n",
       "    <tr>\n",
       "      <th>3</th>\n",
       "      <td>Johnson</td>\n",
       "      <td>24</td>\n",
       "      <td>Male</td>\n",
       "      <td>34</td>\n",
       "      <td>Pinot Noir</td>\n",
       "      <td>Segment 4</td>\n",
       "      <td>6.0</td>\n",
       "      <td>Italy</td>\n",
       "      <td>September</td>\n",
       "      <td>False</td>\n",
       "    </tr>\n",
       "    <tr>\n",
       "      <th>4</th>\n",
       "      <td>Johnson</td>\n",
       "      <td>26</td>\n",
       "      <td>Male</td>\n",
       "      <td>83</td>\n",
       "      <td>Pinot Noir</td>\n",
       "      <td>Segment 4</td>\n",
       "      <td>144.0</td>\n",
       "      <td>Australia</td>\n",
       "      <td>October</td>\n",
       "      <td>False</td>\n",
       "    </tr>\n",
       "  </tbody>\n",
       "</table>\n",
       "</div>"
      ],
      "text/plain": [
       "  Customer_Last_Name  Offer_N Gender  Discount    Varietal Customer_Segment  \\\n",
       "0              Smith        2   Male        17  Pinot Noir        Segment 4   \n",
       "1              Smith       24   Male        34  Pinot Noir        Segment 4   \n",
       "2            Johnson       17   Male        47  Pinot Noir        Segment 4   \n",
       "3            Johnson       24   Male        34  Pinot Noir        Segment 4   \n",
       "4            Johnson       26   Male        83  Pinot Noir        Segment 4   \n",
       "\n",
       "   Minimum_Qty__kg_     Origin   Campaign Past_Peak  \n",
       "0              72.0     France    January     False  \n",
       "1               6.0      Italy  September     False  \n",
       "2              12.0    Germany       July     False  \n",
       "3               6.0      Italy  September     False  \n",
       "4             144.0  Australia    October     False  "
      ]
     },
     "execution_count": 21,
     "metadata": {},
     "output_type": "execute_result"
    }
   ],
   "source": [
    "data.reset_index(inplace=True)\n",
    "data.drop(columns=['index'],axis=1,inplace=True) #resetting index\n",
    "data.head()"
   ]
  },
  {
   "cell_type": "code",
   "execution_count": 22,
   "id": "168154be",
   "metadata": {},
   "outputs": [],
   "source": [
    "discount_new=[]\n",
    "for i in range(len(data.Discount)):\n",
    "    discount_new.append(code_values(data.Discount[i]))\n",
    "data['Discount_Coded']=discount_new"
   ]
  },
  {
   "cell_type": "code",
   "execution_count": 23,
   "id": "c3cf0c5f",
   "metadata": {},
   "outputs": [
    {
     "data": {
      "text/html": [
       "<div>\n",
       "<style scoped>\n",
       "    .dataframe tbody tr th:only-of-type {\n",
       "        vertical-align: middle;\n",
       "    }\n",
       "\n",
       "    .dataframe tbody tr th {\n",
       "        vertical-align: top;\n",
       "    }\n",
       "\n",
       "    .dataframe thead th {\n",
       "        text-align: right;\n",
       "    }\n",
       "</style>\n",
       "<table border=\"1\" class=\"dataframe\">\n",
       "  <thead>\n",
       "    <tr style=\"text-align: right;\">\n",
       "      <th></th>\n",
       "      <th>Discount</th>\n",
       "      <th>Discount_Coded</th>\n",
       "    </tr>\n",
       "  </thead>\n",
       "  <tbody>\n",
       "    <tr>\n",
       "      <th>0</th>\n",
       "      <td>17</td>\n",
       "      <td>less than 50%</td>\n",
       "    </tr>\n",
       "    <tr>\n",
       "      <th>1</th>\n",
       "      <td>34</td>\n",
       "      <td>less than 50%</td>\n",
       "    </tr>\n",
       "    <tr>\n",
       "      <th>2</th>\n",
       "      <td>47</td>\n",
       "      <td>less than 50%</td>\n",
       "    </tr>\n",
       "    <tr>\n",
       "      <th>3</th>\n",
       "      <td>34</td>\n",
       "      <td>less than 50%</td>\n",
       "    </tr>\n",
       "    <tr>\n",
       "      <th>4</th>\n",
       "      <td>83</td>\n",
       "      <td>More than 70%</td>\n",
       "    </tr>\n",
       "  </tbody>\n",
       "</table>\n",
       "</div>"
      ],
      "text/plain": [
       "   Discount Discount_Coded\n",
       "0        17  less than 50%\n",
       "1        34  less than 50%\n",
       "2        47  less than 50%\n",
       "3        34  less than 50%\n",
       "4        83  More than 70%"
      ]
     },
     "execution_count": 23,
     "metadata": {},
     "output_type": "execute_result"
    }
   ],
   "source": [
    "data[['Discount','Discount_Coded']].head()"
   ]
  },
  {
   "cell_type": "code",
   "execution_count": 24,
   "id": "eaca8aae",
   "metadata": {},
   "outputs": [
    {
     "data": {
      "image/png": "[encoded data removed]",
      "text/plain": [
       "<Figure size 576x432 with 1 Axes>"
      ]
     },
     "metadata": {},
     "output_type": "display_data"
    }
   ],
   "source": [
    "#bar chart\n",
    "plt.figure(figsize=(8,6))\n",
    "sns.barplot(y=data[['Minimum_Qty__kg_','Discount_Coded']].groupby('Discount_Coded').mean().reset_index()['Minimum_Qty__kg_'],\n",
    "           x=data[['Minimum_Qty__kg_','Discount_Coded']].groupby('Discount_Coded').mean().reset_index()['Discount_Coded']\n",
    "           )\n",
    "plt.title('Discount_Coded VS Min Q')\n",
    "\n",
    "plt.show()"
   ]
  }
 ],
 "metadata": {
  "kernelspec": {
   "display_name": "Python 3 (ipykernel)",
   "language": "python",
   "name": "python3"
  },
  "language_info": {
   "codemirror_mode": {
    "name": "ipython",
    "version": 3
   },
   "file_extension": ".py",
   "mimetype": "text/x-python",
   "name": "python",
   "nbconvert_exporter": "python",
   "pygments_lexer": "ipython3",
   "version": "3.9.7"
  }
 },
 "nbformat": 4,
 "nbformat_minor": 5
}
