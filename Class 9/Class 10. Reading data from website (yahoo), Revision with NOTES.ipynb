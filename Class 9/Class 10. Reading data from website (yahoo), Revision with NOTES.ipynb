{
 "cells": [
  {
   "cell_type": "code",
   "execution_count": 7,
   "metadata": {},
   "outputs": [],
   "source": [
    "#importing Libraries\n",
    "import pandas as pd \n",
    "import numpy as np\n",
    "import matplotlib.pyplot as plt\n",
    "import seaborn as sns\n",
    "\n",
    "from scipy.stats import pearsonr\n",
    "from scipy.stats import ttest_ind #Independent Sample T-test\n",
    "from scipy.stats import f_oneway #One-Way ANOVA\n",
    "from scipy.stats import levene\n",
    "\n",
    "from pandas_datareader import data as d"
   ]
  },
  {
   "cell_type": "markdown",
   "metadata": {},
   "source": [
    "**Task 1. Read the data, sheet data_1.**"
   ]
  },
  {
   "cell_type": "code",
   "execution_count": 8,
   "metadata": {},
   "outputs": [],
   "source": [
    "#reading data\n",
    "data=pd.read_excel('companies.xlsx',sheet_name='data_1')"
   ]
  },
  {
   "cell_type": "markdown",
   "metadata": {},
   "source": [
    " Task 2.\tCheck the data for the following information:\n",
    "- i.\tN of rows, columns\n",
    "- ii.\tN of columns that have missing values\n",
    "- iii. N of numeric and non-numeric variables\n"
   ]
  },
  {
   "cell_type": "code",
   "execution_count": 9,
   "metadata": {},
   "outputs": [
    {
     "data": {
      "text/html": [
       "<div>\n",
       "<style scoped>\n",
       "    .dataframe tbody tr th:only-of-type {\n",
       "        vertical-align: middle;\n",
       "    }\n",
       "\n",
       "    .dataframe tbody tr th {\n",
       "        vertical-align: top;\n",
       "    }\n",
       "\n",
       "    .dataframe thead th {\n",
       "        text-align: right;\n",
       "    }\n",
       "</style>\n",
       "<table border=\"1\" class=\"dataframe\">\n",
       "  <thead>\n",
       "    <tr style=\"text-align: right;\">\n",
       "      <th></th>\n",
       "      <th>id</th>\n",
       "      <th>rank</th>\n",
       "      <th>workers</th>\n",
       "      <th>company</th>\n",
       "      <th>url</th>\n",
       "      <th>state_l</th>\n",
       "      <th>state_s</th>\n",
       "      <th>city</th>\n",
       "      <th>metro</th>\n",
       "      <th>growth</th>\n",
       "      <th>revenue</th>\n",
       "      <th>industry</th>\n",
       "      <th>rank_code</th>\n",
       "    </tr>\n",
       "  </thead>\n",
       "  <tbody>\n",
       "    <tr>\n",
       "      <th>0</th>\n",
       "      <td>26615</td>\n",
       "      <td>4734.0</td>\n",
       "      <td>39</td>\n",
       "      <td>Point-of-Rental Systems</td>\n",
       "      <td>point-of-rental-systems</td>\n",
       "      <td>Texas</td>\n",
       "      <td>TX</td>\n",
       "      <td>Grand Prairie</td>\n",
       "      <td>Dallas</td>\n",
       "      <td>50.8338</td>\n",
       "      <td>6802255</td>\n",
       "      <td>Software</td>\n",
       "      <td>Other</td>\n",
       "    </tr>\n",
       "    <tr>\n",
       "      <th>1</th>\n",
       "      <td>26527</td>\n",
       "      <td>4144.0</td>\n",
       "      <td>9</td>\n",
       "      <td>RH Electronics</td>\n",
       "      <td>rh-electronics</td>\n",
       "      <td>California</td>\n",
       "      <td>CA</td>\n",
       "      <td>Oceanside</td>\n",
       "      <td>San Diego</td>\n",
       "      <td>69.9740</td>\n",
       "      <td>2150266</td>\n",
       "      <td>Manufacturing</td>\n",
       "      <td>Other</td>\n",
       "    </tr>\n",
       "    <tr>\n",
       "      <th>2</th>\n",
       "      <td>26620</td>\n",
       "      <td>1623.0</td>\n",
       "      <td>40</td>\n",
       "      <td>CharTec</td>\n",
       "      <td>chartec</td>\n",
       "      <td>California</td>\n",
       "      <td>CA</td>\n",
       "      <td>Bakersfield</td>\n",
       "      <td>Bakersfield CA</td>\n",
       "      <td>262.4610</td>\n",
       "      <td>10382361</td>\n",
       "      <td>IT Services</td>\n",
       "      <td>Other</td>\n",
       "    </tr>\n",
       "    <tr>\n",
       "      <th>3</th>\n",
       "      <td>26619</td>\n",
       "      <td>2623.0</td>\n",
       "      <td>26</td>\n",
       "      <td>California Midwest Xpress</td>\n",
       "      <td>california-midwest-xpress</td>\n",
       "      <td>California</td>\n",
       "      <td>CA</td>\n",
       "      <td>Torrance</td>\n",
       "      <td>Los Angeles</td>\n",
       "      <td>143.2896</td>\n",
       "      <td>4149255</td>\n",
       "      <td>Logistics &amp; Transportation</td>\n",
       "      <td>Other</td>\n",
       "    </tr>\n",
       "    <tr>\n",
       "      <th>4</th>\n",
       "      <td>26618</td>\n",
       "      <td>3051.0</td>\n",
       "      <td>34</td>\n",
       "      <td>AvAir</td>\n",
       "      <td>avair</td>\n",
       "      <td>Arizona</td>\n",
       "      <td>AZ</td>\n",
       "      <td>Chandler</td>\n",
       "      <td>Phoenix</td>\n",
       "      <td>116.5030</td>\n",
       "      <td>40730169</td>\n",
       "      <td>Logistics &amp; Transportation</td>\n",
       "      <td>Other</td>\n",
       "    </tr>\n",
       "  </tbody>\n",
       "</table>\n",
       "</div>"
      ],
      "text/plain": [
       "      id    rank  workers                    company  \\\n",
       "0  26615  4734.0       39    Point-of-Rental Systems   \n",
       "1  26527  4144.0        9             RH Electronics   \n",
       "2  26620  1623.0       40                    CharTec   \n",
       "3  26619  2623.0       26  California Midwest Xpress   \n",
       "4  26618  3051.0       34                      AvAir   \n",
       "\n",
       "                         url     state_l state_s           city  \\\n",
       "0    point-of-rental-systems       Texas      TX  Grand Prairie   \n",
       "1             rh-electronics  California      CA      Oceanside   \n",
       "2                    chartec  California      CA    Bakersfield   \n",
       "3  california-midwest-xpress  California      CA       Torrance   \n",
       "4                      avair     Arizona      AZ       Chandler   \n",
       "\n",
       "            metro    growth   revenue                    industry rank_code  \n",
       "0          Dallas   50.8338   6802255                    Software     Other  \n",
       "1       San Diego   69.9740   2150266               Manufacturing     Other  \n",
       "2  Bakersfield CA  262.4610  10382361                 IT Services     Other  \n",
       "3     Los Angeles  143.2896   4149255  Logistics & Transportation     Other  \n",
       "4         Phoenix  116.5030  40730169  Logistics & Transportation     Other  "
      ]
     },
     "execution_count": 9,
     "metadata": {},
     "output_type": "execute_result"
    }
   ],
   "source": [
    "data.head()"
   ]
  },
  {
   "cell_type": "code",
   "execution_count": 10,
   "metadata": {},
   "outputs": [
    {
     "name": "stdout",
     "output_type": "stream",
     "text": [
      "<class 'pandas.core.frame.DataFrame'>\n",
      "RangeIndex: 5000 entries, 0 to 4999\n",
      "Data columns (total 13 columns):\n",
      " #   Column     Non-Null Count  Dtype  \n",
      "---  ------     --------------  -----  \n",
      " 0   id         5000 non-null   int64  \n",
      " 1   rank       4999 non-null   float64\n",
      " 2   workers    5000 non-null   int64  \n",
      " 3   company    4999 non-null   object \n",
      " 4   url        4999 non-null   object \n",
      " 5   state_l    4999 non-null   object \n",
      " 6   state_s    4999 non-null   object \n",
      " 7   city       5000 non-null   object \n",
      " 8   metro      4942 non-null   object \n",
      " 9   growth     5000 non-null   float64\n",
      " 10  revenue    5000 non-null   int64  \n",
      " 11  industry   5000 non-null   object \n",
      " 12  rank_code  5000 non-null   object \n",
      "dtypes: float64(2), int64(3), object(8)\n",
      "memory usage: 507.9+ KB\n"
     ]
    }
   ],
   "source": [
    "data.info()"
   ]
  },
  {
   "cell_type": "markdown",
   "metadata": {},
   "source": [
    "> The data has 12 columns and 5000 rows. The data has 5 numeric and 8 object variables"
   ]
  },
  {
   "cell_type": "code",
   "execution_count": 11,
   "metadata": {},
   "outputs": [
    {
     "data": {
      "text/plain": [
       "6"
      ]
     },
     "execution_count": 11,
     "metadata": {},
     "output_type": "execute_result"
    }
   ],
   "source": [
    "sum(data.isna().sum()>0)"
   ]
  },
  {
   "cell_type": "markdown",
   "metadata": {},
   "source": [
    "> 6 variables have missing values."
   ]
  },
  {
   "cell_type": "markdown",
   "metadata": {},
   "source": [
    "**Task 3. If there are any missing values, drop them.**"
   ]
  },
  {
   "cell_type": "code",
   "execution_count": 23,
   "metadata": {},
   "outputs": [],
   "source": [
    "data.dropna(inplace=True)"
   ]
  },
  {
   "cell_type": "code",
   "execution_count": 27,
   "metadata": {},
   "outputs": [
    {
     "data": {
      "text/plain": [
       "0"
      ]
     },
     "execution_count": 27,
     "metadata": {},
     "output_type": "execute_result"
    }
   ],
   "source": [
    "sum(data.isna().sum()>1)"
   ]
  },
  {
   "cell_type": "markdown",
   "metadata": {},
   "source": [
    "> No missing values after dropping them, now we're good to continue."
   ]
  },
  {
   "cell_type": "code",
   "execution_count": 26,
   "metadata": {},
   "outputs": [
    {
     "data": {
      "text/html": [
       "<div>\n",
       "<style scoped>\n",
       "    .dataframe tbody tr th:only-of-type {\n",
       "        vertical-align: middle;\n",
       "    }\n",
       "\n",
       "    .dataframe tbody tr th {\n",
       "        vertical-align: top;\n",
       "    }\n",
       "\n",
       "    .dataframe thead th {\n",
       "        text-align: right;\n",
       "    }\n",
       "</style>\n",
       "<table border=\"1\" class=\"dataframe\">\n",
       "  <thead>\n",
       "    <tr style=\"text-align: right;\">\n",
       "      <th></th>\n",
       "      <th>id</th>\n",
       "      <th>rank</th>\n",
       "      <th>workers</th>\n",
       "      <th>company</th>\n",
       "      <th>url</th>\n",
       "      <th>state_l</th>\n",
       "      <th>state_s</th>\n",
       "      <th>city</th>\n",
       "      <th>metro</th>\n",
       "      <th>growth</th>\n",
       "      <th>revenue</th>\n",
       "      <th>industry</th>\n",
       "      <th>rank_code</th>\n",
       "    </tr>\n",
       "  </thead>\n",
       "  <tbody>\n",
       "    <tr>\n",
       "      <th>0</th>\n",
       "      <td>26615</td>\n",
       "      <td>4734.0</td>\n",
       "      <td>39</td>\n",
       "      <td>Point-of-Rental Systems</td>\n",
       "      <td>point-of-rental-systems</td>\n",
       "      <td>Texas</td>\n",
       "      <td>TX</td>\n",
       "      <td>Grand Prairie</td>\n",
       "      <td>Dallas</td>\n",
       "      <td>50.8338</td>\n",
       "      <td>6802255</td>\n",
       "      <td>Software</td>\n",
       "      <td>Other</td>\n",
       "    </tr>\n",
       "    <tr>\n",
       "      <th>1</th>\n",
       "      <td>26527</td>\n",
       "      <td>4144.0</td>\n",
       "      <td>9</td>\n",
       "      <td>RH Electronics</td>\n",
       "      <td>rh-electronics</td>\n",
       "      <td>California</td>\n",
       "      <td>CA</td>\n",
       "      <td>Oceanside</td>\n",
       "      <td>San Diego</td>\n",
       "      <td>69.9740</td>\n",
       "      <td>2150266</td>\n",
       "      <td>Manufacturing</td>\n",
       "      <td>Other</td>\n",
       "    </tr>\n",
       "    <tr>\n",
       "      <th>2</th>\n",
       "      <td>26620</td>\n",
       "      <td>1623.0</td>\n",
       "      <td>40</td>\n",
       "      <td>CharTec</td>\n",
       "      <td>chartec</td>\n",
       "      <td>California</td>\n",
       "      <td>CA</td>\n",
       "      <td>Bakersfield</td>\n",
       "      <td>Bakersfield CA</td>\n",
       "      <td>262.4610</td>\n",
       "      <td>10382361</td>\n",
       "      <td>IT Services</td>\n",
       "      <td>Other</td>\n",
       "    </tr>\n",
       "    <tr>\n",
       "      <th>3</th>\n",
       "      <td>26619</td>\n",
       "      <td>2623.0</td>\n",
       "      <td>26</td>\n",
       "      <td>California Midwest Xpress</td>\n",
       "      <td>california-midwest-xpress</td>\n",
       "      <td>California</td>\n",
       "      <td>CA</td>\n",
       "      <td>Torrance</td>\n",
       "      <td>Los Angeles</td>\n",
       "      <td>143.2896</td>\n",
       "      <td>4149255</td>\n",
       "      <td>Logistics &amp; Transportation</td>\n",
       "      <td>Other</td>\n",
       "    </tr>\n",
       "    <tr>\n",
       "      <th>4</th>\n",
       "      <td>26618</td>\n",
       "      <td>3051.0</td>\n",
       "      <td>34</td>\n",
       "      <td>AvAir</td>\n",
       "      <td>avair</td>\n",
       "      <td>Arizona</td>\n",
       "      <td>AZ</td>\n",
       "      <td>Chandler</td>\n",
       "      <td>Phoenix</td>\n",
       "      <td>116.5030</td>\n",
       "      <td>40730169</td>\n",
       "      <td>Logistics &amp; Transportation</td>\n",
       "      <td>Other</td>\n",
       "    </tr>\n",
       "  </tbody>\n",
       "</table>\n",
       "</div>"
      ],
      "text/plain": [
       "      id    rank  workers                    company  \\\n",
       "0  26615  4734.0       39    Point-of-Rental Systems   \n",
       "1  26527  4144.0        9             RH Electronics   \n",
       "2  26620  1623.0       40                    CharTec   \n",
       "3  26619  2623.0       26  California Midwest Xpress   \n",
       "4  26618  3051.0       34                      AvAir   \n",
       "\n",
       "                         url     state_l state_s           city  \\\n",
       "0    point-of-rental-systems       Texas      TX  Grand Prairie   \n",
       "1             rh-electronics  California      CA      Oceanside   \n",
       "2                    chartec  California      CA    Bakersfield   \n",
       "3  california-midwest-xpress  California      CA       Torrance   \n",
       "4                      avair     Arizona      AZ       Chandler   \n",
       "\n",
       "            metro    growth   revenue                    industry rank_code  \n",
       "0          Dallas   50.8338   6802255                    Software     Other  \n",
       "1       San Diego   69.9740   2150266               Manufacturing     Other  \n",
       "2  Bakersfield CA  262.4610  10382361                 IT Services     Other  \n",
       "3     Los Angeles  143.2896   4149255  Logistics & Transportation     Other  \n",
       "4         Phoenix  116.5030  40730169  Logistics & Transportation     Other  "
      ]
     },
     "execution_count": 26,
     "metadata": {},
     "output_type": "execute_result"
    }
   ],
   "source": [
    "data.head()"
   ]
  },
  {
   "cell_type": "code",
   "execution_count": 29,
   "metadata": {},
   "outputs": [
    {
     "data": {
      "text/plain": [
       "39"
      ]
     },
     "execution_count": 29,
     "metadata": {},
     "output_type": "execute_result"
    }
   ],
   "source": [
    "data.workers[0]"
   ]
  },
  {
   "cell_type": "markdown",
   "metadata": {},
   "source": [
    "**Task 4.\tDefine a function that will code number of workers to the following categories:\n",
    "if number of workers <250 then ‘small and medium’ else “Large” companies.** \n",
    "-\tHow many small and medium companies the data contains?\n"
   ]
  },
  {
   "cell_type": "code",
   "execution_count": 32,
   "metadata": {},
   "outputs": [],
   "source": [
    "def coder(number_workers):\n",
    "    if number_workers<250:\n",
    "        out=\"SME\"\n",
    "    else:\n",
    "        out=\"Large\"\n",
    "    return out"
   ]
  },
  {
   "cell_type": "code",
   "execution_count": 40,
   "metadata": {},
   "outputs": [],
   "source": [
    "#after dropping NAs, some of row indexes have been deleted (e.g. 5th index)\n",
    "#reseting indexes starts numbering the rows from 0 again\n",
    "data.reset_index(inplace=True) "
   ]
  },
  {
   "cell_type": "code",
   "execution_count": 41,
   "metadata": {},
   "outputs": [
    {
     "data": {
      "text/plain": [
       "'SME'"
      ]
     },
     "execution_count": 41,
     "metadata": {},
     "output_type": "execute_result"
    }
   ],
   "source": [
    "coder(data.workers[5])"
   ]
  },
  {
   "cell_type": "code",
   "execution_count": 44,
   "metadata": {},
   "outputs": [
    {
     "data": {
      "text/plain": [
       "['SME', 'SME', 'SME', 'SME', 'SME', 'SME', 'SME', 'SME', 'Large', 'Large']"
      ]
     },
     "execution_count": 44,
     "metadata": {},
     "output_type": "execute_result"
    }
   ],
   "source": [
    "coded_val=[]\n",
    "for i in range(len(data.workers)):\n",
    "    coded_val.append(coder(data.workers[i]))\n",
    "coded_val[:10]"
   ]
  },
  {
   "cell_type": "code",
   "execution_count": 45,
   "metadata": {},
   "outputs": [],
   "source": [
    "data['company_size']=coded_val"
   ]
  },
  {
   "cell_type": "code",
   "execution_count": 46,
   "metadata": {},
   "outputs": [
    {
     "data": {
      "text/html": [
       "<div>\n",
       "<style scoped>\n",
       "    .dataframe tbody tr th:only-of-type {\n",
       "        vertical-align: middle;\n",
       "    }\n",
       "\n",
       "    .dataframe tbody tr th {\n",
       "        vertical-align: top;\n",
       "    }\n",
       "\n",
       "    .dataframe thead th {\n",
       "        text-align: right;\n",
       "    }\n",
       "</style>\n",
       "<table border=\"1\" class=\"dataframe\">\n",
       "  <thead>\n",
       "    <tr style=\"text-align: right;\">\n",
       "      <th></th>\n",
       "      <th>index</th>\n",
       "      <th>id</th>\n",
       "      <th>rank</th>\n",
       "      <th>workers</th>\n",
       "      <th>company</th>\n",
       "      <th>url</th>\n",
       "      <th>state_l</th>\n",
       "      <th>state_s</th>\n",
       "      <th>city</th>\n",
       "      <th>metro</th>\n",
       "      <th>growth</th>\n",
       "      <th>revenue</th>\n",
       "      <th>industry</th>\n",
       "      <th>rank_code</th>\n",
       "      <th>company_size</th>\n",
       "    </tr>\n",
       "  </thead>\n",
       "  <tbody>\n",
       "    <tr>\n",
       "      <th>0</th>\n",
       "      <td>0</td>\n",
       "      <td>26615</td>\n",
       "      <td>4734.0</td>\n",
       "      <td>39</td>\n",
       "      <td>Point-of-Rental Systems</td>\n",
       "      <td>point-of-rental-systems</td>\n",
       "      <td>Texas</td>\n",
       "      <td>TX</td>\n",
       "      <td>Grand Prairie</td>\n",
       "      <td>Dallas</td>\n",
       "      <td>50.8338</td>\n",
       "      <td>6802255</td>\n",
       "      <td>Software</td>\n",
       "      <td>Other</td>\n",
       "      <td>SME</td>\n",
       "    </tr>\n",
       "    <tr>\n",
       "      <th>1</th>\n",
       "      <td>1</td>\n",
       "      <td>26527</td>\n",
       "      <td>4144.0</td>\n",
       "      <td>9</td>\n",
       "      <td>RH Electronics</td>\n",
       "      <td>rh-electronics</td>\n",
       "      <td>California</td>\n",
       "      <td>CA</td>\n",
       "      <td>Oceanside</td>\n",
       "      <td>San Diego</td>\n",
       "      <td>69.9740</td>\n",
       "      <td>2150266</td>\n",
       "      <td>Manufacturing</td>\n",
       "      <td>Other</td>\n",
       "      <td>SME</td>\n",
       "    </tr>\n",
       "  </tbody>\n",
       "</table>\n",
       "</div>"
      ],
      "text/plain": [
       "   index     id    rank  workers                  company  \\\n",
       "0      0  26615  4734.0       39  Point-of-Rental Systems   \n",
       "1      1  26527  4144.0        9           RH Electronics   \n",
       "\n",
       "                       url     state_l state_s           city      metro  \\\n",
       "0  point-of-rental-systems       Texas      TX  Grand Prairie     Dallas   \n",
       "1           rh-electronics  California      CA      Oceanside  San Diego   \n",
       "\n",
       "    growth  revenue       industry rank_code company_size  \n",
       "0  50.8338  6802255       Software     Other          SME  \n",
       "1  69.9740  2150266  Manufacturing     Other          SME  "
      ]
     },
     "execution_count": 46,
     "metadata": {},
     "output_type": "execute_result"
    }
   ],
   "source": [
    "data.head(2)"
   ]
  },
  {
   "cell_type": "code",
   "execution_count": 47,
   "metadata": {},
   "outputs": [
    {
     "data": {
      "text/plain": [
       "SME      4287\n",
       "Large     650\n",
       "Name: company_size, dtype: int64"
      ]
     },
     "execution_count": 47,
     "metadata": {},
     "output_type": "execute_result"
    }
   ],
   "source": [
    "data.company_size.value_counts()"
   ]
  },
  {
   "cell_type": "markdown",
   "metadata": {},
   "source": [
    "> **The data contains 4287 small and medium companies.**"
   ]
  },
  {
   "cell_type": "markdown",
   "metadata": {},
   "source": [
    "**Task 5.\tCheck the correlations between numeric variables. Which variables have the highest correlations?**"
   ]
  },
  {
   "cell_type": "code",
   "execution_count": 50,
   "metadata": {},
   "outputs": [
    {
     "data": {
      "text/html": [
       "<div>\n",
       "<style scoped>\n",
       "    .dataframe tbody tr th:only-of-type {\n",
       "        vertical-align: middle;\n",
       "    }\n",
       "\n",
       "    .dataframe tbody tr th {\n",
       "        vertical-align: top;\n",
       "    }\n",
       "\n",
       "    .dataframe thead th {\n",
       "        text-align: right;\n",
       "    }\n",
       "</style>\n",
       "<table border=\"1\" class=\"dataframe\">\n",
       "  <thead>\n",
       "    <tr style=\"text-align: right;\">\n",
       "      <th></th>\n",
       "      <th>index</th>\n",
       "      <th>id</th>\n",
       "      <th>rank</th>\n",
       "      <th>workers</th>\n",
       "      <th>growth</th>\n",
       "      <th>revenue</th>\n",
       "    </tr>\n",
       "  </thead>\n",
       "  <tbody>\n",
       "    <tr>\n",
       "      <th>index</th>\n",
       "      <td>1.000000</td>\n",
       "      <td>-0.834127</td>\n",
       "      <td>0.337528</td>\n",
       "      <td>0.076014</td>\n",
       "      <td>-0.096410</td>\n",
       "      <td>0.093871</td>\n",
       "    </tr>\n",
       "    <tr>\n",
       "      <th>id</th>\n",
       "      <td>-0.834127</td>\n",
       "      <td>1.000000</td>\n",
       "      <td>-0.352258</td>\n",
       "      <td>-0.093694</td>\n",
       "      <td>0.083423</td>\n",
       "      <td>-0.115336</td>\n",
       "    </tr>\n",
       "    <tr>\n",
       "      <th>rank</th>\n",
       "      <td>0.337528</td>\n",
       "      <td>-0.352258</td>\n",
       "      <td>1.000000</td>\n",
       "      <td>0.073241</td>\n",
       "      <td>-0.229391</td>\n",
       "      <td>0.067557</td>\n",
       "    </tr>\n",
       "    <tr>\n",
       "      <th>workers</th>\n",
       "      <td>0.076014</td>\n",
       "      <td>-0.093694</td>\n",
       "      <td>0.073241</td>\n",
       "      <td>1.000000</td>\n",
       "      <td>-0.012483</td>\n",
       "      <td>0.269384</td>\n",
       "    </tr>\n",
       "    <tr>\n",
       "      <th>growth</th>\n",
       "      <td>-0.096410</td>\n",
       "      <td>0.083423</td>\n",
       "      <td>-0.229391</td>\n",
       "      <td>-0.012483</td>\n",
       "      <td>1.000000</td>\n",
       "      <td>0.001691</td>\n",
       "    </tr>\n",
       "    <tr>\n",
       "      <th>revenue</th>\n",
       "      <td>0.093871</td>\n",
       "      <td>-0.115336</td>\n",
       "      <td>0.067557</td>\n",
       "      <td>0.269384</td>\n",
       "      <td>0.001691</td>\n",
       "      <td>1.000000</td>\n",
       "    </tr>\n",
       "  </tbody>\n",
       "</table>\n",
       "</div>"
      ],
      "text/plain": [
       "            index        id      rank   workers    growth   revenue\n",
       "index    1.000000 -0.834127  0.337528  0.076014 -0.096410  0.093871\n",
       "id      -0.834127  1.000000 -0.352258 -0.093694  0.083423 -0.115336\n",
       "rank     0.337528 -0.352258  1.000000  0.073241 -0.229391  0.067557\n",
       "workers  0.076014 -0.093694  0.073241  1.000000 -0.012483  0.269384\n",
       "growth  -0.096410  0.083423 -0.229391 -0.012483  1.000000  0.001691\n",
       "revenue  0.093871 -0.115336  0.067557  0.269384  0.001691  1.000000"
      ]
     },
     "execution_count": 50,
     "metadata": {},
     "output_type": "execute_result"
    }
   ],
   "source": [
    "data.select_dtypes(exclude='object').corr()"
   ]
  },
  {
   "cell_type": "code",
   "execution_count": 54,
   "metadata": {},
   "outputs": [
    {
     "data": {
      "image/png": "[encoded data removed]",
      "text/plain": [
       "<Figure size 432x288 with 2 Axes>"
      ]
     },
     "metadata": {
      "needs_background": "light"
     },
     "output_type": "display_data"
    }
   ],
   "source": [
    "#when checking correlations we exclude ID and index columns as there is no meaning to run corr between id/index and other vars\n",
    "sns.heatmap(data.iloc[:,2:].corr(),annot=True) \n",
    "\n",
    "plt.show()"
   ]
  },
  {
   "cell_type": "markdown",
   "metadata": {},
   "source": [
    "> workers and revenue variables have the highest correlations."
   ]
  },
  {
   "cell_type": "markdown",
   "metadata": {},
   "source": [
    "**6.\tWrite a for loop that will return the distribution charts of all numeric variables. You’re free to choose the chart type. Which one is the most skewed variable?**"
   ]
  },
  {
   "cell_type": "code",
   "execution_count": 58,
   "metadata": {},
   "outputs": [
    {
     "name": "stdout",
     "output_type": "stream",
     "text": [
      "<class 'pandas.core.frame.DataFrame'>\n",
      "RangeIndex: 4937 entries, 0 to 4936\n",
      "Data columns (total 4 columns):\n",
      "rank       4937 non-null float64\n",
      "workers    4937 non-null int64\n",
      "growth     4937 non-null float64\n",
      "revenue    4937 non-null int64\n",
      "dtypes: float64(2), int64(2)\n",
      "memory usage: 154.4 KB\n"
     ]
    }
   ],
   "source": [
    "#first let's create a subset of data that contains all numeric columns for which charts should be constructed\n",
    "#ID and index should be excluded as there is no meaning to check distribution for IDs or indexes\n",
    "data_num=data.iloc[:,2:].select_dtypes(exclude='object')\n",
    "data_num.info()"
   ]
  },
  {
   "cell_type": "code",
   "execution_count": 72,
   "metadata": {},
   "outputs": [
    {
     "data": {
      "image/png": "[encoded data removed]",
      "text/plain": [
       "<Figure size 432x288 with 1 Axes>"
      ]
     },
     "metadata": {
      "needs_background": "light"
     },
     "output_type": "display_data"
    }
   ],
   "source": [
    "#boxplot for one variable\n",
    "sns.boxplot(data_num['rank'])\n",
    "\n",
    "plt.show()"
   ]
  },
  {
   "cell_type": "code",
   "execution_count": 73,
   "metadata": {},
   "outputs": [
    {
     "data": {
      "image/png": "[encoded data removed]",
      "text/plain": [
       "<Figure size 432x288 with 1 Axes>"
      ]
     },
     "metadata": {
      "needs_background": "light"
     },
     "output_type": "display_data"
    },
    {
     "data": {
      "image/png": "[encoded data removed]",
      "text/plain": [
       "<Figure size 432x288 with 1 Axes>"
      ]
     },
     "metadata": {
      "needs_background": "light"
     },
     "output_type": "display_data"
    },
    {
     "data": {
      "image/png": "[encoded data removed]",
      "text/plain": [
       "<Figure size 432x288 with 1 Axes>"
      ]
     },
     "metadata": {
      "needs_background": "light"
     },
     "output_type": "display_data"
    },
    {
     "data": {
      "image/png": "[encoded data removed]",
      "text/plain": [
       "<Figure size 432x288 with 1 Axes>"
      ]
     },
     "metadata": {
      "needs_background": "light"
     },
     "output_type": "display_data"
    }
   ],
   "source": [
    "#boxplots for all numeric variables\n",
    "for i in data_num.columns:\n",
    "    sns.boxplot(data_num[i])\n",
    "    plt.show()"
   ]
  },
  {
   "cell_type": "code",
   "execution_count": 74,
   "metadata": {},
   "outputs": [
    {
     "data": {
      "image/png": "[encoded data removed]",
      "text/plain": [
       "<Figure size 432x288 with 1 Axes>"
      ]
     },
     "metadata": {
      "needs_background": "light"
     },
     "output_type": "display_data"
    },
    {
     "data": {
      "image/png": "[encoded data removed]",
      "text/plain": [
       "<Figure size 432x288 with 1 Axes>"
      ]
     },
     "metadata": {
      "needs_background": "light"
     },
     "output_type": "display_data"
    },
    {
     "data": {
      "image/png": "[encoded data removed]",
      "text/plain": [
       "<Figure size 432x288 with 1 Axes>"
      ]
     },
     "metadata": {
      "needs_background": "light"
     },
     "output_type": "display_data"
    },
    {
     "data": {
      "image/png": "[encoded data removed]",
      "text/plain": [
       "<Figure size 432x288 with 1 Axes>"
      ]
     },
     "metadata": {
      "needs_background": "light"
     },
     "output_type": "display_data"
    }
   ],
   "source": [
    "#dist plot for all numeric variables in data_num dataset\n",
    "for i in data_num.columns:\n",
    "    sns.distplot(data_num[i])\n",
    "    plt.show()"
   ]
  },
  {
   "cell_type": "markdown",
   "metadata": {},
   "source": [
    "**Task 7.\tReplace “?” sign with np.nan (i.e. numpy NA value) in industry column.**"
   ]
  },
  {
   "cell_type": "code",
   "execution_count": 75,
   "metadata": {},
   "outputs": [
    {
     "data": {
      "text/plain": [
       "array(['Software', 'Manufacturing', 'IT Services',\n",
       "       'Logistics & Transportation', 'Health', '?',\n",
       "       'Business Products & Services', 'Financial Services',\n",
       "       'Construction', 'Security', 'Retail', 'Energy',\n",
       "       'Consumer Products & Services', 'Education', 'Government Services',\n",
       "       'Food & Beverage', 'Insurance', 'Telecommunications',\n",
       "       'Real Estate', 'Human Resources', 'Advertising & Marketing',\n",
       "       'Media', 'Engineering', 'Computer Hardware',\n",
       "       'Environmental Services', 'Travel & Hospitality'], dtype=object)"
      ]
     },
     "execution_count": 75,
     "metadata": {},
     "output_type": "execute_result"
    }
   ],
   "source": [
    "data.industry.unique()"
   ]
  },
  {
   "cell_type": "code",
   "execution_count": 76,
   "metadata": {},
   "outputs": [
    {
     "data": {
      "text/plain": [
       "array(['Software', 'Manufacturing', 'IT Services',\n",
       "       'Logistics & Transportation', 'Health', nan,\n",
       "       'Business Products & Services', 'Financial Services',\n",
       "       'Construction', 'Security', 'Retail', 'Energy',\n",
       "       'Consumer Products & Services', 'Education', 'Government Services',\n",
       "       'Food & Beverage', 'Insurance', 'Telecommunications',\n",
       "       'Real Estate', 'Human Resources', 'Advertising & Marketing',\n",
       "       'Media', 'Engineering', 'Computer Hardware',\n",
       "       'Environmental Services', 'Travel & Hospitality'], dtype=object)"
      ]
     },
     "execution_count": 76,
     "metadata": {},
     "output_type": "execute_result"
    }
   ],
   "source": [
    "data['industry']=np.where(data.industry=='?',\n",
    "                         np.nan, #NAs\n",
    "                          data.industry\n",
    "                         )\n",
    "data.industry.unique()"
   ]
  },
  {
   "cell_type": "markdown",
   "metadata": {},
   "source": [
    "**Task 8.\tWrite a for loop that will return value_counts() of all object-type variables. Which industry has the highest number of companies?**"
   ]
  },
  {
   "cell_type": "code",
   "execution_count": 79,
   "metadata": {
    "scrolled": true
   },
   "outputs": [
    {
     "name": "stdout",
     "output_type": "stream",
     "text": [
      "\n",
      " company \n",
      "\n",
      "Stemtech International               1\n",
      "Noble Studios                        1\n",
      "Principle Solutions Group            1\n",
      "eSchoolView                          1\n",
      "Foundant Technologies                1\n",
      "Enlightened                          1\n",
      "E-Aspire IT                          1\n",
      "Truepoint                            1\n",
      "GANTECH                              1\n",
      "Camp Gladiator                       1\n",
      "LiveLOOK                             1\n",
      "IMS ExpertServices                   1\n",
      "Enertechnix                          1\n",
      "CRM Manager                          1\n",
      "Honey-Can-Do                         1\n",
      "Southern Botanical                   1\n",
      "Command Post Technologies            1\n",
      "Coton Colors                         1\n",
      "Icon Information Consultants         1\n",
      "All State Express                    1\n",
      "Dynamic Design Solutions             1\n",
      "Phidiax                              1\n",
      "SaltWorks                            1\n",
      "Brown & Pipkins                      1\n",
      "QTRCO                                1\n",
      "Wizard Studios NY                    1\n",
      "Frontline Source Group               1\n",
      "Three Twins Ice Cream                1\n",
      "CLEAResult                           1\n",
      "New Horizon Security Services        1\n",
      "                                    ..\n",
      "BlueToad                             1\n",
      "Wendel Energy Services               1\n",
      "CityTech                             1\n",
      "Integrated Care Management           1\n",
      "NTE Solutions                        1\n",
      "Medical Staffing Solutions USA       1\n",
      "BookPal                              1\n",
      "Trident Technologies                 1\n",
      "Xtreme Solutions                     1\n",
      "The Lewis Chemical Company           1\n",
      "American Retirement Advisors         1\n",
      "Medi-Copy Services                   1\n",
      "Infiniti HR                          1\n",
      "Improving Enterprises                1\n",
      "Prolim                               1\n",
      "Bell Sports Marketing                1\n",
      "Advice Interactive Group             1\n",
      "Kings Capital Construction           1\n",
      "Z Prepay                             1\n",
      "Blue Sky MD                          1\n",
      "Alonzo Bacarisse Irvine & Palmer     1\n",
      "Natural Way                          1\n",
      "TrustPoint International             1\n",
      "Fiberlay                             1\n",
      "DXagency                             1\n",
      "LDR Interactive                      1\n",
      "TicketPrinting.com & Ticket River    1\n",
      "Franklin Loan Center                 1\n",
      "Noble Oil Services                   1\n",
      "Meetings & Incentives Worldwide      1\n",
      "Name: company, Length: 4937, dtype: int64\n",
      "\n",
      " url \n",
      "\n",
      "dployit                             1\n",
      "ript-apparel                        1\n",
      "w2o-group                           1\n",
      "euclid-technology                   1\n",
      "wesley-berry-flowers                1\n",
      "cei-composite-materials             1\n",
      "capital-markets-placement           1\n",
      "prosper-technologies                1\n",
      "acculynx                            1\n",
      "eid-passport                        1\n",
      "vivo-clothing                       1\n",
      "plum-tree-group                     1\n",
      "redcom-design-construction          1\n",
      "kinetix-trading-solutions           1\n",
      "vitalsmarts                         1\n",
      "old-town-it                         1\n",
      "alcance-media-group                 1\n",
      "prestige-wholesale                  1\n",
      "tts                                 1\n",
      "progreso-financero                  1\n",
      "online-rewards                      1\n",
      "launchpoint                         1\n",
      "springahead                         1\n",
      "isend                               1\n",
      "praxis                              1\n",
      "the-evanston-group                  1\n",
      "evolve-digital-labs                 1\n",
      "alonzo-bacarisse-irvine-palmer      1\n",
      "cloud9-real-time                    1\n",
      "pixafy                              1\n",
      "                                   ..\n",
      "gigaom                              1\n",
      "macedon-technologies                1\n",
      "visual-citi                         1\n",
      "nlogic                              1\n",
      "ecreditadvisor                      1\n",
      "streamline-technologies             1\n",
      "mint-advertising                    1\n",
      "purecars                            1\n",
      "infinity-consulting-solutions       1\n",
      "guardian-network-solutions          1\n",
      "sriven-systems                      1\n",
      "technologyadvice                    1\n",
      "tongal                              1\n",
      "cardinal-group-management           1\n",
      "national-structures                 1\n",
      "safe-systems                        1\n",
      "x-ray-visions                       1\n",
      "clickmail-marketing                 1\n",
      "solomon-consulting-group            1\n",
      "biomedical-research-laboratories    1\n",
      "stratus-prep                        1\n",
      "easi                                1\n",
      "oakmont-home-builders               1\n",
      "peoples-care-holdings               1\n",
      "amwins-group                        1\n",
      "integrity-staffing-solutions        1\n",
      "1seocom                             1\n",
      "ntc-mazzuca-contracting             1\n",
      "golfballscom                        1\n",
      "national-corporate-housing          1\n",
      "Name: url, Length: 4937, dtype: int64\n",
      "\n",
      " state_l \n",
      "\n",
      "California              692\n",
      "Texas                   402\n",
      "New York                335\n",
      "Florida                 298\n",
      "Virginia                276\n",
      "Illinois                232\n",
      "Georgia                 209\n",
      "Pennsylvania            188\n",
      "Massachusetts           173\n",
      "Ohio                    171\n",
      "New Jersey              161\n",
      "North Carolina          145\n",
      "Michigan                129\n",
      "Colorado                122\n",
      "Maryland                120\n",
      "Washington              104\n",
      "Arizona                 100\n",
      "Minnesota                93\n",
      "Utah                     85\n",
      "Tennessee                79\n",
      "Indiana                  71\n",
      "Wisconsin                70\n",
      "Missouri                 70\n",
      "Oregon                   61\n",
      "Alabama                  56\n",
      "South Carolina           54\n",
      "Connecticut              47\n",
      "District of Columbia     44\n",
      "Louisiana                40\n",
      "Kansas                   34\n",
      "Kentucky                 31\n",
      "Nevada                   31\n",
      "Oklahoma                 30\n",
      "Nebraska                 27\n",
      "Iowa                     27\n",
      "New Hampshire            22\n",
      "Delaware                 18\n",
      "Rhode Island             17\n",
      "Maine                    13\n",
      "Idaho                    11\n",
      "Mississippi              10\n",
      "Arkansas                  9\n",
      "North Dakota              6\n",
      "New Mexico                6\n",
      "Hawaii                    5\n",
      "Montana                   5\n",
      "West Virginia             3\n",
      "Vermont                   2\n",
      "South Dakota              1\n",
      "Alaska                    1\n",
      "Puerto Rico               1\n",
      "Name: state_l, dtype: int64\n",
      "\n",
      " state_s \n",
      "\n",
      "CA    692\n",
      "TX    402\n",
      "NY    335\n",
      "FL    298\n",
      "VA    276\n",
      "IL    232\n",
      "GA    209\n",
      "PA    188\n",
      "MA    173\n",
      "OH    171\n",
      "NJ    161\n",
      "NC    145\n",
      "MI    129\n",
      "CO    122\n",
      "MD    120\n",
      "WA    104\n",
      "AZ    100\n",
      "MN     93\n",
      "UT     85\n",
      "TN     79\n",
      "IN     71\n",
      "WI     70\n",
      "MO     70\n",
      "OR     61\n",
      "AL     56\n",
      "SC     54\n",
      "CT     47\n",
      "DC     44\n",
      "LA     40\n",
      "KS     34\n",
      "NV     31\n",
      "KY     31\n",
      "OK     30\n",
      "IA     27\n",
      "NE     27\n",
      "NH     22\n",
      "DE     18\n",
      "RI     17\n",
      "ME     13\n",
      "ID     11\n",
      "MS     10\n",
      "AR      9\n",
      "NM      6\n",
      "ND      6\n",
      "HI      5\n",
      "MT      5\n",
      "WV      3\n",
      "VT      2\n",
      "PR      1\n",
      "SD      1\n",
      "AK      1\n",
      "Name: state_s, dtype: int64\n",
      "\n",
      " city \n",
      "\n",
      "New York                178\n",
      "Atlanta                  94\n",
      "Chicago                  91\n",
      "Austin                   87\n",
      "San Diego                80\n",
      "Houston                  76\n",
      "San Francisco            63\n",
      "Dallas                   55\n",
      "Denver                   47\n",
      "Irvine                   47\n",
      "Washington               45\n",
      "Seattle                  43\n",
      "Los Angeles              43\n",
      "Boston                   41\n",
      "Portland                 40\n",
      "Charlotte                36\n",
      "Scottsdale               34\n",
      "Indianapolis             34\n",
      "Tampa                    33\n",
      "Columbia                 32\n",
      "Arlington                30\n",
      "Phoenix                  29\n",
      "Reston                   28\n",
      "Pittsburgh               27\n",
      "Minneapolis              27\n",
      "Columbus                 26\n",
      "Raleigh                  26\n",
      "Orlando                  26\n",
      "Miami                    26\n",
      "Salt Lake City           25\n",
      "                       ... \n",
      "Schiller Park             1\n",
      "Pittsford                 1\n",
      "San Anselmo               1\n",
      "Gardena                   1\n",
      "Coppell                   1\n",
      "Roselle                   1\n",
      "North Bergen              1\n",
      "New Hope                  1\n",
      "Mount Vernon              1\n",
      "Tinton Falls              1\n",
      "Menomonee Falls           1\n",
      "Cypress                   1\n",
      "Whitefish                 1\n",
      "McMinnville               1\n",
      "Rochelle Park             1\n",
      "Brea                      1\n",
      "North Richland Hills      1\n",
      "Lake Forest               1\n",
      "Hilliard                  1\n",
      "Mundelein                 1\n",
      "Lockbourne                1\n",
      "Toms River                1\n",
      "Broken Arrow              1\n",
      "Ooltewah                  1\n",
      "Manitowoc                 1\n",
      "Ellisville                1\n",
      "Bellaire                  1\n",
      "Waxhaw                    1\n",
      "Urbana                    1\n",
      "Stone Mountain            1\n",
      "Name: city, Length: 1324, dtype: int64\n",
      "\n",
      " metro \n",
      "\n",
      "New York City                       399\n",
      "Washington DC                       315\n",
      "Los Angeles                         274\n",
      "Chicago                             224\n",
      "Atlanta                             194\n",
      "Dallas                              169\n",
      "San Francisco                       164\n",
      "Boston                              164\n",
      "Philadelphia                        136\n",
      "Miami                               122\n",
      "San Diego                           113\n",
      "Houston                              99\n",
      "Austin                               95\n",
      "Phoenix                              93\n",
      "Seattle                              92\n",
      "Denver                               90\n",
      "Minneapolis                          85\n",
      "Detroit                              80\n",
      "Tampa                                66\n",
      "Baltimore                            57\n",
      "Portland OR                          57\n",
      "San Jose                             56\n",
      "Cleveland                            53\n",
      "Charlotte                            50\n",
      "Nashville                            49\n",
      "Orlando FL                           48\n",
      "Salt Lake City                       48\n",
      "Indianapolis IN                      44\n",
      "Columbus OH                          43\n",
      "Pittsburgh PA                        41\n",
      "                                   ... \n",
      "Missoula MT                           1\n",
      "West Point MS                         1\n",
      "Medford OR                            1\n",
      "Visalia-Porterville CA                1\n",
      "Concord NH                            1\n",
      "Holland-Grand Haven MI                1\n",
      "Spencer IA                            1\n",
      "Grand Forks ND-MN                     1\n",
      "Adrian MI                             1\n",
      "Lima OH                               1\n",
      "Jefferson City MO                     1\n",
      "Monroe LA                             1\n",
      "Houma-Bayou Cane-Thibodaux LA         1\n",
      "Columbia TN                           1\n",
      "Brainerd MN                           1\n",
      "Culpeper VA                           1\n",
      "Punta Gorda FL                        1\n",
      "Cullman AL                            1\n",
      "Terre Haute IN                        1\n",
      "Newberry SC                           1\n",
      "Warsaw IN                             1\n",
      "Bay City MI                           1\n",
      "Sandusky OH                           1\n",
      "Cornelia GA                           1\n",
      "Hastings NE                           1\n",
      "Findlay OH                            1\n",
      "Bainbridge GA                         1\n",
      "Chambersburg PA                       1\n",
      "Newport TN                            1\n",
      "Youngstown-Warren-Boardman OH-PA      1\n",
      "Name: metro, Length: 325, dtype: int64\n",
      "\n",
      " industry \n",
      "\n",
      "IT Services                     727\n",
      "Advertising & Marketing         453\n",
      "Business Products & Services    429\n",
      "Health                          368\n",
      "Software                        335\n",
      "Financial Services              275\n",
      "Consumer Products & Services    228\n",
      "Government Services             207\n",
      "Manufacturing                   206\n",
      "Retail                          199\n",
      "Construction                    195\n",
      "Human Resources                 195\n",
      "Telecommunications              133\n",
      "Real Estate                     130\n",
      "Logistics & Transportation      129\n",
      "Food & Beverage                 127\n",
      "Energy                          116\n",
      "Education                        76\n",
      "Security                         67\n",
      "Insurance                        66\n",
      "Engineering                      65\n",
      "Travel & Hospitality             61\n",
      "Media                            60\n",
      "Environmental Services           54\n",
      "Computer Hardware                34\n",
      "Name: industry, dtype: int64\n",
      "\n",
      " rank_code \n",
      "\n",
      "Other     4887\n",
      "Top 50      40\n",
      "Top 10      10\n",
      "Name: rank_code, dtype: int64\n",
      "\n",
      " company_size \n",
      "\n",
      "SME      4287\n",
      "Large     650\n",
      "Name: company_size, dtype: int64\n"
     ]
    }
   ],
   "source": [
    "for i in data.select_dtypes(include='object').columns:\n",
    "    print('\\n',i,'\\n')\n",
    "    print(data.select_dtypes(include='object')[i].value_counts())"
   ]
  },
  {
   "cell_type": "markdown",
   "metadata": {},
   "source": [
    "> IT Services has the highest number of companies. "
   ]
  },
  {
   "cell_type": "markdown",
   "metadata": {},
   "source": [
    "**Task 9.\tConstruct a bar chart that will illustrate number of companies by industry.**"
   ]
  },
  {
   "cell_type": "code",
   "execution_count": 81,
   "metadata": {},
   "outputs": [
    {
     "data": {
      "text/plain": [
       "Index(['IT Services', 'Advertising & Marketing',\n",
       "       'Business Products & Services', 'Health', 'Software',\n",
       "       'Financial Services', 'Consumer Products & Services',\n",
       "       'Government Services', 'Manufacturing', 'Retail', 'Construction',\n",
       "       'Human Resources', 'Telecommunications', 'Real Estate',\n",
       "       'Logistics & Transportation', 'Food & Beverage', 'Energy', 'Education',\n",
       "       'Security', 'Insurance', 'Engineering', 'Travel & Hospitality', 'Media',\n",
       "       'Environmental Services', 'Computer Hardware'],\n",
       "      dtype='object')"
      ]
     },
     "execution_count": 81,
     "metadata": {},
     "output_type": "execute_result"
    }
   ],
   "source": [
    "data.industry.value_counts().index"
   ]
  },
  {
   "cell_type": "code",
   "execution_count": 13,
   "metadata": {
    "scrolled": true
   },
   "outputs": [
    {
     "data": {
      "image/png": "[encoded data removed]",
      "text/plain": [
       "<Figure size 2880x576 with 1 Axes>"
      ]
     },
     "metadata": {
      "needs_background": "light"
     },
     "output_type": "display_data"
    }
   ],
   "source": [
    "plt.figure(figsize=(40,8))\n",
    "\n",
    "plt.bar(x=data.industry.value_counts().index,\n",
    "        height=data.industry.value_counts()\n",
    "       )\n",
    "\n",
    "plt.show()"
   ]
  },
  {
   "cell_type": "markdown",
   "metadata": {},
   "source": [
    "# ONE-WAY ANOVA Test"
   ]
  },
  {
   "cell_type": "markdown",
   "metadata": {},
   "source": [
    "**From One-Way ANOVA Scipy Documentation: The one-way ANOVA tests the null hypothesis that two or more groups have the same population mean. The test is applied to samples from two or more groups, possibly with differing sizes.**\n",
    "\n",
    "<br>"
   ]
  },
  {
   "cell_type": "markdown",
   "metadata": {},
   "source": [
    "**Task 10.\tWrite a for loop that will return One-Way ANOVA results between revenue and the following object variables: rank_code and state.**"
   ]
  },
  {
   "cell_type": "markdown",
   "metadata": {},
   "source": [
    "> First, let's run  One-Way ANOVA only between rank_code and revenue. Then you can use for loop to run the test for multiple object-type variable."
   ]
  },
  {
   "cell_type": "code",
   "execution_count": 86,
   "metadata": {},
   "outputs": [
    {
     "data": {
      "text/plain": [
       "array(['Other', 'Top 50', 'Top 10'], dtype=object)"
      ]
     },
     "execution_count": 86,
     "metadata": {},
     "output_type": "execute_result"
    }
   ],
   "source": [
    "data.rank_code.unique()"
   ]
  },
  {
   "cell_type": "markdown",
   "metadata": {},
   "source": [
    "**Before running  One-Way ANOVA test, you should check the equality of variances assumption of the test by usinge Levene's test.**\n",
    "\n",
    "<br>\n",
    "\n",
    "**Below, Levene's test results show that p is more than 0.05, therefore there is NO stat significant difference between variances of revenue by the categories of rank_code.**"
   ]
  },
  {
   "cell_type": "code",
   "execution_count": 88,
   "metadata": {},
   "outputs": [
    {
     "data": {
      "text/plain": [
       "LeveneResult(statistic=0.47073306808485343, pvalue=0.6245723127709458)"
      ]
     },
     "execution_count": 88,
     "metadata": {},
     "output_type": "execute_result"
    }
   ],
   "source": [
    "levene(\n",
    "data['revenue'][data['rank_code']=='Top 10'],\n",
    "data['revenue'][data['rank_code']=='Top 50'],\n",
    "data['revenue'][data['rank_code']=='Other']\n",
    ")"
   ]
  },
  {
   "cell_type": "code",
   "execution_count": 89,
   "metadata": {},
   "outputs": [
    {
     "data": {
      "text/plain": [
       "F_onewayResult(statistic=0.6195399225721082, pvalue=0.5382338527154813)"
      ]
     },
     "execution_count": 89,
     "metadata": {},
     "output_type": "execute_result"
    }
   ],
   "source": [
    "f_oneway(data['revenue'][data['rank_code']=='Top 10'],\n",
    "data['revenue'][data['rank_code']=='Top 50'],\n",
    "data['revenue'][data['rank_code']=='Other']\n",
    "        )"
   ]
  },
  {
   "cell_type": "markdown",
   "metadata": {},
   "source": [
    "> **The results above indicate that average revenue is stat significantly different between  the categories of rank_code.**"
   ]
  },
  {
   "cell_type": "markdown",
   "metadata": {},
   "source": [
    "# Data from Yahoo Finance\n",
    "\n",
    "### From pandas_datareader.data use DataReader() function.\n",
    "\n",
    "There’re some limitations by making the call to Yahoo Finance API:\n",
    "\n",
    "- Using the Public API, you are limited to 2,000 requests per hour per IP (or up to a total of 48,000 requests a day).\n",
    "- When importing many tickers, use time.sleep(1) (python time module) function to avoid your IP getting blocked\n",
    "\n",
    "Use ?data.DataReader to see more about <code>DataReader()</code> function."
   ]
  },
  {
   "cell_type": "code",
   "execution_count": 94,
   "metadata": {},
   "outputs": [
    {
     "data": {
      "text/html": [
       "<div>\n",
       "<style scoped>\n",
       "    .dataframe tbody tr th:only-of-type {\n",
       "        vertical-align: middle;\n",
       "    }\n",
       "\n",
       "    .dataframe tbody tr th {\n",
       "        vertical-align: top;\n",
       "    }\n",
       "\n",
       "    .dataframe thead th {\n",
       "        text-align: right;\n",
       "    }\n",
       "</style>\n",
       "<table border=\"1\" class=\"dataframe\">\n",
       "  <thead>\n",
       "    <tr style=\"text-align: right;\">\n",
       "      <th></th>\n",
       "      <th>High</th>\n",
       "      <th>Low</th>\n",
       "      <th>Open</th>\n",
       "      <th>Close</th>\n",
       "      <th>Volume</th>\n",
       "      <th>Adj Close</th>\n",
       "    </tr>\n",
       "    <tr>\n",
       "      <th>Date</th>\n",
       "      <th></th>\n",
       "      <th></th>\n",
       "      <th></th>\n",
       "      <th></th>\n",
       "      <th></th>\n",
       "      <th></th>\n",
       "    </tr>\n",
       "  </thead>\n",
       "  <tbody>\n",
       "    <tr>\n",
       "      <th>2022-01-03</th>\n",
       "      <td>157.559998</td>\n",
       "      <td>155.360001</td>\n",
       "      <td>155.830002</td>\n",
       "      <td>156.759995</td>\n",
       "      <td>10222800</td>\n",
       "      <td>156.759995</td>\n",
       "    </tr>\n",
       "    <tr>\n",
       "      <th>2022-01-04</th>\n",
       "      <td>160.320007</td>\n",
       "      <td>155.550003</td>\n",
       "      <td>158.589996</td>\n",
       "      <td>155.729996</td>\n",
       "      <td>16582000</td>\n",
       "      <td>155.729996</td>\n",
       "    </tr>\n",
       "    <tr>\n",
       "      <th>2022-01-05</th>\n",
       "      <td>159.380005</td>\n",
       "      <td>155.100006</td>\n",
       "      <td>156.520004</td>\n",
       "      <td>155.190002</td>\n",
       "      <td>12272100</td>\n",
       "      <td>155.190002</td>\n",
       "    </tr>\n",
       "    <tr>\n",
       "      <th>2022-01-06</th>\n",
       "      <td>157.770004</td>\n",
       "      <td>153.679993</td>\n",
       "      <td>156.240005</td>\n",
       "      <td>156.899994</td>\n",
       "      <td>11095300</td>\n",
       "      <td>156.899994</td>\n",
       "    </tr>\n",
       "    <tr>\n",
       "      <th>2022-01-07</th>\n",
       "      <td>159.300003</td>\n",
       "      <td>156.289993</td>\n",
       "      <td>156.899994</td>\n",
       "      <td>157.830002</td>\n",
       "      <td>9554600</td>\n",
       "      <td>157.830002</td>\n",
       "    </tr>\n",
       "  </tbody>\n",
       "</table>\n",
       "</div>"
      ],
      "text/plain": [
       "                  High         Low        Open       Close    Volume  \\\n",
       "Date                                                                   \n",
       "2022-01-03  157.559998  155.360001  155.830002  156.759995  10222800   \n",
       "2022-01-04  160.320007  155.550003  158.589996  155.729996  16582000   \n",
       "2022-01-05  159.380005  155.100006  156.520004  155.190002  12272100   \n",
       "2022-01-06  157.770004  153.679993  156.240005  156.899994  11095300   \n",
       "2022-01-07  159.300003  156.289993  156.899994  157.830002   9554600   \n",
       "\n",
       "             Adj Close  \n",
       "Date                    \n",
       "2022-01-03  156.759995  \n",
       "2022-01-04  155.729996  \n",
       "2022-01-05  155.190002  \n",
       "2022-01-06  156.899994  \n",
       "2022-01-07  157.830002  "
      ]
     },
     "execution_count": 94,
     "metadata": {},
     "output_type": "execute_result"
    }
   ],
   "source": [
    "dis_df=data.DataReader(name='DIS', #name of stock that we want to import\n",
    "                data_source='yahoo', #source/website from where the data will be imported\n",
    "                start='2022-01-01' #time period, you can also use \"end=\" to spesift the end of the period\n",
    "                      )\n",
    "dis_df.head()"
   ]
  },
  {
   "cell_type": "code",
   "execution_count": 97,
   "metadata": {},
   "outputs": [
    {
     "data": {
      "image/png": "[encoded data removed]",
      "text/plain": [
       "<Figure size 432x288 with 1 Axes>"
      ]
     },
     "metadata": {
      "needs_background": "light"
     },
     "output_type": "display_data"
    }
   ],
   "source": [
    "sns.lineplot(x=dis_df.index, y=dis_df.High) #plotting time series data by using lineplot\n",
    "\n",
    "plt.show()"
   ]
  },
  {
   "cell_type": "code",
   "execution_count": 99,
   "metadata": {},
   "outputs": [],
   "source": [
    "#importing data for multiple stocks\n",
    "stocks=data.DataReader(name=['DIS','AAPL','MSFT'],\n",
    "                data_source='yahoo',\n",
    "                start='2022-01-01',\n",
    "                pause=0.1                      \n",
    "                      )"
   ]
  },
  {
   "cell_type": "code",
   "execution_count": 100,
   "metadata": {},
   "outputs": [
    {
     "data": {
      "text/html": [
       "<div>\n",
       "<style scoped>\n",
       "    .dataframe tbody tr th:only-of-type {\n",
       "        vertical-align: middle;\n",
       "    }\n",
       "\n",
       "    .dataframe tbody tr th {\n",
       "        vertical-align: top;\n",
       "    }\n",
       "\n",
       "    .dataframe thead tr th {\n",
       "        text-align: left;\n",
       "    }\n",
       "\n",
       "    .dataframe thead tr:last-of-type th {\n",
       "        text-align: right;\n",
       "    }\n",
       "</style>\n",
       "<table border=\"1\" class=\"dataframe\">\n",
       "  <thead>\n",
       "    <tr>\n",
       "      <th>Attributes</th>\n",
       "      <th colspan=\"3\" halign=\"left\">Adj Close</th>\n",
       "      <th colspan=\"3\" halign=\"left\">Close</th>\n",
       "      <th colspan=\"3\" halign=\"left\">High</th>\n",
       "      <th colspan=\"3\" halign=\"left\">Low</th>\n",
       "      <th colspan=\"3\" halign=\"left\">Open</th>\n",
       "      <th colspan=\"3\" halign=\"left\">Volume</th>\n",
       "    </tr>\n",
       "    <tr>\n",
       "      <th>Symbols</th>\n",
       "      <th>AAPL</th>\n",
       "      <th>DIS</th>\n",
       "      <th>MSFT</th>\n",
       "      <th>AAPL</th>\n",
       "      <th>DIS</th>\n",
       "      <th>MSFT</th>\n",
       "      <th>AAPL</th>\n",
       "      <th>DIS</th>\n",
       "      <th>MSFT</th>\n",
       "      <th>AAPL</th>\n",
       "      <th>DIS</th>\n",
       "      <th>MSFT</th>\n",
       "      <th>AAPL</th>\n",
       "      <th>DIS</th>\n",
       "      <th>MSFT</th>\n",
       "      <th>AAPL</th>\n",
       "      <th>DIS</th>\n",
       "      <th>MSFT</th>\n",
       "    </tr>\n",
       "    <tr>\n",
       "      <th>Date</th>\n",
       "      <th></th>\n",
       "      <th></th>\n",
       "      <th></th>\n",
       "      <th></th>\n",
       "      <th></th>\n",
       "      <th></th>\n",
       "      <th></th>\n",
       "      <th></th>\n",
       "      <th></th>\n",
       "      <th></th>\n",
       "      <th></th>\n",
       "      <th></th>\n",
       "      <th></th>\n",
       "      <th></th>\n",
       "      <th></th>\n",
       "      <th></th>\n",
       "      <th></th>\n",
       "      <th></th>\n",
       "    </tr>\n",
       "  </thead>\n",
       "  <tbody>\n",
       "    <tr>\n",
       "      <th>2022-01-03</th>\n",
       "      <td>181.511703</td>\n",
       "      <td>156.759995</td>\n",
       "      <td>333.283020</td>\n",
       "      <td>182.009995</td>\n",
       "      <td>156.759995</td>\n",
       "      <td>334.750000</td>\n",
       "      <td>182.880005</td>\n",
       "      <td>157.559998</td>\n",
       "      <td>338.000000</td>\n",
       "      <td>177.710007</td>\n",
       "      <td>155.360001</td>\n",
       "      <td>329.779999</td>\n",
       "      <td>177.830002</td>\n",
       "      <td>155.830002</td>\n",
       "      <td>335.350006</td>\n",
       "      <td>104487900.0</td>\n",
       "      <td>10222800.0</td>\n",
       "      <td>28865100.0</td>\n",
       "    </tr>\n",
       "    <tr>\n",
       "      <th>2022-01-04</th>\n",
       "      <td>179.208038</td>\n",
       "      <td>155.729996</td>\n",
       "      <td>327.568176</td>\n",
       "      <td>179.699997</td>\n",
       "      <td>155.729996</td>\n",
       "      <td>329.010010</td>\n",
       "      <td>182.940002</td>\n",
       "      <td>160.320007</td>\n",
       "      <td>335.200012</td>\n",
       "      <td>179.119995</td>\n",
       "      <td>155.550003</td>\n",
       "      <td>326.119995</td>\n",
       "      <td>182.630005</td>\n",
       "      <td>158.589996</td>\n",
       "      <td>334.829987</td>\n",
       "      <td>99310400.0</td>\n",
       "      <td>16582000.0</td>\n",
       "      <td>32674300.0</td>\n",
       "    </tr>\n",
       "    <tr>\n",
       "      <th>2022-01-05</th>\n",
       "      <td>174.441116</td>\n",
       "      <td>155.190002</td>\n",
       "      <td>314.993530</td>\n",
       "      <td>174.919998</td>\n",
       "      <td>155.190002</td>\n",
       "      <td>316.380005</td>\n",
       "      <td>180.169998</td>\n",
       "      <td>159.380005</td>\n",
       "      <td>326.070007</td>\n",
       "      <td>174.639999</td>\n",
       "      <td>155.100006</td>\n",
       "      <td>315.980011</td>\n",
       "      <td>179.610001</td>\n",
       "      <td>156.520004</td>\n",
       "      <td>325.859985</td>\n",
       "      <td>94537600.0</td>\n",
       "      <td>12272100.0</td>\n",
       "      <td>40054300.0</td>\n",
       "    </tr>\n",
       "    <tr>\n",
       "      <th>2022-01-06</th>\n",
       "      <td>171.529129</td>\n",
       "      <td>156.899994</td>\n",
       "      <td>312.504486</td>\n",
       "      <td>172.000000</td>\n",
       "      <td>156.899994</td>\n",
       "      <td>313.880005</td>\n",
       "      <td>175.300003</td>\n",
       "      <td>157.770004</td>\n",
       "      <td>318.700012</td>\n",
       "      <td>171.639999</td>\n",
       "      <td>153.679993</td>\n",
       "      <td>311.489990</td>\n",
       "      <td>172.699997</td>\n",
       "      <td>156.240005</td>\n",
       "      <td>313.149994</td>\n",
       "      <td>96904000.0</td>\n",
       "      <td>11095300.0</td>\n",
       "      <td>39646100.0</td>\n",
       "    </tr>\n",
       "    <tr>\n",
       "      <th>2022-01-07</th>\n",
       "      <td>171.698654</td>\n",
       "      <td>157.830002</td>\n",
       "      <td>312.663788</td>\n",
       "      <td>172.169998</td>\n",
       "      <td>157.830002</td>\n",
       "      <td>314.040009</td>\n",
       "      <td>174.139999</td>\n",
       "      <td>159.300003</td>\n",
       "      <td>316.500000</td>\n",
       "      <td>171.029999</td>\n",
       "      <td>156.289993</td>\n",
       "      <td>310.089996</td>\n",
       "      <td>172.889999</td>\n",
       "      <td>156.899994</td>\n",
       "      <td>314.149994</td>\n",
       "      <td>86709100.0</td>\n",
       "      <td>9554600.0</td>\n",
       "      <td>32720000.0</td>\n",
       "    </tr>\n",
       "  </tbody>\n",
       "</table>\n",
       "</div>"
      ],
      "text/plain": [
       "Attributes   Adj Close                               Close              \\\n",
       "Symbols           AAPL         DIS        MSFT        AAPL         DIS   \n",
       "Date                                                                     \n",
       "2022-01-03  181.511703  156.759995  333.283020  182.009995  156.759995   \n",
       "2022-01-04  179.208038  155.729996  327.568176  179.699997  155.729996   \n",
       "2022-01-05  174.441116  155.190002  314.993530  174.919998  155.190002   \n",
       "2022-01-06  171.529129  156.899994  312.504486  172.000000  156.899994   \n",
       "2022-01-07  171.698654  157.830002  312.663788  172.169998  157.830002   \n",
       "\n",
       "Attributes                    High                                 Low  \\\n",
       "Symbols           MSFT        AAPL         DIS        MSFT        AAPL   \n",
       "Date                                                                     \n",
       "2022-01-03  334.750000  182.880005  157.559998  338.000000  177.710007   \n",
       "2022-01-04  329.010010  182.940002  160.320007  335.200012  179.119995   \n",
       "2022-01-05  316.380005  180.169998  159.380005  326.070007  174.639999   \n",
       "2022-01-06  313.880005  175.300003  157.770004  318.700012  171.639999   \n",
       "2022-01-07  314.040009  174.139999  159.300003  316.500000  171.029999   \n",
       "\n",
       "Attributes                                Open                          \\\n",
       "Symbols            DIS        MSFT        AAPL         DIS        MSFT   \n",
       "Date                                                                     \n",
       "2022-01-03  155.360001  329.779999  177.830002  155.830002  335.350006   \n",
       "2022-01-04  155.550003  326.119995  182.630005  158.589996  334.829987   \n",
       "2022-01-05  155.100006  315.980011  179.610001  156.520004  325.859985   \n",
       "2022-01-06  153.679993  311.489990  172.699997  156.240005  313.149994   \n",
       "2022-01-07  156.289993  310.089996  172.889999  156.899994  314.149994   \n",
       "\n",
       "Attributes       Volume                          \n",
       "Symbols            AAPL         DIS        MSFT  \n",
       "Date                                             \n",
       "2022-01-03  104487900.0  10222800.0  28865100.0  \n",
       "2022-01-04   99310400.0  16582000.0  32674300.0  \n",
       "2022-01-05   94537600.0  12272100.0  40054300.0  \n",
       "2022-01-06   96904000.0  11095300.0  39646100.0  \n",
       "2022-01-07   86709100.0   9554600.0  32720000.0  "
      ]
     },
     "execution_count": 100,
     "metadata": {},
     "output_type": "execute_result"
    }
   ],
   "source": [
    "stocks.head()"
   ]
  },
  {
   "cell_type": "code",
   "execution_count": 103,
   "metadata": {},
   "outputs": [
    {
     "data": {
      "text/plain": [
       "Index([('Adj Close', 'AAPL'),  ('Adj Close', 'DIS'), ('Adj Close', 'MSFT'),\n",
       "           ('Close', 'AAPL'),      ('Close', 'DIS'),     ('Close', 'MSFT'),\n",
       "            ('High', 'AAPL'),       ('High', 'DIS'),      ('High', 'MSFT'),\n",
       "             ('Low', 'AAPL'),        ('Low', 'DIS'),       ('Low', 'MSFT'),\n",
       "            ('Open', 'AAPL'),       ('Open', 'DIS'),      ('Open', 'MSFT'),\n",
       "          ('Volume', 'AAPL'),     ('Volume', 'DIS'),    ('Volume', 'MSFT')],\n",
       "      dtype='object')"
      ]
     },
     "execution_count": 103,
     "metadata": {},
     "output_type": "execute_result"
    }
   ],
   "source": [
    "#to_flat_index() function converts multilevel column headings into one-level\n",
    "stocks.columns.to_flat_index()"
   ]
  },
  {
   "cell_type": "code",
   "execution_count": 105,
   "metadata": {},
   "outputs": [],
   "source": [
    "#creating a list of new headings that instead of 2 levels has only 1 level\n",
    "stocks.columns=['_'.join(i) for i in stocks.columns.to_flat_index()]"
   ]
  },
  {
   "cell_type": "code",
   "execution_count": 106,
   "metadata": {},
   "outputs": [
    {
     "data": {
      "text/html": [
       "<div>\n",
       "<style scoped>\n",
       "    .dataframe tbody tr th:only-of-type {\n",
       "        vertical-align: middle;\n",
       "    }\n",
       "\n",
       "    .dataframe tbody tr th {\n",
       "        vertical-align: top;\n",
       "    }\n",
       "\n",
       "    .dataframe thead th {\n",
       "        text-align: right;\n",
       "    }\n",
       "</style>\n",
       "<table border=\"1\" class=\"dataframe\">\n",
       "  <thead>\n",
       "    <tr style=\"text-align: right;\">\n",
       "      <th></th>\n",
       "      <th>Adj Close_AAPL</th>\n",
       "      <th>Adj Close_DIS</th>\n",
       "      <th>Adj Close_MSFT</th>\n",
       "      <th>Close_AAPL</th>\n",
       "      <th>Close_DIS</th>\n",
       "      <th>Close_MSFT</th>\n",
       "      <th>High_AAPL</th>\n",
       "      <th>High_DIS</th>\n",
       "      <th>High_MSFT</th>\n",
       "      <th>Low_AAPL</th>\n",
       "      <th>Low_DIS</th>\n",
       "      <th>Low_MSFT</th>\n",
       "      <th>Open_AAPL</th>\n",
       "      <th>Open_DIS</th>\n",
       "      <th>Open_MSFT</th>\n",
       "      <th>Volume_AAPL</th>\n",
       "      <th>Volume_DIS</th>\n",
       "      <th>Volume_MSFT</th>\n",
       "    </tr>\n",
       "    <tr>\n",
       "      <th>Date</th>\n",
       "      <th></th>\n",
       "      <th></th>\n",
       "      <th></th>\n",
       "      <th></th>\n",
       "      <th></th>\n",
       "      <th></th>\n",
       "      <th></th>\n",
       "      <th></th>\n",
       "      <th></th>\n",
       "      <th></th>\n",
       "      <th></th>\n",
       "      <th></th>\n",
       "      <th></th>\n",
       "      <th></th>\n",
       "      <th></th>\n",
       "      <th></th>\n",
       "      <th></th>\n",
       "      <th></th>\n",
       "    </tr>\n",
       "  </thead>\n",
       "  <tbody>\n",
       "    <tr>\n",
       "      <th>2022-01-03</th>\n",
       "      <td>181.511703</td>\n",
       "      <td>156.759995</td>\n",
       "      <td>333.283020</td>\n",
       "      <td>182.009995</td>\n",
       "      <td>156.759995</td>\n",
       "      <td>334.750000</td>\n",
       "      <td>182.880005</td>\n",
       "      <td>157.559998</td>\n",
       "      <td>338.000000</td>\n",
       "      <td>177.710007</td>\n",
       "      <td>155.360001</td>\n",
       "      <td>329.779999</td>\n",
       "      <td>177.830002</td>\n",
       "      <td>155.830002</td>\n",
       "      <td>335.350006</td>\n",
       "      <td>104487900.0</td>\n",
       "      <td>10222800.0</td>\n",
       "      <td>28865100.0</td>\n",
       "    </tr>\n",
       "    <tr>\n",
       "      <th>2022-01-04</th>\n",
       "      <td>179.208038</td>\n",
       "      <td>155.729996</td>\n",
       "      <td>327.568176</td>\n",
       "      <td>179.699997</td>\n",
       "      <td>155.729996</td>\n",
       "      <td>329.010010</td>\n",
       "      <td>182.940002</td>\n",
       "      <td>160.320007</td>\n",
       "      <td>335.200012</td>\n",
       "      <td>179.119995</td>\n",
       "      <td>155.550003</td>\n",
       "      <td>326.119995</td>\n",
       "      <td>182.630005</td>\n",
       "      <td>158.589996</td>\n",
       "      <td>334.829987</td>\n",
       "      <td>99310400.0</td>\n",
       "      <td>16582000.0</td>\n",
       "      <td>32674300.0</td>\n",
       "    </tr>\n",
       "    <tr>\n",
       "      <th>2022-01-05</th>\n",
       "      <td>174.441116</td>\n",
       "      <td>155.190002</td>\n",
       "      <td>314.993530</td>\n",
       "      <td>174.919998</td>\n",
       "      <td>155.190002</td>\n",
       "      <td>316.380005</td>\n",
       "      <td>180.169998</td>\n",
       "      <td>159.380005</td>\n",
       "      <td>326.070007</td>\n",
       "      <td>174.639999</td>\n",
       "      <td>155.100006</td>\n",
       "      <td>315.980011</td>\n",
       "      <td>179.610001</td>\n",
       "      <td>156.520004</td>\n",
       "      <td>325.859985</td>\n",
       "      <td>94537600.0</td>\n",
       "      <td>12272100.0</td>\n",
       "      <td>40054300.0</td>\n",
       "    </tr>\n",
       "    <tr>\n",
       "      <th>2022-01-06</th>\n",
       "      <td>171.529129</td>\n",
       "      <td>156.899994</td>\n",
       "      <td>312.504486</td>\n",
       "      <td>172.000000</td>\n",
       "      <td>156.899994</td>\n",
       "      <td>313.880005</td>\n",
       "      <td>175.300003</td>\n",
       "      <td>157.770004</td>\n",
       "      <td>318.700012</td>\n",
       "      <td>171.639999</td>\n",
       "      <td>153.679993</td>\n",
       "      <td>311.489990</td>\n",
       "      <td>172.699997</td>\n",
       "      <td>156.240005</td>\n",
       "      <td>313.149994</td>\n",
       "      <td>96904000.0</td>\n",
       "      <td>11095300.0</td>\n",
       "      <td>39646100.0</td>\n",
       "    </tr>\n",
       "    <tr>\n",
       "      <th>2022-01-07</th>\n",
       "      <td>171.698654</td>\n",
       "      <td>157.830002</td>\n",
       "      <td>312.663788</td>\n",
       "      <td>172.169998</td>\n",
       "      <td>157.830002</td>\n",
       "      <td>314.040009</td>\n",
       "      <td>174.139999</td>\n",
       "      <td>159.300003</td>\n",
       "      <td>316.500000</td>\n",
       "      <td>171.029999</td>\n",
       "      <td>156.289993</td>\n",
       "      <td>310.089996</td>\n",
       "      <td>172.889999</td>\n",
       "      <td>156.899994</td>\n",
       "      <td>314.149994</td>\n",
       "      <td>86709100.0</td>\n",
       "      <td>9554600.0</td>\n",
       "      <td>32720000.0</td>\n",
       "    </tr>\n",
       "  </tbody>\n",
       "</table>\n",
       "</div>"
      ],
      "text/plain": [
       "            Adj Close_AAPL  Adj Close_DIS  Adj Close_MSFT  Close_AAPL  \\\n",
       "Date                                                                    \n",
       "2022-01-03      181.511703     156.759995      333.283020  182.009995   \n",
       "2022-01-04      179.208038     155.729996      327.568176  179.699997   \n",
       "2022-01-05      174.441116     155.190002      314.993530  174.919998   \n",
       "2022-01-06      171.529129     156.899994      312.504486  172.000000   \n",
       "2022-01-07      171.698654     157.830002      312.663788  172.169998   \n",
       "\n",
       "             Close_DIS  Close_MSFT   High_AAPL    High_DIS   High_MSFT  \\\n",
       "Date                                                                     \n",
       "2022-01-03  156.759995  334.750000  182.880005  157.559998  338.000000   \n",
       "2022-01-04  155.729996  329.010010  182.940002  160.320007  335.200012   \n",
       "2022-01-05  155.190002  316.380005  180.169998  159.380005  326.070007   \n",
       "2022-01-06  156.899994  313.880005  175.300003  157.770004  318.700012   \n",
       "2022-01-07  157.830002  314.040009  174.139999  159.300003  316.500000   \n",
       "\n",
       "              Low_AAPL     Low_DIS    Low_MSFT   Open_AAPL    Open_DIS  \\\n",
       "Date                                                                     \n",
       "2022-01-03  177.710007  155.360001  329.779999  177.830002  155.830002   \n",
       "2022-01-04  179.119995  155.550003  326.119995  182.630005  158.589996   \n",
       "2022-01-05  174.639999  155.100006  315.980011  179.610001  156.520004   \n",
       "2022-01-06  171.639999  153.679993  311.489990  172.699997  156.240005   \n",
       "2022-01-07  171.029999  156.289993  310.089996  172.889999  156.899994   \n",
       "\n",
       "             Open_MSFT  Volume_AAPL  Volume_DIS  Volume_MSFT  \n",
       "Date                                                          \n",
       "2022-01-03  335.350006  104487900.0  10222800.0   28865100.0  \n",
       "2022-01-04  334.829987   99310400.0  16582000.0   32674300.0  \n",
       "2022-01-05  325.859985   94537600.0  12272100.0   40054300.0  \n",
       "2022-01-06  313.149994   96904000.0  11095300.0   39646100.0  \n",
       "2022-01-07  314.149994   86709100.0   9554600.0   32720000.0  "
      ]
     },
     "execution_count": 106,
     "metadata": {},
     "output_type": "execute_result"
    }
   ],
   "source": [
    "stocks.head()"
   ]
  },
  {
   "cell_type": "code",
   "execution_count": 108,
   "metadata": {},
   "outputs": [
    {
     "data": {
      "image/png": "[encoded data removed]",
      "text/plain": [
       "<Figure size 432x288 with 1 Axes>"
      ]
     },
     "metadata": {
      "needs_background": "light"
     },
     "output_type": "display_data"
    }
   ],
   "source": [
    "#visualizing multiple measures on one chart\n",
    "\n",
    "sns.lineplot(data=stocks[['Close_AAPL','Close_DIS','Close_MSFT']])\n",
    "\n",
    "plt.show()"
   ]
  }
 ],
 "metadata": {
  "kernelspec": {
   "display_name": "Python 3 (ipykernel)",
   "language": "python",
   "name": "python3"
  },
  "language_info": {
   "codemirror_mode": {
    "name": "ipython",
    "version": 3
   },
   "file_extension": ".py",
   "mimetype": "text/x-python",
   "name": "python",
   "nbconvert_exporter": "python",
   "pygments_lexer": "ipython3",
   "version": "3.9.7"
  }
 },
 "nbformat": 4,
 "nbformat_minor": 2
}
