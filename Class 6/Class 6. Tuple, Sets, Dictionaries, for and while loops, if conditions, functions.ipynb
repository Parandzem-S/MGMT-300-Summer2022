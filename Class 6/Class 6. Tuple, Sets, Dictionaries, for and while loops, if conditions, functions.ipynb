{
 "cells": [
  {
   "cell_type": "markdown",
   "metadata": {},
   "source": [
    "# Revision of Class 5"
   ]
  },
  {
   "cell_type": "markdown",
   "metadata": {},
   "source": [
    "- Python as a simple calculator\n",
    "- Operators: \n",
    "        - arithmetic: +,-,/, etc\n",
    "        - comparison: >=, and, or, etc\n",
    "    \n",
    "- creating variables\n",
    " e.g. <code>name='Anna'</code>\n",
    "\n",
    "- variable types: integer, float, string, lists\n",
    "            X=10 - int\n",
    "            Y=10.3 - float\n",
    "            name='Anna' str\n",
    "            Z=[1,2,3,'a','b','c'] - list\n",
    "\n",
    "- checking variable types by using type() function\n",
    "- variable type conversion <code>str() float() int()</code>\n",
    " - including variable names into strings by using <code>.format()</code> or f-strings <code>f\"\"</code> method\n",
    "\n"
   ]
  },
  {
   "cell_type": "markdown",
   "metadata": {},
   "source": [
    "# Class 6: Tuple, Sets, Dictionaries, for and while loops, if conditions, functions"
   ]
  },
  {
   "cell_type": "markdown",
   "metadata": {},
   "source": [
    "# Tuples\n",
    "\n",
    "A tuple is a finite sequence of items which is **ordered and unchangeable**. Allows **duplicate** members. They are often used to store **related pieces of information**."
   ]
  },
  {
   "cell_type": "code",
   "execution_count": 1,
   "metadata": {},
   "outputs": [],
   "source": [
    "#creating a tuple\n",
    "first_tuple=('car',4,6.0)"
   ]
  },
  {
   "cell_type": "code",
   "execution_count": 2,
   "metadata": {},
   "outputs": [
    {
     "data": {
      "text/plain": [
       "tuple"
      ]
     },
     "execution_count": 2,
     "metadata": {},
     "output_type": "execute_result"
    }
   ],
   "source": [
    "type(first_tuple)"
   ]
  },
  {
   "cell_type": "code",
   "execution_count": 3,
   "metadata": {},
   "outputs": [
    {
     "data": {
      "text/plain": [
       "tuple"
      ]
     },
     "execution_count": 3,
     "metadata": {},
     "output_type": "execute_result"
    }
   ],
   "source": [
    "t2='car',4,1\n",
    "type(t2)"
   ]
  },
  {
   "cell_type": "markdown",
   "metadata": {},
   "source": [
    "> **the code below shows that tuples can be used to unpack values into two different variables**"
   ]
  },
  {
   "cell_type": "code",
   "execution_count": 4,
   "metadata": {},
   "outputs": [
    {
     "name": "stdout",
     "output_type": "stream",
     "text": [
      "10\n",
      "2\n"
     ]
    }
   ],
   "source": [
    "dimension=(10,2)\n",
    "height, length=dimension\n",
    "\n",
    "print(height)\n",
    "print(length)"
   ]
  },
  {
   "cell_type": "code",
   "execution_count": 5,
   "metadata": {},
   "outputs": [],
   "source": [
    "h,l=(10,2)"
   ]
  },
  {
   "cell_type": "code",
   "execution_count": 6,
   "metadata": {},
   "outputs": [
    {
     "data": {
      "text/plain": [
       "(10, 2)"
      ]
     },
     "execution_count": 6,
     "metadata": {},
     "output_type": "execute_result"
    }
   ],
   "source": [
    "h,l"
   ]
  },
  {
   "cell_type": "code",
   "execution_count": 7,
   "metadata": {},
   "outputs": [],
   "source": [
    "first_tuple=('car',4,6.0)"
   ]
  },
  {
   "cell_type": "markdown",
   "metadata": {},
   "source": [
    "> **the code below gives an error because tuples are unchangeable unlike lists**\n"
   ]
  },
  {
   "cell_type": "code",
   "execution_count": 8,
   "metadata": {},
   "outputs": [
    {
     "ename": "TypeError",
     "evalue": "'tuple' object does not support item assignment",
     "output_type": "error",
     "traceback": [
      "\u001b[1;31m---------------------------------------------------------------------------\u001b[0m",
      "\u001b[1;31mTypeError\u001b[0m                                 Traceback (most recent call last)",
      "\u001b[1;32mC:\\Users\\PSARGS~1\\AppData\\Local\\Temp/ipykernel_22396/525437982.py\u001b[0m in \u001b[0;36m<module>\u001b[1;34m\u001b[0m\n\u001b[1;32m----> 1\u001b[1;33m \u001b[0mfirst_tuple\u001b[0m\u001b[1;33m[\u001b[0m\u001b[1;36m0\u001b[0m\u001b[1;33m]\u001b[0m\u001b[1;33m=\u001b[0m\u001b[1;36m15\u001b[0m\u001b[1;33m\u001b[0m\u001b[1;33m\u001b[0m\u001b[0m\n\u001b[0m",
      "\u001b[1;31mTypeError\u001b[0m: 'tuple' object does not support item assignment"
     ]
    }
   ],
   "source": [
    "first_tuple[0]=15"
   ]
  },
  {
   "cell_type": "code",
   "execution_count": 9,
   "metadata": {},
   "outputs": [
    {
     "data": {
      "text/plain": [
       "1"
      ]
     },
     "execution_count": 9,
     "metadata": {},
     "output_type": "execute_result"
    }
   ],
   "source": [
    "#checkin how many times the 4 is repeated in a tuple\n",
    "first_tuple.count(4)"
   ]
  },
  {
   "cell_type": "markdown",
   "metadata": {},
   "source": [
    "> **example below shows that you can change values of list unlike tuples**"
   ]
  },
  {
   "cell_type": "code",
   "execution_count": 10,
   "metadata": {},
   "outputs": [
    {
     "name": "stdout",
     "output_type": "stream",
     "text": [
      "[15, 3]\n"
     ]
    }
   ],
   "source": [
    "list_2=[1,3]\n",
    "list_2[0]=15 \n",
    "print(list_2)"
   ]
  },
  {
   "cell_type": "markdown",
   "metadata": {},
   "source": [
    "# Dictionaries\n",
    "\n",
    "A dictionary is a finite sequence of items that stores pairs of elements. It is **unordered, changeable and indexed**. **No duplicate** members are allowed.\n",
    "\n",
    "> **In Python dictionaries are written with {}, and they have keys and values**"
   ]
  },
  {
   "cell_type": "markdown",
   "metadata": {},
   "source": [
    "> **creating dictionary: the first value is \"key\" and the second one is \"value\"**"
   ]
  },
  {
   "cell_type": "code",
   "execution_count": 11,
   "metadata": {},
   "outputs": [],
   "source": [
    "student_info={'name':'Hulk','SAT_Score':760}"
   ]
  },
  {
   "cell_type": "code",
   "execution_count": 12,
   "metadata": {},
   "outputs": [
    {
     "data": {
      "text/plain": [
       "{'name': 'Hulk', 'SAT_Score': 760}"
      ]
     },
     "execution_count": 12,
     "metadata": {},
     "output_type": "execute_result"
    }
   ],
   "source": [
    "student_info"
   ]
  },
  {
   "cell_type": "code",
   "execution_count": 13,
   "metadata": {},
   "outputs": [
    {
     "data": {
      "text/plain": [
       "dict"
      ]
     },
     "execution_count": 13,
     "metadata": {},
     "output_type": "execute_result"
    }
   ],
   "source": [
    "type(student_info)"
   ]
  },
  {
   "cell_type": "markdown",
   "metadata": {},
   "source": [
    "> **example below shows that no duplicated keys are allowed. name was re-written into Aram instead of Hulk**"
   ]
  },
  {
   "cell_type": "code",
   "execution_count": 14,
   "metadata": {},
   "outputs": [
    {
     "data": {
      "text/plain": [
       "{'name': 'Aram', 'SAT_Score': 760}"
      ]
     },
     "execution_count": 14,
     "metadata": {},
     "output_type": "execute_result"
    }
   ],
   "source": [
    "student_info={'name':'Hulk','SAT_Score':760,'name':'Aram'}\n",
    "student_info"
   ]
  },
  {
   "cell_type": "markdown",
   "metadata": {},
   "source": [
    "> **if you wish to assign multiple values to a key, you need to use <code>[]</code> as example below shows**"
   ]
  },
  {
   "cell_type": "code",
   "execution_count": 15,
   "metadata": {},
   "outputs": [
    {
     "data": {
      "text/plain": [
       "{'name': ['Hulk', 'Aram'], 'SAT_Score': [760, 520]}"
      ]
     },
     "execution_count": 15,
     "metadata": {},
     "output_type": "execute_result"
    }
   ],
   "source": [
    "student_info={'name':['Hulk','Aram'],'SAT_Score':[760,520]}\n",
    "student_info"
   ]
  },
  {
   "cell_type": "markdown",
   "metadata": {},
   "source": [
    "> **printing the items of a dictionary by using <code>items()</code>**"
   ]
  },
  {
   "cell_type": "code",
   "execution_count": 16,
   "metadata": {},
   "outputs": [
    {
     "data": {
      "text/plain": [
       "dict_items([('name', ['Hulk', 'Aram']), ('SAT_Score', [760, 520])])"
      ]
     },
     "execution_count": 16,
     "metadata": {},
     "output_type": "execute_result"
    }
   ],
   "source": [
    "student_info.items()"
   ]
  },
  {
   "cell_type": "markdown",
   "metadata": {},
   "source": [
    "> **removing name key w/ its values by using <code>pop()</code> method**"
   ]
  },
  {
   "cell_type": "code",
   "execution_count": 17,
   "metadata": {},
   "outputs": [
    {
     "name": "stdout",
     "output_type": "stream",
     "text": [
      "{'SAT_Score': [760, 520]}\n"
     ]
    }
   ],
   "source": [
    "student_info={'name':['Hulk','Aram'],'SAT_Score':[760,520]}\n",
    "student_info.pop('name')\n",
    "print(student_info)"
   ]
  },
  {
   "cell_type": "code",
   "execution_count": 18,
   "metadata": {},
   "outputs": [
    {
     "name": "stdout",
     "output_type": "stream",
     "text": [
      "{'SAT_Score': [760, 520], 'name': 'Aram'}\n"
     ]
    }
   ],
   "source": [
    "student_info['name']='Aram'\n",
    "print(student_info)"
   ]
  },
  {
   "cell_type": "markdown",
   "metadata": {},
   "source": [
    "> if you want to change only the first value of name key, you need to use indexing "
   ]
  },
  {
   "cell_type": "code",
   "execution_count": 19,
   "metadata": {},
   "outputs": [
    {
     "name": "stdout",
     "output_type": "stream",
     "text": [
      "{'name': ['Hayk', 'Aram'], 'SAT_Score': [760, 520]}\n"
     ]
    }
   ],
   "source": [
    "student_info={'name':['Hulk','Aram'],'SAT_Score':[760,520]}\n",
    "student_info['name'][0]='Hayk'\n",
    "print(student_info)"
   ]
  },
  {
   "cell_type": "code",
   "execution_count": 20,
   "metadata": {},
   "outputs": [
    {
     "data": {
      "text/plain": [
       "{}"
      ]
     },
     "execution_count": 20,
     "metadata": {},
     "output_type": "execute_result"
    }
   ],
   "source": [
    "#clearing all items in the dictionary\n",
    "student_info.clear()\n",
    "student_info"
   ]
  },
  {
   "cell_type": "code",
   "execution_count": 21,
   "metadata": {},
   "outputs": [],
   "source": [
    "#creating an empty list\n",
    "l_empty=[]"
   ]
  },
  {
   "cell_type": "code",
   "execution_count": 22,
   "metadata": {},
   "outputs": [
    {
     "data": {
      "text/plain": [
       "list"
      ]
     },
     "execution_count": 22,
     "metadata": {},
     "output_type": "execute_result"
    }
   ],
   "source": [
    "type(l_empty)"
   ]
  },
  {
   "cell_type": "markdown",
   "metadata": {},
   "source": [
    "**Task 1. What will be the output of ?**\n",
    "\n",
    "tuple_a = 5, 10\n",
    "tuple_b = (5, 10)\n",
    "\n",
    "Check the equality between tuple_a and tuple_b. What is the output? \n",
    "\n",
    "\n",
    "**Task 2. Create a dictionary where keys are names and surnames of your five classmates.**\n"
   ]
  },
  {
   "cell_type": "code",
   "execution_count": 23,
   "metadata": {},
   "outputs": [
    {
     "data": {
      "text/plain": [
       "True"
      ]
     },
     "execution_count": 23,
     "metadata": {},
     "output_type": "execute_result"
    }
   ],
   "source": [
    "#solution - task 1\n",
    "tuple_a = 5, 10 \n",
    "tuple_b = (5, 10)\n",
    "tuple_a==tuple_b"
   ]
  },
  {
   "cell_type": "code",
   "execution_count": 24,
   "metadata": {},
   "outputs": [
    {
     "name": "stdout",
     "output_type": "stream",
     "text": [
      "{'name of student': ['S1', 'S2'], 'surname': ['Syan1', 'Syan2']}\n"
     ]
    }
   ],
   "source": [
    "#solution - task 2\n",
    "students={\"name of student\":['S1','S2'],\"surname\":['Syan1','Syan2']}\n",
    "print(students)"
   ]
  },
  {
   "cell_type": "markdown",
   "metadata": {},
   "source": [
    "# Set"
   ]
  },
  {
   "cell_type": "markdown",
   "metadata": {},
   "source": [
    "A set is a collection which is **unordered and unindexed**. In Python sets are written with curly brackets - {}. It has only **unique values**, duplicates are NOT allowed. For example, sets can be used to remove duplicates."
   ]
  },
  {
   "cell_type": "code",
   "execution_count": 25,
   "metadata": {},
   "outputs": [],
   "source": [
    "#definig a set\n",
    "set_one={'TOEFL',\"SAT\",\"GMat\"}"
   ]
  },
  {
   "cell_type": "code",
   "execution_count": 26,
   "metadata": {},
   "outputs": [
    {
     "data": {
      "text/plain": [
       "set"
      ]
     },
     "execution_count": 26,
     "metadata": {},
     "output_type": "execute_result"
    }
   ],
   "source": [
    "type(set_one)"
   ]
  },
  {
   "cell_type": "markdown",
   "metadata": {},
   "source": [
    "> **the code blow returns error because set doesn't allow to use indexes to extract values**"
   ]
  },
  {
   "cell_type": "code",
   "execution_count": 27,
   "metadata": {},
   "outputs": [
    {
     "ename": "TypeError",
     "evalue": "'set' object is not subscriptable",
     "output_type": "error",
     "traceback": [
      "\u001b[1;31m---------------------------------------------------------------------------\u001b[0m",
      "\u001b[1;31mTypeError\u001b[0m                                 Traceback (most recent call last)",
      "\u001b[1;32mC:\\Users\\PSARGS~1\\AppData\\Local\\Temp/ipykernel_22396/557078380.py\u001b[0m in \u001b[0;36m<module>\u001b[1;34m\u001b[0m\n\u001b[1;32m----> 1\u001b[1;33m \u001b[0mset_one\u001b[0m\u001b[1;33m[\u001b[0m\u001b[1;36m0\u001b[0m\u001b[1;33m]\u001b[0m\u001b[1;33m\u001b[0m\u001b[1;33m\u001b[0m\u001b[0m\n\u001b[0m",
      "\u001b[1;31mTypeError\u001b[0m: 'set' object is not subscriptable"
     ]
    }
   ],
   "source": [
    "set_one[0]"
   ]
  },
  {
   "cell_type": "markdown",
   "metadata": {},
   "source": [
    "> **adding a new value to the set**"
   ]
  },
  {
   "cell_type": "code",
   "execution_count": 28,
   "metadata": {},
   "outputs": [
    {
     "data": {
      "text/plain": [
       "{'GMat', 'IELTS', 'SAT', 'TOEFL'}"
      ]
     },
     "execution_count": 28,
     "metadata": {},
     "output_type": "execute_result"
    }
   ],
   "source": [
    "set_one.add('IELTS')\n",
    "set_one"
   ]
  },
  {
   "cell_type": "markdown",
   "metadata": {},
   "source": [
    "**Task 1**\n",
    "\n",
    "By using “in” operator, check whether the word “Taggart” is included in the following set: characters={‘Taggart’,’Francisco’,’Ragnar’}\n",
    "\n",
    "**Task 2**\n",
    "Check length of the following list: numbers=[1,1,3,4,4,4,6,8,8,12,11,11,8,9].\n",
    "\n",
    "How many unique values does the list contain? Get only unique values of the list. \n"
   ]
  },
  {
   "cell_type": "code",
   "execution_count": 29,
   "metadata": {},
   "outputs": [
    {
     "data": {
      "text/plain": [
       "False"
      ]
     },
     "execution_count": 29,
     "metadata": {},
     "output_type": "execute_result"
    }
   ],
   "source": [
    "#Solution - task 1\n",
    "characters={'Taggart','Francisco','Ragnar'}\n",
    "'Anna' in characters"
   ]
  },
  {
   "cell_type": "code",
   "execution_count": 30,
   "metadata": {},
   "outputs": [
    {
     "name": "stdout",
     "output_type": "stream",
     "text": [
      "Original length 14\n",
      "Final length 8\n"
     ]
    }
   ],
   "source": [
    "#Solution - task 2\n",
    "numbers=[1,1,3,4,4,4,6,8,8,12,11,11,8,9]\n",
    "print(\"Original length\", len(numbers))\n",
    "print(\"Final length\",len(set(numbers)))"
   ]
  },
  {
   "cell_type": "code",
   "execution_count": 31,
   "metadata": {},
   "outputs": [],
   "source": [
    "characters_list=list({'Taggart','Francisco','Ragnar'})\n",
    "age_charct=[32,40,45]"
   ]
  },
  {
   "cell_type": "code",
   "execution_count": 32,
   "metadata": {},
   "outputs": [
    {
     "name": "stdout",
     "output_type": "stream",
     "text": [
      "['Francisco', 'Taggart', 'Ragnar']\n",
      "[32, 40, 45]\n"
     ]
    }
   ],
   "source": [
    "print(characters_list)\n",
    "print(age_charct)"
   ]
  },
  {
   "cell_type": "markdown",
   "metadata": {},
   "source": [
    "> **creating a dictionary by using <code> zip() </code> function that pairs the iterators inside it**"
   ]
  },
  {
   "cell_type": "code",
   "execution_count": 33,
   "metadata": {},
   "outputs": [
    {
     "name": "stdout",
     "output_type": "stream",
     "text": [
      "{'Francisco': 32, 'Taggart': 40, 'Ragnar': 45}\n"
     ]
    }
   ],
   "source": [
    "print(dict(zip(characters_list,age_charct)))"
   ]
  },
  {
   "cell_type": "code",
   "execution_count": 34,
   "metadata": {},
   "outputs": [],
   "source": [
    "charac_tupl=(\"Ragnar\",32)\n",
    "charac_tupl_2=('Francisco', 40)"
   ]
  },
  {
   "cell_type": "markdown",
   "metadata": {},
   "source": [
    "> **creating a dictionary by using tuples**"
   ]
  },
  {
   "cell_type": "code",
   "execution_count": 35,
   "metadata": {},
   "outputs": [
    {
     "data": {
      "text/plain": [
       "{'Ragnar': 32, 'Francisco': 40}"
      ]
     },
     "execution_count": 35,
     "metadata": {},
     "output_type": "execute_result"
    }
   ],
   "source": [
    "dict([charac_tupl,charac_tupl_2])"
   ]
  },
  {
   "cell_type": "markdown",
   "metadata": {},
   "source": [
    "# Control Flow\n",
    "\n",
    "> In computer science, control flow is the order in which individual statements, instructions or function calls of an imperative program are executed or evaluated.\n",
    "\n",
    "- for and while loops\n",
    "- conditional statements\n",
    "\n",
    "https://datascienceparichay.com/wp-content/uploads/2020/08/conditional.png.webp - IF structure\n",
    "\n",
    "https://datascienceparichay.com/wp-content/uploads/2020/08/loop.png.webp - LOOPs"
   ]
  },
  {
   "cell_type": "markdown",
   "metadata": {},
   "source": [
    "## For Loop\n",
    "\n",
    "> Another feature of Python programming language are **loops**, the idea of which is looping, i.e. doing something multiple times. Simplest loop  that we can automate is printing numbers:"
   ]
  },
  {
   "cell_type": "code",
   "execution_count": 36,
   "metadata": {},
   "outputs": [
    {
     "name": "stdout",
     "output_type": "stream",
     "text": [
      "1\n",
      "2\n",
      "3\n",
      "4\n",
      "5\n",
      "6\n"
     ]
    }
   ],
   "source": [
    "print(1)\n",
    "print(2)\n",
    "print(3)\n",
    "print(4)\n",
    "print(5)\n",
    "print(6)"
   ]
  },
  {
   "cell_type": "code",
   "execution_count": 37,
   "metadata": {},
   "outputs": [],
   "source": [
    "#list of numbers\n",
    "num=[1,2,3,4,5,6]"
   ]
  },
  {
   "cell_type": "code",
   "execution_count": 38,
   "metadata": {},
   "outputs": [
    {
     "name": "stdout",
     "output_type": "stream",
     "text": [
      "1\n",
      "2\n",
      "3\n",
      "4\n",
      "5\n",
      "6\n"
     ]
    }
   ],
   "source": [
    "#using for loop we can execute a set of statements, once for each item in a list,dictionary, tuple etc.\n",
    "#using for loop to print each value in list\n",
    "for every_number in num:\n",
    "    print(every_number)"
   ]
  },
  {
   "cell_type": "markdown",
   "metadata": {},
   "source": [
    "> **use range() to create a list of numbers based on defined range**"
   ]
  },
  {
   "cell_type": "code",
   "execution_count": 39,
   "metadata": {},
   "outputs": [
    {
     "name": "stdout",
     "output_type": "stream",
     "text": [
      "100\n",
      "121\n",
      "144\n",
      "169\n",
      "196\n",
      "225\n"
     ]
    }
   ],
   "source": [
    "for i in range(10,16):\n",
    "    print(i**2)"
   ]
  },
  {
   "cell_type": "code",
   "execution_count": 40,
   "metadata": {},
   "outputs": [
    {
     "name": "stdout",
     "output_type": "stream",
     "text": [
      "0\n",
      "1\n",
      "4\n",
      "9\n",
      "16\n",
      "25\n",
      "36\n",
      "49\n",
      "64\n",
      "81\n",
      "100\n",
      "121\n",
      "144\n",
      "169\n",
      "196\n",
      "225\n"
     ]
    }
   ],
   "source": [
    "for i in range(16):\n",
    "    print(i**2)"
   ]
  },
  {
   "cell_type": "code",
   "execution_count": 41,
   "metadata": {},
   "outputs": [
    {
     "name": "stdout",
     "output_type": "stream",
     "text": [
      "The square if 0 is 0\n",
      "The square if 1 is 1\n",
      "The square if 2 is 4\n",
      "The square if 3 is 9\n",
      "The square if 4 is 16\n",
      "The square if 5 is 25\n",
      "The square if 6 is 36\n",
      "The square if 7 is 49\n",
      "The square if 8 is 64\n",
      "The square if 9 is 81\n",
      "The square if 10 is 100\n",
      "The square if 11 is 121\n",
      "The square if 12 is 144\n",
      "The square if 13 is 169\n",
      "The square if 14 is 196\n",
      "The square if 15 is 225\n"
     ]
    }
   ],
   "source": [
    "for i in range(16):\n",
    "    print(f\"The square if {i} is {i**2}\")"
   ]
  },
  {
   "cell_type": "markdown",
   "metadata": {},
   "source": [
    "# While Loop\n",
    "\n",
    "While loop is doing the following:\n",
    "- Evaluate the condition, yielding True or False.\n",
    "- If the condition is false, exit the while statement and continue execution at the next statement.\n",
    "- If the condition is true, execute the body and then go back to step 1."
   ]
  },
  {
   "cell_type": "code",
   "execution_count": 42,
   "metadata": {},
   "outputs": [
    {
     "name": "stdout",
     "output_type": "stream",
     "text": [
      "5\n",
      "7\n",
      "9\n",
      "11\n",
      "13\n",
      "15\n",
      "17\n",
      "19\n",
      "21\n"
     ]
    }
   ],
   "source": [
    "x=3\n",
    "while x<20:\n",
    "    x+=2\n",
    "    print(x)"
   ]
  },
  {
   "cell_type": "markdown",
   "metadata": {},
   "source": [
    "# IF Condition"
   ]
  },
  {
   "cell_type": "markdown",
   "metadata": {},
   "source": [
    "> **An if statement is a conditional statement that runs or skips code based on whether a condition is true or false. Here's a simple example.**\n",
    "\n",
    "> **if , else, elif conditions**"
   ]
  },
  {
   "cell_type": "code",
   "execution_count": 43,
   "metadata": {},
   "outputs": [
    {
     "name": "stdout",
     "output_type": "stream",
     "text": [
      "N is not positive\n"
     ]
    }
   ],
   "source": [
    "N=-100\n",
    "\n",
    "if N>0:\n",
    "    print('N is a positive number')\n",
    "else:\n",
    "    print(\"N is not positive\")"
   ]
  },
  {
   "cell_type": "code",
   "execution_count": 45,
   "metadata": {},
   "outputs": [
    {
     "name": "stdout",
     "output_type": "stream",
     "text": [
      "Please write any number: 100\n",
      "N is a positive number\n"
     ]
    }
   ],
   "source": [
    "N=float(input(\"Please write any number: \"))\n",
    "\n",
    "if N>0:\n",
    "    print('N is a positive number')\n",
    "elif N<0:\n",
    "    print(\"N is negative\")\n",
    "else:\n",
    "    print(\"N is 0\")"
   ]
  },
  {
   "cell_type": "code",
   "execution_count": 46,
   "metadata": {},
   "outputs": [
    {
     "data": {
      "text/plain": [
       "27"
      ]
     },
     "execution_count": 46,
     "metadata": {},
     "output_type": "execute_result"
    }
   ],
   "source": [
    "#python built in sum() function requires a list as an input\n",
    "sum([1,23,3])"
   ]
  },
  {
   "cell_type": "markdown",
   "metadata": {},
   "source": [
    "# Functions"
   ]
  },
  {
   "cell_type": "markdown",
   "metadata": {},
   "source": [
    "**A function definition includes several important parts.**\n",
    "\n",
    "- Function Header: Let's start with the function header, which is the first line of a function definition. The function header always starts with the def keyword, which indicates that this is a function definition.\n",
    "- Then comes the function name (here <code>summarise()</code> ), which follows the same naming conventions as variables (e.g. case-sensitive, should not start with number, etc). \n",
    "- Immediately after the name are parentheses that may include arguments separated by commas (here, x and y). Arguments, or parameters, are values that are passed in as inputs when the function is called, and are used in the function body. If a function doesn't take arguments, these parentheses are left empty.\n",
    "- The header always end with a colon <code>:</code>"
   ]
  },
  {
   "cell_type": "code",
   "execution_count": 47,
   "metadata": {},
   "outputs": [],
   "source": [
    "def summarise(x,y):\n",
    "    sum_num=x+y\n",
    "    return sum_num"
   ]
  },
  {
   "cell_type": "code",
   "execution_count": 48,
   "metadata": {},
   "outputs": [
    {
     "data": {
      "text/plain": [
       "3"
      ]
     },
     "execution_count": 48,
     "metadata": {},
     "output_type": "execute_result"
    }
   ],
   "source": [
    "summarise(1,2)"
   ]
  }
 ],
 "metadata": {
  "kernelspec": {
   "display_name": "Python 3 (ipykernel)",
   "language": "python",
   "name": "python3"
  },
  "language_info": {
   "codemirror_mode": {
    "name": "ipython",
    "version": 3
   },
   "file_extension": ".py",
   "mimetype": "text/x-python",
   "name": "python",
   "nbconvert_exporter": "python",
   "pygments_lexer": "ipython3",
   "version": "3.9.7"
  }
 },
 "nbformat": 4,
 "nbformat_minor": 2
}
